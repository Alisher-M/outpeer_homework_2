{
 "cells": [
  {
   "cell_type": "markdown",
   "id": "9249de46-1718-4df4-927a-12db11039b1b",
   "metadata": {},
   "source": [
    "## Задача - предсказать популярность песни\n",
    "\n",
    "по аудиофичам таким как - академические показатели, опыт работы итд."
   ]
  },
  {
   "cell_type": "markdown",
   "id": "8f6fae6f-6144-4f46-a2ae-ac654c295d68",
   "metadata": {},
   "source": [
    "### Шаг 1. Подготовка данных к машинному обучению.\n",
    "\n",
    "#### 1. Импорт библиотек\n",
    "#### 2. Импорт данных\n",
    "#### 3. Краткий анализ данных\n",
    "#### 4. Разделение данных для машинного обучения\n",
    "#### 5. Скейлинг данных\n",
    "#### 6. Кросс валидация"
   ]
  },
  {
   "cell_type": "markdown",
   "id": "837c823d-5ad5-4484-8853-60f925588a1b",
   "metadata": {},
   "source": [
    "#### 1. Импорт библиотек"
   ]
  },
  {
   "cell_type": "code",
   "execution_count": 31,
   "id": "2636fd7b-e7a9-4adc-a909-6245dfec2794",
   "metadata": {},
   "outputs": [],
   "source": [
    "import numpy as np\n",
    "import pandas as pd\n",
    "import matplotlib.pyplot as plt\n",
    "from sklearn.model_selection import train_test_split, KFold, cross_val_score\n",
    "from sklearn.compose import ColumnTransformer\n",
    "from sklearn.preprocessing import OneHotEncoder, OrdinalEncoder, LabelEncoder, MinMaxScaler, StandardScaler\n",
    "from sklearn.linear_model import LinearRegression, Ridge, Lasso\n",
    "from sklearn.neighbors import KNeighborsRegressor\n",
    "from sklearn.tree import DecisionTreeRegressor\n",
    "from sklearn.ensemble import RandomForestRegressor\n",
    "from sklearn.svm import SVR\n",
    "from sklearn.metrics import mean_absolute_error, mean_squared_error, r2_score\n",
    "from sklearn.compose import ColumnTransformer\n",
    "import optuna"
   ]
  },
  {
   "cell_type": "markdown",
   "id": "adfc2591-fef8-4a77-83bf-6b47c76234dd",
   "metadata": {},
   "source": [
    "#### 2. Импорт данных"
   ]
  },
  {
   "cell_type": "code",
   "execution_count": 32,
   "id": "aa9b5e0d-a146-446d-a261-e081c83ab5e2",
   "metadata": {},
   "outputs": [],
   "source": [
    "df_songs = pd.read_csv('song_data.csv')"
   ]
  },
  {
   "cell_type": "markdown",
   "id": "aec81061-506a-48d9-8df5-494a9d056828",
   "metadata": {},
   "source": [
    "#### 3. Краткий анализ данных"
   ]
  },
  {
   "cell_type": "code",
   "execution_count": 33,
   "id": "38d83557-0b82-4551-8e5c-5728468a68c5",
   "metadata": {},
   "outputs": [
    {
     "data": {
      "text/html": [
       "<div>\n",
       "<style scoped>\n",
       "    .dataframe tbody tr th:only-of-type {\n",
       "        vertical-align: middle;\n",
       "    }\n",
       "\n",
       "    .dataframe tbody tr th {\n",
       "        vertical-align: top;\n",
       "    }\n",
       "\n",
       "    .dataframe thead th {\n",
       "        text-align: right;\n",
       "    }\n",
       "</style>\n",
       "<table border=\"1\" class=\"dataframe\">\n",
       "  <thead>\n",
       "    <tr style=\"text-align: right;\">\n",
       "      <th></th>\n",
       "      <th>song_name</th>\n",
       "      <th>song_popularity</th>\n",
       "      <th>song_duration_ms</th>\n",
       "      <th>acousticness</th>\n",
       "      <th>danceability</th>\n",
       "      <th>energy</th>\n",
       "      <th>instrumentalness</th>\n",
       "      <th>key</th>\n",
       "      <th>liveness</th>\n",
       "      <th>loudness</th>\n",
       "      <th>audio_mode</th>\n",
       "      <th>speechiness</th>\n",
       "      <th>tempo</th>\n",
       "      <th>time_signature</th>\n",
       "      <th>audio_valence</th>\n",
       "    </tr>\n",
       "  </thead>\n",
       "  <tbody>\n",
       "    <tr>\n",
       "      <th>0</th>\n",
       "      <td>Boulevard of Broken Dreams</td>\n",
       "      <td>73</td>\n",
       "      <td>262333</td>\n",
       "      <td>0.005520</td>\n",
       "      <td>0.496</td>\n",
       "      <td>0.682</td>\n",
       "      <td>0.000029</td>\n",
       "      <td>8</td>\n",
       "      <td>0.0589</td>\n",
       "      <td>-4.095</td>\n",
       "      <td>1</td>\n",
       "      <td>0.0294</td>\n",
       "      <td>167.060</td>\n",
       "      <td>4</td>\n",
       "      <td>0.474</td>\n",
       "    </tr>\n",
       "    <tr>\n",
       "      <th>1</th>\n",
       "      <td>In The End</td>\n",
       "      <td>66</td>\n",
       "      <td>216933</td>\n",
       "      <td>0.010300</td>\n",
       "      <td>0.542</td>\n",
       "      <td>0.853</td>\n",
       "      <td>0.000000</td>\n",
       "      <td>3</td>\n",
       "      <td>0.1080</td>\n",
       "      <td>-6.407</td>\n",
       "      <td>0</td>\n",
       "      <td>0.0498</td>\n",
       "      <td>105.256</td>\n",
       "      <td>4</td>\n",
       "      <td>0.370</td>\n",
       "    </tr>\n",
       "    <tr>\n",
       "      <th>2</th>\n",
       "      <td>Seven Nation Army</td>\n",
       "      <td>76</td>\n",
       "      <td>231733</td>\n",
       "      <td>0.008170</td>\n",
       "      <td>0.737</td>\n",
       "      <td>0.463</td>\n",
       "      <td>0.447000</td>\n",
       "      <td>0</td>\n",
       "      <td>0.2550</td>\n",
       "      <td>-7.828</td>\n",
       "      <td>1</td>\n",
       "      <td>0.0792</td>\n",
       "      <td>123.881</td>\n",
       "      <td>4</td>\n",
       "      <td>0.324</td>\n",
       "    </tr>\n",
       "    <tr>\n",
       "      <th>3</th>\n",
       "      <td>By The Way</td>\n",
       "      <td>74</td>\n",
       "      <td>216933</td>\n",
       "      <td>0.026400</td>\n",
       "      <td>0.451</td>\n",
       "      <td>0.970</td>\n",
       "      <td>0.003550</td>\n",
       "      <td>0</td>\n",
       "      <td>0.1020</td>\n",
       "      <td>-4.938</td>\n",
       "      <td>1</td>\n",
       "      <td>0.1070</td>\n",
       "      <td>122.444</td>\n",
       "      <td>4</td>\n",
       "      <td>0.198</td>\n",
       "    </tr>\n",
       "    <tr>\n",
       "      <th>4</th>\n",
       "      <td>How You Remind Me</td>\n",
       "      <td>56</td>\n",
       "      <td>223826</td>\n",
       "      <td>0.000954</td>\n",
       "      <td>0.447</td>\n",
       "      <td>0.766</td>\n",
       "      <td>0.000000</td>\n",
       "      <td>10</td>\n",
       "      <td>0.1130</td>\n",
       "      <td>-5.065</td>\n",
       "      <td>1</td>\n",
       "      <td>0.0313</td>\n",
       "      <td>172.011</td>\n",
       "      <td>4</td>\n",
       "      <td>0.574</td>\n",
       "    </tr>\n",
       "  </tbody>\n",
       "</table>\n",
       "</div>"
      ],
      "text/plain": [
       "                    song_name  song_popularity  song_duration_ms  \\\n",
       "0  Boulevard of Broken Dreams               73            262333   \n",
       "1                  In The End               66            216933   \n",
       "2           Seven Nation Army               76            231733   \n",
       "3                  By The Way               74            216933   \n",
       "4           How You Remind Me               56            223826   \n",
       "\n",
       "   acousticness  danceability  energy  instrumentalness  key  liveness  \\\n",
       "0      0.005520         0.496   0.682          0.000029    8    0.0589   \n",
       "1      0.010300         0.542   0.853          0.000000    3    0.1080   \n",
       "2      0.008170         0.737   0.463          0.447000    0    0.2550   \n",
       "3      0.026400         0.451   0.970          0.003550    0    0.1020   \n",
       "4      0.000954         0.447   0.766          0.000000   10    0.1130   \n",
       "\n",
       "   loudness  audio_mode  speechiness    tempo  time_signature  audio_valence  \n",
       "0    -4.095           1       0.0294  167.060               4          0.474  \n",
       "1    -6.407           0       0.0498  105.256               4          0.370  \n",
       "2    -7.828           1       0.0792  123.881               4          0.324  \n",
       "3    -4.938           1       0.1070  122.444               4          0.198  \n",
       "4    -5.065           1       0.0313  172.011               4          0.574  "
      ]
     },
     "execution_count": 33,
     "metadata": {},
     "output_type": "execute_result"
    }
   ],
   "source": [
    "df_songs.head()"
   ]
  },
  {
   "cell_type": "code",
   "execution_count": 34,
   "id": "c77096b3-5736-4c0a-bdbf-ec3b39d96c2e",
   "metadata": {},
   "outputs": [
    {
     "name": "stdout",
     "output_type": "stream",
     "text": [
      "<class 'pandas.core.frame.DataFrame'>\n",
      "RangeIndex: 18835 entries, 0 to 18834\n",
      "Data columns (total 15 columns):\n",
      " #   Column            Non-Null Count  Dtype  \n",
      "---  ------            --------------  -----  \n",
      " 0   song_name         18835 non-null  object \n",
      " 1   song_popularity   18835 non-null  int64  \n",
      " 2   song_duration_ms  18835 non-null  int64  \n",
      " 3   acousticness      18835 non-null  float64\n",
      " 4   danceability      18835 non-null  float64\n",
      " 5   energy            18835 non-null  float64\n",
      " 6   instrumentalness  18835 non-null  float64\n",
      " 7   key               18835 non-null  int64  \n",
      " 8   liveness          18835 non-null  float64\n",
      " 9   loudness          18835 non-null  float64\n",
      " 10  audio_mode        18835 non-null  int64  \n",
      " 11  speechiness       18835 non-null  float64\n",
      " 12  tempo             18835 non-null  float64\n",
      " 13  time_signature    18835 non-null  int64  \n",
      " 14  audio_valence     18835 non-null  float64\n",
      "dtypes: float64(9), int64(5), object(1)\n",
      "memory usage: 2.2+ MB\n"
     ]
    }
   ],
   "source": [
    "df_songs.info()"
   ]
  },
  {
   "cell_type": "code",
   "execution_count": 35,
   "id": "92d1216a-f9e7-445a-bf37-4dba7ad548de",
   "metadata": {},
   "outputs": [],
   "source": [
    "X = df_songs.drop(['song_popularity'], axis=1)\n",
    "y = df_songs['song_popularity']"
   ]
  },
  {
   "cell_type": "code",
   "execution_count": 36,
   "id": "e7f73fff-db45-4e58-a280-3d83c9809773",
   "metadata": {},
   "outputs": [],
   "source": [
    "X_train, X_test, y_train, y_test = train_test_split(X, y, test_size=0.2, random_state=42)"
   ]
  },
  {
   "cell_type": "code",
   "execution_count": 37,
   "id": "999620fb-b99f-42aa-8b80-ef36cfa520dd",
   "metadata": {},
   "outputs": [
    {
     "name": "stdout",
     "output_type": "stream",
     "text": [
      "14\n"
     ]
    }
   ],
   "source": [
    "print(len(df_songs.columns) -1)"
   ]
  },
  {
   "cell_type": "code",
   "execution_count": 8,
   "id": "ce916e32-cbf0-4f4e-94d9-a4b5e45c008f",
   "metadata": {},
   "outputs": [
    {
     "data": {
      "image/png": "[encoded data removed]",
      "text/plain": [
       "<Figure size 640x480 with 15 Axes>"
      ]
     },
     "metadata": {},
     "output_type": "display_data"
    }
   ],
   "source": [
    "df_songs.plot(kind = 'bar', subplots = True, layout=(5,3))\n",
    "plt.show()"
   ]
  },
  {
   "cell_type": "markdown",
   "id": "700f572a-732b-47f6-b123-35961048d052",
   "metadata": {},
   "source": [
    "#### Ни 1 фича не следует нормальному распределению, нужно использовать MinMaxScaler()"
   ]
  },
  {
   "cell_type": "code",
   "execution_count": 38,
   "id": "eed2b487-aa55-4a48-9b13-ef9b9eb76782",
   "metadata": {},
   "outputs": [
    {
     "data": {
      "text/plain": [
       "Index(['song_name', 'song_popularity', 'song_duration_ms', 'acousticness',\n",
       "       'danceability', 'energy', 'instrumentalness', 'key', 'liveness',\n",
       "       'loudness', 'audio_mode', 'speechiness', 'tempo', 'time_signature',\n",
       "       'audio_valence'],\n",
       "      dtype='object')"
      ]
     },
     "execution_count": 38,
     "metadata": {},
     "output_type": "execute_result"
    }
   ],
   "source": [
    "df_songs.columns"
   ]
  },
  {
   "cell_type": "markdown",
   "id": "da6e6efd-6550-4284-bd0e-7d732c2aed36",
   "metadata": {},
   "source": [
    "#### 4. Разделение данных для машинного обучения"
   ]
  },
  {
   "cell_type": "code",
   "execution_count": 39,
   "id": "de51c590-13f4-40bc-a597-1a54c49f55c6",
   "metadata": {},
   "outputs": [],
   "source": [
    "X_train_encoded = preprosses.fit_transform(X_train)\n",
    "X_test_encoded = preprosses.transform(X_test)"
   ]
  },
  {
   "cell_type": "markdown",
   "id": "b521409c-e849-4eeb-ba27-cb27c5b1ff9d",
   "metadata": {},
   "source": [
    "#### 5. Скейлинг данных"
   ]
  },
  {
   "cell_type": "code",
   "execution_count": 40,
   "id": "dfdb96c4-e5f5-408f-8831-d5d7203eb415",
   "metadata": {},
   "outputs": [],
   "source": [
    "numerical = ['song_duration_ms', 'acousticness',\n",
    "       'danceability', 'energy', 'instrumentalness', 'key', 'liveness',\n",
    "       'loudness', 'audio_mode', 'speechiness', 'tempo', 'time_signature',\n",
    "       'audio_valence']\n",
    "\n",
    "preprosses = ColumnTransformer(\n",
    "    transformers=[\n",
    "        ('cat', OneHotEncoder(handle_unknown='ignore'), ['song_name']),\n",
    "        ('num', MinMaxScaler(), numerical),\n",
    "    ]\n",
    ")"
   ]
  },
  {
   "cell_type": "markdown",
   "id": "99eb003a-d7ba-4640-a7bf-ecd7fadc5891",
   "metadata": {},
   "source": [
    "#### 6. Кросс валидация"
   ]
  },
  {
   "cell_type": "code",
   "execution_count": 41,
   "id": "dc0faddf-66cc-48d4-bdd6-c1b8d8fc1e56",
   "metadata": {},
   "outputs": [
    {
     "name": "stdout",
     "output_type": "stream",
     "text": [
      "--- Результаты кросс-валидации ---\n",
      "Оценки по каждому фолду: [0.23324151 0.22247789 0.26534868 0.25692796 0.24362775]\n",
      "Средняя точность кросс-валидации: 0.2443\n",
      "Стандартное отклонение оценок: 0.0155\n"
     ]
    }
   ],
   "source": [
    "kfold = KFold(n_splits=5, shuffle=True, random_state=42)\n",
    "model = LinearRegression()\n",
    "scores = cross_val_score(model, X_train_encoded, y_train, cv=kfold)\n",
    "\n",
    "print(\"--- Результаты кросс-валидации ---\")\n",
    "print(f\"Оценки по каждому фолду: {scores}\")\n",
    "print(f\"Средняя точность кросс-валидации: {scores.mean():.4f}\")\n",
    "print(f\"Стандартное отклонение оценок: {scores.std():.4f}\")"
   ]
  },
  {
   "cell_type": "markdown",
   "id": "b41ac10c-354e-4f85-9991-9ae85e1cd9fa",
   "metadata": {},
   "source": [
    "### Шаг 2. Применение алгоритмов машинного обучения\n",
    "\n",
    "#### 1. Линейная регрессия как baseline для дальнейшей оценки перформанса других моделей.\n",
    "#### 2. Hyperparameter tuning и поиск оптимальных параметров для алгоритмов - \"Ridge\", \"Lasso\", \"kNN\", \"DecisionTree\", \"RandomForest\" . (для tuninga других моделей не хватило вычислительной мощности)\n",
    "#### 3. Запуск алгоритмов с лучшими параметрами найденными через hyperparameter tuning.\n",
    "#### 4. Анализ метрик MAE, MSE, RMSE, R2.\n",
    "#### 5. Выводы"
   ]
  },
  {
   "cell_type": "markdown",
   "id": "48f1a588-4aa6-431a-92c4-25b0c9fe2e66",
   "metadata": {},
   "source": [
    "#### 1. Линейная регрессия как baseline для дальнейшей оценки перформанса других моделей."
   ]
  },
  {
   "cell_type": "code",
   "execution_count": 49,
   "id": "f080fe85-5cbd-449f-8db0-5438c9027299",
   "metadata": {},
   "outputs": [
    {
     "name": "stdout",
     "output_type": "stream",
     "text": [
      "MAE: 12.803899497287775\n",
      "MSE: 355.9872837022092\n",
      "RMSE: 18.867625279886422\n",
      "R2: 0.2615546805682034\n"
     ]
    }
   ],
   "source": [
    "model = LinearRegression()\n",
    "model.fit(X_train_encoded, y_train)\n",
    "\n",
    "y_pred_lr = model.predict(X_test_encoded)\n",
    "\n",
    "print(f'MAE: {mean_absolute_error(y_test, y_pred_lr)}')\n",
    "print(f'MSE: {mean_squared_error(y_test, y_pred_lr)}')\n",
    "print(f'RMSE: {np.sqrt(mean_squared_error(y_test, y_pred_lr))}')\n",
    "print(f'R2: {r2_score(y_test, y_pred_lr)}')"
   ]
  },
  {
   "cell_type": "markdown",
   "id": "7665f0d6-e783-4d8a-9c19-0847a2e5da49",
   "metadata": {},
   "source": [
    "#### 2. Hyperparameter tuning и поиск оптимальных параметров для алгоритмов - \"Ridge\", \"Lasso\", \"kNN\", \"DecisionTree\", \"RandomForest\" . (для tuninga других моделей не хватило вычислительной мощности)"
   ]
  },
  {
   "cell_type": "code",
   "execution_count": 42,
   "id": "e93e76d6-0280-4ca7-ab31-d80c437bf452",
   "metadata": {},
   "outputs": [],
   "source": [
    "def objective(trial,model_name):\n",
    "\n",
    "    if model_name == \"Ridge\":\n",
    "        params = {\n",
    "            'alpha': trial.suggest_float('alpha', 0, 100),\n",
    "            'max_iter': trial.suggest_int('max_iter', 1, 1000),\n",
    "            'solver': trial.suggest_categorical('solver', ['auto', 'lsqr', 'sparse_cg', 'sag']) \n",
    "        }\n",
    "        model = Ridge(**params)\n",
    "\n",
    "    elif model_name == \"Lasso\":\n",
    "        params = {\n",
    "            'alpha': trial.suggest_float('alpha', 0, 100),\n",
    "            'max_iter': trial.suggest_int('max_iter', 1, 1000),\n",
    "            'selection': trial.suggest_categorical('selection', ['cyclic', 'random'])\n",
    "        }\n",
    "        model = Lasso(**params)\n",
    "\n",
    "    elif model_name == \"kNN\":\n",
    "        params = {\n",
    "            'n_neighbors': trial.suggest_int('n_neighbors', 3, 50),\n",
    "            'weights': trial.suggest_categorical('weights', ['uniform', 'distance']),\n",
    "            'p': trial.suggest_int('p', 1, 2) # 1 for Manhattan, 2 for Euclidean\n",
    "        }\n",
    "        model = KNeighborsRegressor(**params)\n",
    "\n",
    "    elif model_name == \"SVM\":\n",
    "        params = {\n",
    "            'C': trial.suggest_float('C', 1, 1e4, log=True),\n",
    "            'kernel': trial.suggest_categorical('kernel', ['linear', 'poly', 'rbf', 'sigmoid', 'precomputed']),\n",
    "        }\n",
    "        if params['kernel'] == 'rbf' or params['kernel'] == 'poly':\n",
    "            params['gamma'] = trial.suggest_float('gamma', 1, 1e2, log=True)\n",
    "        if params['kernel'] == 'poly':\n",
    "            params['degree'] = trial.suggest_int('degree', 2, 5)\n",
    "\n",
    "        model = SVR(**params)\n",
    "\n",
    "    elif model_name == \"DecisionTree\":\n",
    "        params = {\n",
    "            'criterion': trial.suggest_categorical('criterion', ['squared_error', 'friedman_mse', 'absolute_error', 'poisson']),\n",
    "            'max_depth': trial.suggest_int('max_depth', 2, 32),\n",
    "            'min_samples_split': trial.suggest_int('min_samples_split', 2, 20),\n",
    "            'min_samples_leaf': trial.suggest_int('min_samples_leaf', 1, 20),\n",
    "        }\n",
    "        model = DecisionTreeRegressor(**params, random_state=42)\n",
    "\n",
    "    elif model_name == \"RandomForest\":\n",
    "        params = {\n",
    "            'n_estimators': trial.suggest_int('n_estimators', 50, 1000),\n",
    "            'max_depth': trial.suggest_int('max_depth', 4, 50),\n",
    "            'min_samples_split': trial.suggest_int('min_samples_split', 2, 20),\n",
    "            'min_samples_leaf': trial.suggest_int('min_samples_leaf', 1, 20),\n",
    "            'bootstrap': trial.suggest_categorical('bootstrap', [True, False])\n",
    "        }\n",
    "        model = RandomForestRegressor(**params, random_state=42, n_jobs=-1)\n",
    "\n",
    "    else:\n",
    "        raise ValueError(f\"Model {model_name} is not supported.\")\n",
    "\n",
    "    model.fit(X_train_encoded, y_train)\n",
    "    y_pred = model.predict(X_test_encoded)\n",
    "    rmse = np.sqrt(mean_squared_error(y_test, y_pred))\n",
    "    return rmse"
   ]
  },
  {
   "cell_type": "code",
   "execution_count": 14,
   "id": "add43ba1-a140-46bc-9abb-ad43ff3aad88",
   "metadata": {
    "scrolled": true
   },
   "outputs": [
    {
     "name": "stderr",
     "output_type": "stream",
     "text": [
      "[I 2025-09-21 15:21:58,225] A new study created in memory with name: no-name-70b6d77e-ff1d-4efe-b0ce-e18f62a9fd13\n",
      "[I 2025-09-21 15:21:58,269] Trial 0 finished with value: 18.22412248975725 and parameters: {'alpha': 0.6932462788550975, 'max_iter': 715, 'solver': 'auto'}. Best is trial 0 with value: 18.22412248975725.\n",
      "[I 2025-09-21 15:21:58,282] Trial 1 finished with value: 21.222024905855037 and parameters: {'alpha': 92.61867076847572, 'max_iter': 953, 'solver': 'auto'}. Best is trial 0 with value: 18.22412248975725.\n",
      "[I 2025-09-21 15:21:58,295] Trial 2 finished with value: 21.239487326869792 and parameters: {'alpha': 98.78170028500743, 'max_iter': 190, 'solver': 'sag'}. Best is trial 0 with value: 18.22412248975725.\n",
      "[I 2025-09-21 15:21:58,308] Trial 3 finished with value: 21.189367984503217 and parameters: {'alpha': 82.69841186645618, 'max_iter': 266, 'solver': 'lsqr'}. Best is trial 0 with value: 18.22412248975725.\n",
      "[I 2025-09-21 15:21:58,323] Trial 4 finished with value: 20.945723757036927 and parameters: {'alpha': 42.990523090701004, 'max_iter': 674, 'solver': 'sparse_cg'}. Best is trial 0 with value: 18.22412248975725.\n",
      "[I 2025-09-21 15:21:58,338] Trial 5 finished with value: 20.80313304685124 and parameters: {'alpha': 32.29479117119362, 'max_iter': 571, 'solver': 'sag'}. Best is trial 0 with value: 18.22412248975725.\n",
      "[I 2025-09-21 15:21:58,350] Trial 6 finished with value: 21.173092384240853 and parameters: {'alpha': 78.34897684638142, 'max_iter': 910, 'solver': 'sag'}. Best is trial 0 with value: 18.22412248975725.\n",
      "[I 2025-09-21 15:21:58,368] Trial 7 finished with value: 20.52699080832181 and parameters: {'alpha': 20.553146423821634, 'max_iter': 752, 'solver': 'auto'}. Best is trial 0 with value: 18.22412248975725.\n",
      "[I 2025-09-21 15:21:58,383] Trial 8 finished with value: 21.006504370725853 and parameters: {'alpha': 49.39980227793662, 'max_iter': 316, 'solver': 'sparse_cg'}. Best is trial 0 with value: 18.22412248975725.\n",
      "[I 2025-09-21 15:21:58,398] Trial 9 finished with value: 20.88613712387182 and parameters: {'alpha': 37.919410589293534, 'max_iter': 775, 'solver': 'sag'}. Best is trial 0 with value: 18.22412248975725.\n",
      "[I 2025-09-21 15:21:58,427] Trial 10 finished with value: 18.514887233638145 and parameters: {'alpha': 1.7296142132726402, 'max_iter': 41, 'solver': 'auto'}. Best is trial 0 with value: 18.22412248975725.\n"
     ]
    },
    {
     "name": "stdout",
     "output_type": "stream",
     "text": [
      "🚀 Starting optimization for: Ridge\n"
     ]
    },
    {
     "name": "stderr",
     "output_type": "stream",
     "text": [
      "[I 2025-09-21 15:21:58,451] Trial 11 finished with value: 18.268769818636297 and parameters: {'alpha': 0.28068544546610175, 'max_iter': 24, 'solver': 'auto'}. Best is trial 0 with value: 18.22412248975725.\n",
      "[I 2025-09-21 15:21:58,475] Trial 12 finished with value: 18.84016163991087 and parameters: {'alpha': 2.790476471772976, 'max_iter': 457, 'solver': 'auto'}. Best is trial 0 with value: 18.22412248975725.\n",
      "[I 2025-09-21 15:21:58,493] Trial 13 finished with value: 20.42366823271437 and parameters: {'alpha': 17.744076351039816, 'max_iter': 473, 'solver': 'auto'}. Best is trial 0 with value: 18.22412248975725.\n",
      "[I 2025-09-21 15:21:58,505] Trial 14 finished with value: 21.10939603376189 and parameters: {'alpha': 64.63404545177322, 'max_iter': 100, 'solver': 'lsqr'}. Best is trial 0 with value: 18.22412248975725.\n",
      "[I 2025-09-21 15:21:58,523] Trial 15 finished with value: 20.386266894035614 and parameters: {'alpha': 16.86057217226125, 'max_iter': 578, 'solver': 'auto'}. Best is trial 0 with value: 18.22412248975725.\n",
      "[I 2025-09-21 15:21:58,566] Trial 16 finished with value: 18.352715143544998 and parameters: {'alpha': 0.1935590165261858, 'max_iter': 416, 'solver': 'auto'}. Best is trial 0 with value: 18.22412248975725.\n",
      "[I 2025-09-21 15:21:58,582] Trial 17 finished with value: 20.707952700184144 and parameters: {'alpha': 27.304625951626804, 'max_iter': 785, 'solver': 'auto'}. Best is trial 0 with value: 18.22412248975725.\n",
      "[I 2025-09-21 15:21:58,601] Trial 18 finished with value: 20.089317943336006 and parameters: {'alpha': 11.578060051035784, 'max_iter': 642, 'solver': 'sparse_cg'}. Best is trial 0 with value: 18.22412248975725.\n",
      "[I 2025-09-21 15:21:58,614] Trial 19 finished with value: 21.084031112119362 and parameters: {'alpha': 60.24215259454041, 'max_iter': 365, 'solver': 'lsqr'}. Best is trial 0 with value: 18.22412248975725.\n",
      "[I 2025-09-21 15:21:58,633] Trial 20 finished with value: 19.996532439240315 and parameters: {'alpha': 10.377731066585593, 'max_iter': 191, 'solver': 'auto'}. Best is trial 0 with value: 18.22412248975725.\n",
      "[I 2025-09-21 15:21:58,646] Trial 21 finished with value: 18.812196436323195 and parameters: {'alpha': 0.23701186307624866, 'max_iter': 12, 'solver': 'auto'}. Best is trial 0 with value: 18.22412248975725.\n",
      "[I 2025-09-21 15:21:58,668] Trial 22 finished with value: 19.860709931748925 and parameters: {'alpha': 8.881259533884164, 'max_iter': 850, 'solver': 'auto'}. Best is trial 0 with value: 18.22412248975725.\n",
      "[I 2025-09-21 15:21:58,683] Trial 23 finished with value: 20.652931334350978 and parameters: {'alpha': 24.939136433843714, 'max_iter': 149, 'solver': 'auto'}. Best is trial 0 with value: 18.22412248975725.\n",
      "[I 2025-09-21 15:21:58,704] Trial 24 finished with value: 19.781755926633537 and parameters: {'alpha': 8.128075854351659, 'max_iter': 380, 'solver': 'auto'}. Best is trial 0 with value: 18.22412248975725.\n",
      "[I 2025-09-21 15:21:58,722] Trial 25 finished with value: 20.3146253355056 and parameters: {'alpha': 15.33071315294064, 'max_iter': 548, 'solver': 'auto'}. Best is trial 0 with value: 18.22412248975725.\n",
      "[I 2025-09-21 15:21:58,768] Trial 26 finished with value: 18.425230447663978 and parameters: {'alpha': 0.13209322076489372, 'max_iter': 999, 'solver': 'auto'}. Best is trial 0 with value: 18.22412248975725.\n",
      "[I 2025-09-21 15:21:58,784] Trial 27 finished with value: 20.794476396257558 and parameters: {'alpha': 31.78454942203185, 'max_iter': 269, 'solver': 'sparse_cg'}. Best is trial 0 with value: 18.22412248975725.\n",
      "[I 2025-09-21 15:21:58,798] Trial 28 finished with value: 20.602542842977822 and parameters: {'alpha': 23.061089228306663, 'max_iter': 665, 'solver': 'lsqr'}. Best is trial 0 with value: 18.22412248975725.\n",
      "[I 2025-09-21 15:21:58,819] Trial 29 finished with value: 19.747630763057177 and parameters: {'alpha': 7.825212305500131, 'max_iter': 870, 'solver': 'auto'}. Best is trial 0 with value: 18.22412248975725.\n",
      "[I 2025-09-21 15:21:58,834] Trial 30 finished with value: 21.123882241457615 and parameters: {'alpha': 67.34038705335855, 'max_iter': 424, 'solver': 'auto'}. Best is trial 0 with value: 18.22412248975725.\n",
      "[I 2025-09-21 15:21:58,860] Trial 31 finished with value: 18.54737131531092 and parameters: {'alpha': 1.8289986251708825, 'max_iter': 933, 'solver': 'auto'}. Best is trial 0 with value: 18.22412248975725.\n",
      "[I 2025-09-21 15:21:58,903] Trial 32 finished with value: 18.426911938462 and parameters: {'alpha': 0.1309193102963988, 'max_iter': 973, 'solver': 'auto'}. Best is trial 0 with value: 18.22412248975725.\n",
      "[I 2025-09-21 15:21:58,923] Trial 33 finished with value: 20.12996283267644 and parameters: {'alpha': 12.158634126151378, 'max_iter': 988, 'solver': 'auto'}. Best is trial 0 with value: 18.22412248975725.\n",
      "[I 2025-09-21 15:21:58,943] Trial 34 finished with value: 19.58199967553237 and parameters: {'alpha': 6.520367503420824, 'max_iter': 704, 'solver': 'auto'}. Best is trial 0 with value: 18.22412248975725.\n",
      "[I 2025-09-21 15:21:58,961] Trial 35 finished with value: 20.35514873889218 and parameters: {'alpha': 16.171465391737016, 'max_iter': 829, 'solver': 'sag'}. Best is trial 0 with value: 18.22412248975725.\n",
      "[I 2025-09-21 15:21:58,973] Trial 36 finished with value: 21.234761469982463 and parameters: {'alpha': 97.07401385401396, 'max_iter': 613, 'solver': 'lsqr'}. Best is trial 0 with value: 18.22412248975725.\n",
      "[I 2025-09-21 15:21:58,998] Trial 37 finished with value: 19.430540937396593 and parameters: {'alpha': 5.524412777251499, 'max_iter': 263, 'solver': 'auto'}. Best is trial 0 with value: 18.22412248975725.\n",
      "[I 2025-09-21 15:21:59,012] Trial 38 finished with value: 21.175499340498803 and parameters: {'alpha': 78.96349020458118, 'max_iter': 726, 'solver': 'sparse_cg'}. Best is trial 0 with value: 18.22412248975725.\n",
      "[I 2025-09-21 15:21:59,026] Trial 39 finished with value: 21.20435070735759 and parameters: {'alpha': 87.00065078941792, 'max_iter': 513, 'solver': 'sag'}. Best is trial 0 with value: 18.22412248975725.\n",
      "[I 2025-09-21 15:21:59,042] Trial 40 finished with value: 20.954184893594235 and parameters: {'alpha': 43.7990888116411, 'max_iter': 210, 'solver': 'auto'}. Best is trial 0 with value: 18.22412248975725.\n",
      "[I 2025-09-21 15:21:59,068] Trial 41 finished with value: 19.0591813296773 and parameters: {'alpha': 3.643069712331247, 'max_iter': 979, 'solver': 'auto'}. Best is trial 0 with value: 18.22412248975725.\n",
      "[I 2025-09-21 15:21:59,109] Trial 42 finished with value: 18.218218425385782 and parameters: {'alpha': 0.5145354097773608, 'max_iter': 921, 'solver': 'auto'}. Best is trial 42 with value: 18.218218425385782.\n",
      "[I 2025-09-21 15:21:59,129] Trial 43 finished with value: 20.103559069940985 and parameters: {'alpha': 11.7773893742146, 'max_iter': 880, 'solver': 'auto'}. Best is trial 42 with value: 18.218218425385782.\n",
      "[I 2025-09-21 15:21:59,149] Trial 44 finished with value: 20.558041775899074 and parameters: {'alpha': 21.522279243800977, 'max_iter': 929, 'solver': 'auto'}. Best is trial 42 with value: 18.218218425385782.\n",
      "[I 2025-09-21 15:21:59,173] Trial 45 finished with value: 19.335157984965914 and parameters: {'alpha': 4.974758388875525, 'max_iter': 824, 'solver': 'sag'}. Best is trial 42 with value: 18.218218425385782.\n",
      "[I 2025-09-21 15:21:59,191] Trial 46 finished with value: 20.28656132744421 and parameters: {'alpha': 14.782888349672097, 'max_iter': 887, 'solver': 'auto'}. Best is trial 42 with value: 18.218218425385782.\n",
      "[I 2025-09-21 15:21:59,215] Trial 47 finished with value: 19.334531860913557 and parameters: {'alpha': 4.971313630749157, 'max_iter': 796, 'solver': 'auto'}. Best is trial 42 with value: 18.218218425385782.\n",
      "[I 2025-09-21 15:21:59,232] Trial 48 finished with value: 20.714816414947 and parameters: {'alpha': 27.6234309116984, 'max_iter': 88, 'solver': 'sparse_cg'}. Best is trial 42 with value: 18.218218425385782.\n",
      "[I 2025-09-21 15:21:59,251] Trial 49 finished with value: 20.461656139725438 and parameters: {'alpha': 18.709432995286182, 'max_iter': 748, 'solver': 'auto'}. Best is trial 42 with value: 18.218218425385782.\n",
      "[I 2025-09-21 15:21:59,251] A new study created in memory with name: no-name-7c1262af-686a-4a48-8f3d-b330a3d79c62\n",
      "[I 2025-09-21 15:21:59,322] Trial 0 finished with value: 21.958964404443307 and parameters: {'alpha': 37.77959473725878, 'max_iter': 215, 'selection': 'random'}. Best is trial 0 with value: 21.958964404443307.\n",
      "[I 2025-09-21 15:21:59,392] Trial 1 finished with value: 21.958964404443307 and parameters: {'alpha': 53.438056801884045, 'max_iter': 99, 'selection': 'random'}. Best is trial 0 with value: 21.958964404443307.\n"
     ]
    },
    {
     "name": "stdout",
     "output_type": "stream",
     "text": [
      "Optimization finished for: Ridge\n",
      "Best trial rmse: 18.2182\n",
      "Best parameters: {'alpha': 0.5145354097773608, 'max_iter': 921, 'solver': 'auto'}\n",
      "--------------------------------------------------\n",
      "\n",
      "Here are the best hyperparameters found for each model:\n",
      "\n",
      "Model: Ridge\n",
      "  Parameters: {'alpha': 0.5145354097773608, 'max_iter': 921, 'solver': 'auto'}\n",
      "🚀 Starting optimization for: Lasso\n"
     ]
    },
    {
     "name": "stderr",
     "output_type": "stream",
     "text": [
      "[I 2025-09-21 15:21:59,461] Trial 2 finished with value: 21.958964404443307 and parameters: {'alpha': 64.51279416942242, 'max_iter': 304, 'selection': 'random'}. Best is trial 0 with value: 21.958964404443307.\n",
      "[I 2025-09-21 15:21:59,530] Trial 3 finished with value: 21.958964404443307 and parameters: {'alpha': 56.52176052205753, 'max_iter': 377, 'selection': 'cyclic'}. Best is trial 0 with value: 21.958964404443307.\n",
      "[I 2025-09-21 15:21:59,600] Trial 4 finished with value: 21.958964404443307 and parameters: {'alpha': 39.62858642929831, 'max_iter': 260, 'selection': 'cyclic'}. Best is trial 0 with value: 21.958964404443307.\n",
      "[I 2025-09-21 15:21:59,669] Trial 5 finished with value: 21.958964404443307 and parameters: {'alpha': 82.30769314463784, 'max_iter': 411, 'selection': 'random'}. Best is trial 0 with value: 21.958964404443307.\n",
      "[I 2025-09-21 15:21:59,738] Trial 6 finished with value: 21.958964404443307 and parameters: {'alpha': 5.7890752700946235, 'max_iter': 589, 'selection': 'random'}. Best is trial 0 with value: 21.958964404443307.\n",
      "[I 2025-09-21 15:21:59,807] Trial 7 finished with value: 21.958964404443307 and parameters: {'alpha': 21.300431096523276, 'max_iter': 214, 'selection': 'cyclic'}. Best is trial 0 with value: 21.958964404443307.\n",
      "[I 2025-09-21 15:21:59,876] Trial 8 finished with value: 21.958964404443307 and parameters: {'alpha': 2.056616078669249, 'max_iter': 868, 'selection': 'random'}. Best is trial 0 with value: 21.958964404443307.\n",
      "[I 2025-09-21 15:21:59,945] Trial 9 finished with value: 21.958964404443307 and parameters: {'alpha': 71.08593168420252, 'max_iter': 799, 'selection': 'cyclic'}. Best is trial 0 with value: 21.958964404443307.\n",
      "[I 2025-09-21 15:22:00,016] Trial 10 finished with value: 21.958964404443307 and parameters: {'alpha': 98.17703149907315, 'max_iter': 12, 'selection': 'random'}. Best is trial 0 with value: 21.958964404443307.\n",
      "[I 2025-09-21 15:22:00,088] Trial 11 finished with value: 21.958964404443307 and parameters: {'alpha': 39.033611476744746, 'max_iter': 32, 'selection': 'random'}. Best is trial 0 with value: 21.958964404443307.\n",
      "[I 2025-09-21 15:22:00,162] Trial 12 finished with value: 21.958964404443307 and parameters: {'alpha': 38.92772341138169, 'max_iter': 154, 'selection': 'random'}. Best is trial 0 with value: 21.958964404443307.\n",
      "[I 2025-09-21 15:22:00,235] Trial 13 finished with value: 21.958964404443307 and parameters: {'alpha': 24.080068887961918, 'max_iter': 127, 'selection': 'random'}. Best is trial 0 with value: 21.958964404443307.\n",
      "[I 2025-09-21 15:22:00,306] Trial 14 finished with value: 21.958964404443307 and parameters: {'alpha': 51.10880913518663, 'max_iter': 535, 'selection': 'random'}. Best is trial 0 with value: 21.958964404443307.\n",
      "[I 2025-09-21 15:22:00,378] Trial 15 finished with value: 21.958964404443307 and parameters: {'alpha': 24.665022571889374, 'max_iter': 646, 'selection': 'random'}. Best is trial 0 with value: 21.958964404443307.\n",
      "[I 2025-09-21 15:22:00,450] Trial 16 finished with value: 21.958964404443307 and parameters: {'alpha': 80.56696527910222, 'max_iter': 123, 'selection': 'random'}. Best is trial 0 with value: 21.958964404443307.\n",
      "[I 2025-09-21 15:22:00,520] Trial 17 finished with value: 21.958964404443307 and parameters: {'alpha': 43.198259544010426, 'max_iter': 422, 'selection': 'random'}. Best is trial 0 with value: 21.958964404443307.\n",
      "[I 2025-09-21 15:22:00,591] Trial 18 finished with value: 21.958964404443307 and parameters: {'alpha': 57.25677588350472, 'max_iter': 697, 'selection': 'cyclic'}. Best is trial 0 with value: 21.958964404443307.\n",
      "[I 2025-09-21 15:22:00,663] Trial 19 finished with value: 21.958964404443307 and parameters: {'alpha': 29.23440575512942, 'max_iter': 979, 'selection': 'random'}. Best is trial 0 with value: 21.958964404443307.\n",
      "[I 2025-09-21 15:22:00,734] Trial 20 finished with value: 21.958964404443307 and parameters: {'alpha': 11.478305430649584, 'max_iter': 329, 'selection': 'random'}. Best is trial 0 with value: 21.958964404443307.\n",
      "[I 2025-09-21 15:22:00,806] Trial 21 finished with value: 21.958964404443307 and parameters: {'alpha': 66.20212570069478, 'max_iter': 279, 'selection': 'random'}. Best is trial 0 with value: 21.958964404443307.\n",
      "[I 2025-09-21 15:22:00,879] Trial 22 finished with value: 21.958964404443307 and parameters: {'alpha': 63.95160536287696, 'max_iter': 190, 'selection': 'random'}. Best is trial 0 with value: 21.958964404443307.\n",
      "[I 2025-09-21 15:22:00,951] Trial 23 finished with value: 21.958964404443307 and parameters: {'alpha': 48.77103726663041, 'max_iter': 66, 'selection': 'random'}. Best is trial 0 with value: 21.958964404443307.\n",
      "[I 2025-09-21 15:22:01,023] Trial 24 finished with value: 21.958964404443307 and parameters: {'alpha': 76.64830999551684, 'max_iter': 271, 'selection': 'random'}. Best is trial 0 with value: 21.958964404443307.\n",
      "[I 2025-09-21 15:22:01,094] Trial 25 finished with value: 21.958964404443307 and parameters: {'alpha': 94.23513076575281, 'max_iter': 478, 'selection': 'random'}. Best is trial 0 with value: 21.958964404443307.\n",
      "[I 2025-09-21 15:22:01,166] Trial 26 finished with value: 21.958964404443307 and parameters: {'alpha': 58.78740046927593, 'max_iter': 313, 'selection': 'cyclic'}. Best is trial 0 with value: 21.958964404443307.\n",
      "[I 2025-09-21 15:22:01,238] Trial 27 finished with value: 21.958964404443307 and parameters: {'alpha': 32.89604214730082, 'max_iter': 222, 'selection': 'random'}. Best is trial 0 with value: 21.958964404443307.\n",
      "[I 2025-09-21 15:22:01,310] Trial 28 finished with value: 21.958964404443307 and parameters: {'alpha': 47.7143773674773, 'max_iter': 100, 'selection': 'random'}. Best is trial 0 with value: 21.958964404443307.\n",
      "[I 2025-09-21 15:22:01,382] Trial 29 finished with value: 21.958964404443307 and parameters: {'alpha': 86.69627926499521, 'max_iter': 362, 'selection': 'cyclic'}. Best is trial 0 with value: 21.958964404443307.\n",
      "[I 2025-09-21 15:22:01,454] Trial 30 finished with value: 21.958964404443307 and parameters: {'alpha': 69.8485524511187, 'max_iter': 171, 'selection': 'random'}. Best is trial 0 with value: 21.958964404443307.\n",
      "[I 2025-09-21 15:22:01,525] Trial 31 finished with value: 21.958964404443307 and parameters: {'alpha': 56.61079287802954, 'max_iter': 442, 'selection': 'cyclic'}. Best is trial 0 with value: 21.958964404443307.\n",
      "[I 2025-09-21 15:22:01,596] Trial 32 finished with value: 21.958964404443307 and parameters: {'alpha': 52.674230764134606, 'max_iter': 383, 'selection': 'cyclic'}. Best is trial 0 with value: 21.958964404443307.\n",
      "[I 2025-09-21 15:22:01,668] Trial 33 finished with value: 21.958964404443307 and parameters: {'alpha': 62.70066382567402, 'max_iter': 237, 'selection': 'cyclic'}. Best is trial 0 with value: 21.958964404443307.\n",
      "[I 2025-09-21 15:22:01,739] Trial 34 finished with value: 21.958964404443307 and parameters: {'alpha': 42.90906744363293, 'max_iter': 312, 'selection': 'cyclic'}. Best is trial 0 with value: 21.958964404443307.\n",
      "[I 2025-09-21 15:22:01,810] Trial 35 finished with value: 21.958964404443307 and parameters: {'alpha': 74.64350384005678, 'max_iter': 570, 'selection': 'cyclic'}. Best is trial 0 with value: 21.958964404443307.\n",
      "[I 2025-09-21 15:22:01,881] Trial 36 finished with value: 21.958964404443307 and parameters: {'alpha': 32.65905083672435, 'max_iter': 486, 'selection': 'cyclic'}. Best is trial 0 with value: 21.958964404443307.\n",
      "[I 2025-09-21 15:22:01,952] Trial 37 finished with value: 21.958964404443307 and parameters: {'alpha': 18.644876904668426, 'max_iter': 376, 'selection': 'random'}. Best is trial 0 with value: 21.958964404443307.\n",
      "[I 2025-09-21 15:22:02,024] Trial 38 finished with value: 21.958964404443307 and parameters: {'alpha': 60.94534221060292, 'max_iter': 77, 'selection': 'cyclic'}. Best is trial 0 with value: 21.958964404443307.\n",
      "[I 2025-09-21 15:22:02,095] Trial 39 finished with value: 21.958964404443307 and parameters: {'alpha': 53.5598407832759, 'max_iter': 251, 'selection': 'random'}. Best is trial 0 with value: 21.958964404443307.\n",
      "[I 2025-09-21 15:22:02,167] Trial 40 finished with value: 21.958964404443307 and parameters: {'alpha': 45.03872214375913, 'max_iter': 34, 'selection': 'random'}. Best is trial 0 with value: 21.958964404443307.\n",
      "[I 2025-09-21 15:22:02,239] Trial 41 finished with value: 21.958964404443307 and parameters: {'alpha': 38.9623274196714, 'max_iter': 190, 'selection': 'cyclic'}. Best is trial 0 with value: 21.958964404443307.\n",
      "[I 2025-09-21 15:22:02,313] Trial 42 finished with value: 21.958964404443307 and parameters: {'alpha': 35.22006238738335, 'max_iter': 295, 'selection': 'cyclic'}. Best is trial 0 with value: 21.958964404443307.\n",
      "[I 2025-09-21 15:22:02,385] Trial 43 finished with value: 21.958964404443307 and parameters: {'alpha': 68.32465540888015, 'max_iter': 148, 'selection': 'cyclic'}. Best is trial 0 with value: 21.958964404443307.\n",
      "[I 2025-09-21 15:22:02,457] Trial 44 finished with value: 21.958964404443307 and parameters: {'alpha': 53.85059168375278, 'max_iter': 210, 'selection': 'cyclic'}. Best is trial 0 with value: 21.958964404443307.\n",
      "[I 2025-09-21 15:22:02,528] Trial 45 finished with value: 21.958964404443307 and parameters: {'alpha': 27.415727205112887, 'max_iter': 337, 'selection': 'random'}. Best is trial 0 with value: 21.958964404443307.\n",
      "[I 2025-09-21 15:22:02,601] Trial 46 finished with value: 21.958964404443307 and parameters: {'alpha': 17.73132476831462, 'max_iter': 415, 'selection': 'cyclic'}. Best is trial 0 with value: 21.958964404443307.\n",
      "[I 2025-09-21 15:22:02,673] Trial 47 finished with value: 21.958964404443307 and parameters: {'alpha': 40.42198458287931, 'max_iter': 9, 'selection': 'random'}. Best is trial 0 with value: 21.958964404443307.\n",
      "[I 2025-09-21 15:22:02,745] Trial 48 finished with value: 21.958964404443307 and parameters: {'alpha': 46.226276377681195, 'max_iter': 124, 'selection': 'random'}. Best is trial 0 with value: 21.958964404443307.\n",
      "[I 2025-09-21 15:22:02,817] Trial 49 finished with value: 21.958964404443307 and parameters: {'alpha': 50.1681697885217, 'max_iter': 265, 'selection': 'random'}. Best is trial 0 with value: 21.958964404443307.\n",
      "[I 2025-09-21 15:22:02,817] A new study created in memory with name: no-name-8db98b95-57d6-49c7-a9c5-a4f4c2ec2254\n"
     ]
    },
    {
     "name": "stdout",
     "output_type": "stream",
     "text": [
      "Optimization finished for: Lasso\n",
      "Best trial rmse: 21.9590\n",
      "Best parameters: {'alpha': 37.77959473725878, 'max_iter': 215, 'selection': 'random'}\n",
      "--------------------------------------------------\n",
      "\n",
      "Here are the best hyperparameters found for each model:\n",
      "\n",
      "Model: Ridge\n",
      "  Parameters: {'alpha': 0.5145354097773608, 'max_iter': 921, 'solver': 'auto'}\n",
      "\n",
      "Model: Lasso\n",
      "  Parameters: {'alpha': 37.77959473725878, 'max_iter': 215, 'selection': 'random'}\n",
      "🚀 Starting optimization for: kNN\n"
     ]
    },
    {
     "name": "stderr",
     "output_type": "stream",
     "text": [
      "[I 2025-09-21 15:22:03,817] Trial 0 finished with value: 18.04983410422716 and parameters: {'n_neighbors': 29, 'weights': 'distance', 'p': 2}. Best is trial 0 with value: 18.04983410422716.\n",
      "[I 2025-09-21 15:22:04,824] Trial 1 finished with value: 20.663878692323827 and parameters: {'n_neighbors': 7, 'weights': 'uniform', 'p': 2}. Best is trial 0 with value: 18.04983410422716.\n",
      "[I 2025-09-21 15:22:05,834] Trial 2 finished with value: 21.027313104437727 and parameters: {'n_neighbors': 46, 'weights': 'uniform', 'p': 2}. Best is trial 0 with value: 18.04983410422716.\n",
      "[I 2025-09-21 15:22:07,523] Trial 3 finished with value: 17.87366164469012 and parameters: {'n_neighbors': 45, 'weights': 'distance', 'p': 1}. Best is trial 3 with value: 17.87366164469012.\n",
      "[I 2025-09-21 15:22:08,605] Trial 4 finished with value: 21.040513191169005 and parameters: {'n_neighbors': 40, 'weights': 'uniform', 'p': 2}. Best is trial 3 with value: 17.87366164469012.\n",
      "[I 2025-09-21 15:22:09,642] Trial 5 finished with value: 18.302900250827093 and parameters: {'n_neighbors': 19, 'weights': 'distance', 'p': 2}. Best is trial 3 with value: 17.87366164469012.\n",
      "[I 2025-09-21 15:22:09,884] Trial 6 finished with value: 18.094828888499606 and parameters: {'n_neighbors': 29, 'weights': 'distance', 'p': 1}. Best is trial 3 with value: 17.87366164469012.\n",
      "[I 2025-09-21 15:22:10,128] Trial 7 finished with value: 18.05604058126895 and parameters: {'n_neighbors': 32, 'weights': 'distance', 'p': 1}. Best is trial 3 with value: 17.87366164469012.\n",
      "[I 2025-09-21 15:22:10,347] Trial 8 finished with value: 20.390455844358865 and parameters: {'n_neighbors': 4, 'weights': 'uniform', 'p': 1}. Best is trial 3 with value: 17.87366164469012.\n",
      "[I 2025-09-21 15:22:10,586] Trial 9 finished with value: 18.217171219856752 and parameters: {'n_neighbors': 23, 'weights': 'distance', 'p': 1}. Best is trial 3 with value: 17.87366164469012.\n",
      "[I 2025-09-21 15:22:10,844] Trial 10 finished with value: 17.823288478765434 and parameters: {'n_neighbors': 48, 'weights': 'distance', 'p': 1}. Best is trial 10 with value: 17.823288478765434.\n",
      "[I 2025-09-21 15:22:11,104] Trial 11 finished with value: 17.815891972062964 and parameters: {'n_neighbors': 49, 'weights': 'distance', 'p': 1}. Best is trial 11 with value: 17.815891972062964.\n",
      "[I 2025-09-21 15:22:11,365] Trial 12 finished with value: 17.799353367236318 and parameters: {'n_neighbors': 50, 'weights': 'distance', 'p': 1}. Best is trial 12 with value: 17.799353367236318.\n",
      "[I 2025-09-21 15:22:11,617] Trial 13 finished with value: 17.990754553191916 and parameters: {'n_neighbors': 38, 'weights': 'distance', 'p': 1}. Best is trial 12 with value: 17.799353367236318.\n",
      "[I 2025-09-21 15:22:11,868] Trial 14 finished with value: 17.990754553191916 and parameters: {'n_neighbors': 38, 'weights': 'distance', 'p': 1}. Best is trial 12 with value: 17.799353367236318.\n",
      "[I 2025-09-21 15:22:12,128] Trial 15 finished with value: 17.799353367236318 and parameters: {'n_neighbors': 50, 'weights': 'distance', 'p': 1}. Best is trial 12 with value: 17.799353367236318.\n",
      "[I 2025-09-21 15:22:12,359] Trial 16 finished with value: 18.4164310574766 and parameters: {'n_neighbors': 14, 'weights': 'distance', 'p': 1}. Best is trial 12 with value: 17.799353367236318.\n",
      "[I 2025-09-21 15:22:12,615] Trial 17 finished with value: 17.93111421873761 and parameters: {'n_neighbors': 42, 'weights': 'distance', 'p': 1}. Best is trial 12 with value: 17.799353367236318.\n",
      "[I 2025-09-21 15:22:12,875] Trial 18 finished with value: 20.997887640736053 and parameters: {'n_neighbors': 50, 'weights': 'uniform', 'p': 1}. Best is trial 12 with value: 17.799353367236318.\n",
      "[I 2025-09-21 15:22:13,122] Trial 19 finished with value: 18.029975890328203 and parameters: {'n_neighbors': 34, 'weights': 'distance', 'p': 1}. Best is trial 12 with value: 17.799353367236318.\n",
      "[I 2025-09-21 15:22:14,268] Trial 20 finished with value: 17.90530073036699 and parameters: {'n_neighbors': 44, 'weights': 'distance', 'p': 2}. Best is trial 12 with value: 17.799353367236318.\n",
      "[I 2025-09-21 15:22:14,532] Trial 21 finished with value: 17.799353367236318 and parameters: {'n_neighbors': 50, 'weights': 'distance', 'p': 1}. Best is trial 12 with value: 17.799353367236318.\n",
      "[I 2025-09-21 15:22:14,790] Trial 22 finished with value: 17.799353367236318 and parameters: {'n_neighbors': 50, 'weights': 'distance', 'p': 1}. Best is trial 12 with value: 17.799353367236318.\n",
      "[I 2025-09-21 15:22:15,042] Trial 23 finished with value: 17.93111421873761 and parameters: {'n_neighbors': 42, 'weights': 'distance', 'p': 1}. Best is trial 12 with value: 17.799353367236318.\n",
      "[I 2025-09-21 15:22:15,290] Trial 24 finished with value: 18.025081348142404 and parameters: {'n_neighbors': 35, 'weights': 'distance', 'p': 1}. Best is trial 12 with value: 17.799353367236318.\n",
      "[I 2025-09-21 15:22:15,543] Trial 25 finished with value: 17.85761129970583 and parameters: {'n_neighbors': 46, 'weights': 'distance', 'p': 1}. Best is trial 12 with value: 17.799353367236318.\n",
      "[I 2025-09-21 15:22:15,795] Trial 26 finished with value: 21.016963099629898 and parameters: {'n_neighbors': 42, 'weights': 'uniform', 'p': 1}. Best is trial 12 with value: 17.799353367236318.\n",
      "[I 2025-09-21 15:22:16,055] Trial 27 finished with value: 17.799353367236318 and parameters: {'n_neighbors': 50, 'weights': 'distance', 'p': 1}. Best is trial 12 with value: 17.799353367236318.\n",
      "[I 2025-09-21 15:22:16,307] Trial 28 finished with value: 17.986750993259204 and parameters: {'n_neighbors': 37, 'weights': 'distance', 'p': 1}. Best is trial 12 with value: 17.799353367236318.\n",
      "[I 2025-09-21 15:22:17,359] Trial 29 finished with value: 18.108838280054886 and parameters: {'n_neighbors': 26, 'weights': 'distance', 'p': 2}. Best is trial 12 with value: 17.799353367236318.\n",
      "[I 2025-09-21 15:22:17,614] Trial 30 finished with value: 17.85761129970583 and parameters: {'n_neighbors': 46, 'weights': 'distance', 'p': 1}. Best is trial 12 with value: 17.799353367236318.\n",
      "[I 2025-09-21 15:22:17,868] Trial 31 finished with value: 17.799353367236318 and parameters: {'n_neighbors': 50, 'weights': 'distance', 'p': 1}. Best is trial 12 with value: 17.799353367236318.\n",
      "[I 2025-09-21 15:22:18,125] Trial 32 finished with value: 17.844015451568055 and parameters: {'n_neighbors': 47, 'weights': 'distance', 'p': 1}. Best is trial 12 with value: 17.799353367236318.\n",
      "[I 2025-09-21 15:22:18,375] Trial 33 finished with value: 17.912634037499767 and parameters: {'n_neighbors': 43, 'weights': 'distance', 'p': 1}. Best is trial 12 with value: 17.799353367236318.\n",
      "[I 2025-09-21 15:22:18,618] Trial 34 finished with value: 21.01692726452771 and parameters: {'n_neighbors': 47, 'weights': 'uniform', 'p': 1}. Best is trial 12 with value: 17.799353367236318.\n",
      "[I 2025-09-21 15:22:19,724] Trial 35 finished with value: 17.90530073036699 and parameters: {'n_neighbors': 44, 'weights': 'distance', 'p': 2}. Best is trial 12 with value: 17.799353367236318.\n",
      "[I 2025-09-21 15:22:19,976] Trial 36 finished with value: 21.034792613848435 and parameters: {'n_neighbors': 39, 'weights': 'uniform', 'p': 1}. Best is trial 12 with value: 17.799353367236318.\n",
      "[I 2025-09-21 15:22:20,202] Trial 37 finished with value: 18.385265612891175 and parameters: {'n_neighbors': 15, 'weights': 'distance', 'p': 1}. Best is trial 12 with value: 17.799353367236318.\n",
      "[I 2025-09-21 15:22:21,258] Trial 38 finished with value: 17.932075916502562 and parameters: {'n_neighbors': 41, 'weights': 'distance', 'p': 2}. Best is trial 12 with value: 17.799353367236318.\n",
      "[I 2025-09-21 15:22:21,513] Trial 39 finished with value: 17.844015451568055 and parameters: {'n_neighbors': 47, 'weights': 'distance', 'p': 1}. Best is trial 12 with value: 17.799353367236318.\n",
      "[I 2025-09-21 15:22:21,769] Trial 40 finished with value: 21.014650881904114 and parameters: {'n_neighbors': 45, 'weights': 'uniform', 'p': 1}. Best is trial 12 with value: 17.799353367236318.\n",
      "[I 2025-09-21 15:22:22,030] Trial 41 finished with value: 17.799353367236318 and parameters: {'n_neighbors': 50, 'weights': 'distance', 'p': 1}. Best is trial 12 with value: 17.799353367236318.\n",
      "[I 2025-09-21 15:22:22,290] Trial 42 finished with value: 17.799353367236318 and parameters: {'n_neighbors': 50, 'weights': 'distance', 'p': 1}. Best is trial 12 with value: 17.799353367236318.\n",
      "[I 2025-09-21 15:22:22,550] Trial 43 finished with value: 17.823288478765434 and parameters: {'n_neighbors': 48, 'weights': 'distance', 'p': 1}. Best is trial 12 with value: 17.799353367236318.\n",
      "[I 2025-09-21 15:22:22,803] Trial 44 finished with value: 17.87366164469012 and parameters: {'n_neighbors': 45, 'weights': 'distance', 'p': 1}. Best is trial 12 with value: 17.799353367236318.\n",
      "[I 2025-09-21 15:22:23,065] Trial 45 finished with value: 17.823288478765434 and parameters: {'n_neighbors': 48, 'weights': 'distance', 'p': 1}. Best is trial 12 with value: 17.799353367236318.\n",
      "[I 2025-09-21 15:22:23,328] Trial 46 finished with value: 17.799353367236318 and parameters: {'n_neighbors': 50, 'weights': 'distance', 'p': 1}. Best is trial 12 with value: 17.799353367236318.\n",
      "[I 2025-09-21 15:22:23,583] Trial 47 finished with value: 17.95687306463916 and parameters: {'n_neighbors': 40, 'weights': 'distance', 'p': 1}. Best is trial 12 with value: 17.799353367236318.\n",
      "[I 2025-09-21 15:22:23,824] Trial 48 finished with value: 18.085603022945435 and parameters: {'n_neighbors': 30, 'weights': 'distance', 'p': 1}. Best is trial 12 with value: 17.799353367236318.\n",
      "[I 2025-09-21 15:22:24,060] Trial 49 finished with value: 18.29838584362344 and parameters: {'n_neighbors': 20, 'weights': 'distance', 'p': 1}. Best is trial 12 with value: 17.799353367236318.\n",
      "[I 2025-09-21 15:22:24,061] A new study created in memory with name: no-name-4cd89b64-4269-4464-9fa7-71a23c87522b\n"
     ]
    },
    {
     "name": "stdout",
     "output_type": "stream",
     "text": [
      "Optimization finished for: kNN\n",
      "Best trial rmse: 17.7994\n",
      "Best parameters: {'n_neighbors': 50, 'weights': 'distance', 'p': 1}\n",
      "--------------------------------------------------\n",
      "\n",
      "Here are the best hyperparameters found for each model:\n",
      "\n",
      "Model: Ridge\n",
      "  Parameters: {'alpha': 0.5145354097773608, 'max_iter': 921, 'solver': 'auto'}\n",
      "\n",
      "Model: Lasso\n",
      "  Parameters: {'alpha': 37.77959473725878, 'max_iter': 215, 'selection': 'random'}\n",
      "\n",
      "Model: kNN\n",
      "  Parameters: {'n_neighbors': 50, 'weights': 'distance', 'p': 1}\n",
      "🚀 Starting optimization for: DecisionTree\n"
     ]
    },
    {
     "name": "stderr",
     "output_type": "stream",
     "text": [
      "[I 2025-09-21 15:22:24,315] Trial 0 finished with value: 20.911796154439674 and parameters: {'criterion': 'friedman_mse', 'max_depth': 14, 'min_samples_split': 3, 'min_samples_leaf': 13}. Best is trial 0 with value: 20.911796154439674.\n",
      "[I 2025-09-21 15:22:24,718] Trial 1 finished with value: 21.606894994422564 and parameters: {'criterion': 'poisson', 'max_depth': 32, 'min_samples_split': 17, 'min_samples_leaf': 4}. Best is trial 0 with value: 20.911796154439674.\n",
      "[I 2025-09-21 15:22:29,961] Trial 2 finished with value: 21.832357751041727 and parameters: {'criterion': 'absolute_error', 'max_depth': 23, 'min_samples_split': 16, 'min_samples_leaf': 20}. Best is trial 0 with value: 20.911796154439674.\n",
      "[I 2025-09-21 15:22:29,987] Trial 3 finished with value: 21.586728996253697 and parameters: {'criterion': 'squared_error', 'max_depth': 2, 'min_samples_split': 12, 'min_samples_leaf': 9}. Best is trial 0 with value: 20.911796154439674.\n",
      "[I 2025-09-21 15:22:44,748] Trial 4 finished with value: 21.6688690487254 and parameters: {'criterion': 'absolute_error', 'max_depth': 20, 'min_samples_split': 15, 'min_samples_leaf': 5}. Best is trial 0 with value: 20.911796154439674.\n",
      "[I 2025-09-21 15:22:50,644] Trial 5 finished with value: 21.704726871563096 and parameters: {'criterion': 'absolute_error', 'max_depth': 31, 'min_samples_split': 13, 'min_samples_leaf': 14}. Best is trial 0 with value: 20.911796154439674.\n",
      "[I 2025-09-21 15:22:50,930] Trial 6 finished with value: 20.98272481564681 and parameters: {'criterion': 'poisson', 'max_depth': 16, 'min_samples_split': 19, 'min_samples_leaf': 6}. Best is trial 0 with value: 20.911796154439674.\n",
      "[I 2025-09-21 15:22:51,053] Trial 7 finished with value: 20.821553429994424 and parameters: {'criterion': 'squared_error', 'max_depth': 8, 'min_samples_split': 5, 'min_samples_leaf': 5}. Best is trial 7 with value: 20.821553429994424.\n",
      "[I 2025-09-21 15:22:51,292] Trial 8 finished with value: 20.82123621703775 and parameters: {'criterion': 'friedman_mse', 'max_depth': 14, 'min_samples_split': 2, 'min_samples_leaf': 9}. Best is trial 8 with value: 20.82123621703775.\n",
      "[I 2025-09-21 15:22:51,318] Trial 9 finished with value: 21.586728996253697 and parameters: {'criterion': 'friedman_mse', 'max_depth': 2, 'min_samples_split': 11, 'min_samples_leaf': 18}. Best is trial 8 with value: 20.82123621703775.\n",
      "[I 2025-09-21 15:22:51,481] Trial 10 finished with value: 20.977089008435865 and parameters: {'criterion': 'friedman_mse', 'max_depth': 10, 'min_samples_split': 7, 'min_samples_leaf': 10}. Best is trial 8 with value: 20.82123621703775.\n",
      "[I 2025-09-21 15:22:51,630] Trial 11 finished with value: 20.775090665510415 and parameters: {'criterion': 'squared_error', 'max_depth': 9, 'min_samples_split': 2, 'min_samples_leaf': 1}. Best is trial 11 with value: 20.775090665510415.\n",
      "[I 2025-09-21 15:22:51,775] Trial 12 finished with value: 20.775090665510415 and parameters: {'criterion': 'squared_error', 'max_depth': 9, 'min_samples_split': 2, 'min_samples_leaf': 1}. Best is trial 11 with value: 20.775090665510415.\n",
      "[I 2025-09-21 15:22:51,900] Trial 13 finished with value: 20.82085913950865 and parameters: {'criterion': 'squared_error', 'max_depth': 8, 'min_samples_split': 8, 'min_samples_leaf': 1}. Best is trial 11 with value: 20.775090665510415.\n",
      "[I 2025-09-21 15:22:51,988] Trial 14 finished with value: 21.020413491566625 and parameters: {'criterion': 'squared_error', 'max_depth': 6, 'min_samples_split': 6, 'min_samples_leaf': 1}. Best is trial 11 with value: 20.775090665510415.\n",
      "[I 2025-09-21 15:22:52,190] Trial 15 finished with value: 20.81018590121834 and parameters: {'criterion': 'squared_error', 'max_depth': 11, 'min_samples_split': 4, 'min_samples_leaf': 1}. Best is trial 11 with value: 20.775090665510415.\n",
      "[I 2025-09-21 15:22:52,564] Trial 16 finished with value: 21.607170007036373 and parameters: {'criterion': 'squared_error', 'max_depth': 20, 'min_samples_split': 8, 'min_samples_leaf': 3}. Best is trial 11 with value: 20.775090665510415.\n",
      "[I 2025-09-21 15:22:52,636] Trial 17 finished with value: 21.16380345029444 and parameters: {'criterion': 'squared_error', 'max_depth': 5, 'min_samples_split': 2, 'min_samples_leaf': 7}. Best is trial 11 with value: 20.775090665510415.\n",
      "[I 2025-09-21 15:22:52,839] Trial 18 finished with value: 20.832643322318148 and parameters: {'criterion': 'squared_error', 'max_depth': 12, 'min_samples_split': 5, 'min_samples_leaf': 3}. Best is trial 11 with value: 20.775090665510415.\n",
      "[I 2025-09-21 15:22:53,134] Trial 19 finished with value: 21.56502097607806 and parameters: {'criterion': 'poisson', 'max_depth': 25, 'min_samples_split': 10, 'min_samples_leaf': 13}. Best is trial 11 with value: 20.775090665510415.\n",
      "[I 2025-09-21 15:22:53,238] Trial 20 finished with value: 21.044417401772044 and parameters: {'criterion': 'squared_error', 'max_depth': 6, 'min_samples_split': 9, 'min_samples_leaf': 7}. Best is trial 11 with value: 20.775090665510415.\n",
      "[I 2025-09-21 15:22:53,439] Trial 21 finished with value: 20.81018590121834 and parameters: {'criterion': 'squared_error', 'max_depth': 11, 'min_samples_split': 4, 'min_samples_leaf': 1}. Best is trial 11 with value: 20.775090665510415.\n",
      "[I 2025-09-21 15:22:53,587] Trial 22 finished with value: 20.823119752153392 and parameters: {'criterion': 'squared_error', 'max_depth': 9, 'min_samples_split': 4, 'min_samples_leaf': 3}. Best is trial 11 with value: 20.775090665510415.\n",
      "[I 2025-09-21 15:22:53,873] Trial 23 finished with value: 20.85463543820566 and parameters: {'criterion': 'squared_error', 'max_depth': 14, 'min_samples_split': 2, 'min_samples_leaf': 1}. Best is trial 11 with value: 20.775090665510415.\n",
      "[I 2025-09-21 15:22:54,081] Trial 24 finished with value: 20.832643322318148 and parameters: {'criterion': 'squared_error', 'max_depth': 12, 'min_samples_split': 4, 'min_samples_leaf': 3}. Best is trial 11 with value: 20.775090665510415.\n",
      "[I 2025-09-21 15:22:54,417] Trial 25 finished with value: 21.43863785781844 and parameters: {'criterion': 'squared_error', 'max_depth': 17, 'min_samples_split': 6, 'min_samples_leaf': 2}. Best is trial 11 with value: 20.775090665510415.\n",
      "[I 2025-09-21 15:22:54,475] Trial 26 finished with value: 21.260623120742995 and parameters: {'criterion': 'squared_error', 'max_depth': 4, 'min_samples_split': 3, 'min_samples_leaf': 5}. Best is trial 11 with value: 20.775090665510415.\n",
      "[I 2025-09-21 15:23:02,446] Trial 27 finished with value: 21.398971491327504 and parameters: {'criterion': 'absolute_error', 'max_depth': 8, 'min_samples_split': 2, 'min_samples_leaf': 7}. Best is trial 11 with value: 20.775090665510415.\n",
      "[I 2025-09-21 15:23:02,775] Trial 28 finished with value: 21.45056619961144 and parameters: {'criterion': 'poisson', 'max_depth': 16, 'min_samples_split': 5, 'min_samples_leaf': 2}. Best is trial 11 with value: 20.775090665510415.\n",
      "[I 2025-09-21 15:23:03,015] Trial 29 finished with value: 20.911796154439674 and parameters: {'criterion': 'friedman_mse', 'max_depth': 14, 'min_samples_split': 3, 'min_samples_leaf': 13}. Best is trial 11 with value: 20.775090665510415.\n",
      "[I 2025-09-21 15:23:03,213] Trial 30 finished with value: 21.045963711371748 and parameters: {'criterion': 'squared_error', 'max_depth': 11, 'min_samples_split': 7, 'min_samples_leaf': 16}. Best is trial 11 with value: 20.775090665510415.\n",
      "[I 2025-09-21 15:23:03,404] Trial 31 finished with value: 20.81018590121834 and parameters: {'criterion': 'squared_error', 'max_depth': 11, 'min_samples_split': 4, 'min_samples_leaf': 1}. Best is trial 11 with value: 20.775090665510415.\n",
      "[I 2025-09-21 15:23:03,513] Trial 32 finished with value: 20.922152826172713 and parameters: {'criterion': 'squared_error', 'max_depth': 7, 'min_samples_split': 4, 'min_samples_leaf': 4}. Best is trial 11 with value: 20.775090665510415.\n",
      "[I 2025-09-21 15:23:03,749] Trial 33 finished with value: 20.857424093346932 and parameters: {'criterion': 'squared_error', 'max_depth': 13, 'min_samples_split': 3, 'min_samples_leaf': 2}. Best is trial 11 with value: 20.775090665510415.\n",
      "[I 2025-09-21 15:23:03,807] Trial 34 finished with value: 21.260623120742995 and parameters: {'criterion': 'squared_error', 'max_depth': 4, 'min_samples_split': 6, 'min_samples_leaf': 4}. Best is trial 11 with value: 20.775090665510415.\n",
      "[I 2025-09-21 15:29:03,510] Trial 35 finished with value: 21.129486578697872 and parameters: {'criterion': 'absolute_error', 'max_depth': 10, 'min_samples_split': 3, 'min_samples_leaf': 1}. Best is trial 11 with value: 20.775090665510415.\n",
      "[I 2025-09-21 15:29:03,865] Trial 36 finished with value: 21.177297636231227 and parameters: {'criterion': 'poisson', 'max_depth': 19, 'min_samples_split': 13, 'min_samples_leaf': 2}. Best is trial 11 with value: 20.775090665510415.\n",
      "[I 2025-09-21 15:29:04,026] Trial 37 finished with value: 20.87071144280309 and parameters: {'criterion': 'squared_error', 'max_depth': 10, 'min_samples_split': 18, 'min_samples_leaf': 4}. Best is trial 11 with value: 20.775090665510415.\n",
      "[I 2025-09-21 15:29:19,007] Trial 38 finished with value: 22.03078727601585 and parameters: {'criterion': 'absolute_error', 'max_depth': 26, 'min_samples_split': 5, 'min_samples_leaf': 5}. Best is trial 11 with value: 20.775090665510415.\n",
      "[I 2025-09-21 15:29:19,230] Trial 39 finished with value: 21.228787862974492 and parameters: {'criterion': 'squared_error', 'max_depth': 16, 'min_samples_split': 2, 'min_samples_leaf': 20}. Best is trial 11 with value: 20.775090665510415.\n",
      "[I 2025-09-21 15:29:19,272] Trial 40 finished with value: 21.44099516488689 and parameters: {'criterion': 'squared_error', 'max_depth': 3, 'min_samples_split': 14, 'min_samples_leaf': 6}. Best is trial 11 with value: 20.775090665510415.\n",
      "[I 2025-09-21 15:29:19,479] Trial 41 finished with value: 20.705801430630057 and parameters: {'criterion': 'squared_error', 'max_depth': 12, 'min_samples_split': 4, 'min_samples_leaf': 1}. Best is trial 41 with value: 20.705801430630057.\n",
      "[I 2025-09-21 15:29:19,684] Trial 42 finished with value: 20.683819134817796 and parameters: {'criterion': 'squared_error', 'max_depth': 12, 'min_samples_split': 3, 'min_samples_leaf': 2}. Best is trial 42 with value: 20.683819134817796.\n",
      "[I 2025-09-21 15:29:19,916] Trial 43 finished with value: 20.857424093346932 and parameters: {'criterion': 'squared_error', 'max_depth': 13, 'min_samples_split': 3, 'min_samples_leaf': 2}. Best is trial 42 with value: 20.683819134817796.\n",
      "[I 2025-09-21 15:29:20,019] Trial 44 finished with value: 20.95194824876197 and parameters: {'criterion': 'friedman_mse', 'max_depth': 7, 'min_samples_split': 16, 'min_samples_leaf': 3}. Best is trial 42 with value: 20.683819134817796.\n",
      "[I 2025-09-21 15:29:20,161] Trial 45 finished with value: 20.79672600748167 and parameters: {'criterion': 'squared_error', 'max_depth': 9, 'min_samples_split': 2, 'min_samples_leaf': 2}. Best is trial 42 with value: 20.683819134817796.\n",
      "[I 2025-09-21 15:29:20,315] Trial 46 finished with value: 20.935631720004448 and parameters: {'criterion': 'poisson', 'max_depth': 9, 'min_samples_split': 2, 'min_samples_leaf': 9}. Best is trial 42 with value: 20.683819134817796.\n",
      "[I 2025-09-21 15:29:20,618] Trial 47 finished with value: 21.283123068381023 and parameters: {'criterion': 'squared_error', 'max_depth': 18, 'min_samples_split': 3, 'min_samples_leaf': 6}. Best is trial 42 with value: 20.683819134817796.\n",
      "[I 2025-09-21 15:29:20,705] Trial 48 finished with value: 21.020413491566625 and parameters: {'criterion': 'squared_error', 'max_depth': 6, 'min_samples_split': 6, 'min_samples_leaf': 2}. Best is trial 42 with value: 20.683819134817796.\n",
      "[I 2025-09-21 15:29:20,845] Trial 49 finished with value: 20.864020657134148 and parameters: {'criterion': 'friedman_mse', 'max_depth': 9, 'min_samples_split': 2, 'min_samples_leaf': 4}. Best is trial 42 with value: 20.683819134817796.\n",
      "[I 2025-09-21 15:29:20,846] A new study created in memory with name: no-name-bf4e73e6-e54f-425c-a147-c05979129fda\n"
     ]
    },
    {
     "name": "stdout",
     "output_type": "stream",
     "text": [
      "Optimization finished for: DecisionTree\n",
      "Best trial rmse: 20.6838\n",
      "Best parameters: {'criterion': 'squared_error', 'max_depth': 12, 'min_samples_split': 3, 'min_samples_leaf': 2}\n",
      "--------------------------------------------------\n",
      "\n",
      "Here are the best hyperparameters found for each model:\n",
      "\n",
      "Model: Ridge\n",
      "  Parameters: {'alpha': 0.5145354097773608, 'max_iter': 921, 'solver': 'auto'}\n",
      "\n",
      "Model: Lasso\n",
      "  Parameters: {'alpha': 37.77959473725878, 'max_iter': 215, 'selection': 'random'}\n",
      "\n",
      "Model: kNN\n",
      "  Parameters: {'n_neighbors': 50, 'weights': 'distance', 'p': 1}\n",
      "\n",
      "Model: DecisionTree\n",
      "  Parameters: {'criterion': 'squared_error', 'max_depth': 12, 'min_samples_split': 3, 'min_samples_leaf': 2}\n",
      "🚀 Starting optimization for: RandomForest\n"
     ]
    },
    {
     "name": "stderr",
     "output_type": "stream",
     "text": [
      "[I 2025-09-21 15:29:29,299] Trial 0 finished with value: 18.35684299758943 and parameters: {'n_estimators': 445, 'max_depth': 34, 'min_samples_split': 20, 'min_samples_leaf': 9, 'bootstrap': True}. Best is trial 0 with value: 18.35684299758943.\n",
      "[I 2025-09-21 15:29:32,461] Trial 1 finished with value: 18.435332914937344 and parameters: {'n_estimators': 164, 'max_depth': 26, 'min_samples_split': 16, 'min_samples_leaf': 10, 'bootstrap': True}. Best is trial 0 with value: 18.35684299758943.\n",
      "[I 2025-09-21 15:29:35,677] Trial 2 finished with value: 21.323914344995977 and parameters: {'n_estimators': 683, 'max_depth': 4, 'min_samples_split': 14, 'min_samples_leaf': 16, 'bootstrap': False}. Best is trial 0 with value: 18.35684299758943.\n",
      "[I 2025-09-21 15:29:41,832] Trial 3 finished with value: 21.03712853579417 and parameters: {'n_estimators': 220, 'max_depth': 32, 'min_samples_split': 9, 'min_samples_leaf': 11, 'bootstrap': False}. Best is trial 0 with value: 18.35684299758943.\n",
      "[I 2025-09-21 15:29:47,780] Trial 4 finished with value: 20.87031642665356 and parameters: {'n_estimators': 409, 'max_depth': 9, 'min_samples_split': 15, 'min_samples_leaf': 16, 'bootstrap': False}. Best is trial 0 with value: 18.35684299758943.\n",
      "[I 2025-09-21 15:30:02,011] Trial 5 finished with value: 20.916155378919104 and parameters: {'n_estimators': 523, 'max_depth': 17, 'min_samples_split': 4, 'min_samples_leaf': 9, 'bootstrap': False}. Best is trial 0 with value: 18.35684299758943.\n",
      "[I 2025-09-21 15:30:17,618] Trial 6 finished with value: 21.34496002229581 and parameters: {'n_estimators': 346, 'max_depth': 24, 'min_samples_split': 7, 'min_samples_leaf': 1, 'bootstrap': False}. Best is trial 0 with value: 18.35684299758943.\n",
      "[I 2025-09-21 15:30:34,482] Trial 7 finished with value: 17.229054181599864 and parameters: {'n_estimators': 403, 'max_depth': 38, 'min_samples_split': 2, 'min_samples_leaf': 2, 'bootstrap': True}. Best is trial 7 with value: 17.229054181599864.\n",
      "[I 2025-09-21 15:30:37,411] Trial 8 finished with value: 20.893780190177225 and parameters: {'n_estimators': 647, 'max_depth': 5, 'min_samples_split': 5, 'min_samples_leaf': 10, 'bootstrap': True}. Best is trial 7 with value: 17.229054181599864.\n",
      "[I 2025-09-21 15:30:49,078] Trial 9 finished with value: 19.031747258180477 and parameters: {'n_estimators': 762, 'max_depth': 26, 'min_samples_split': 4, 'min_samples_leaf': 17, 'bootstrap': True}. Best is trial 7 with value: 17.229054181599864.\n",
      "[I 2025-09-21 15:31:53,247] Trial 10 finished with value: 17.33437953001123 and parameters: {'n_estimators': 904, 'max_depth': 50, 'min_samples_split': 2, 'min_samples_leaf': 1, 'bootstrap': True}. Best is trial 7 with value: 17.229054181599864.\n",
      "[I 2025-09-21 15:33:01,950] Trial 11 finished with value: 17.337221179298492 and parameters: {'n_estimators': 970, 'max_depth': 50, 'min_samples_split': 2, 'min_samples_leaf': 1, 'bootstrap': True}. Best is trial 7 with value: 17.229054181599864.\n",
      "[I 2025-09-21 15:33:27,419] Trial 12 finished with value: 17.684172959959035 and parameters: {'n_estimators': 984, 'max_depth': 49, 'min_samples_split': 2, 'min_samples_leaf': 5, 'bootstrap': True}. Best is trial 7 with value: 17.229054181599864.\n",
      "[I 2025-09-21 15:33:29,183] Trial 13 finished with value: 17.764212926145795 and parameters: {'n_estimators': 60, 'max_depth': 41, 'min_samples_split': 10, 'min_samples_leaf': 4, 'bootstrap': True}. Best is trial 7 with value: 17.229054181599864.\n",
      "[I 2025-09-21 15:33:51,921] Trial 14 finished with value: 17.68754324372101 and parameters: {'n_estimators': 890, 'max_depth': 43, 'min_samples_split': 7, 'min_samples_leaf': 5, 'bootstrap': True}. Best is trial 7 with value: 17.229054181599864.\n",
      "[I 2025-09-21 15:34:12,798] Trial 15 finished with value: 17.62743578918945 and parameters: {'n_estimators': 783, 'max_depth': 42, 'min_samples_split': 12, 'min_samples_leaf': 3, 'bootstrap': True}. Best is trial 7 with value: 17.229054181599864.\n",
      "[I 2025-09-21 15:34:21,502] Trial 16 finished with value: 19.211953283714237 and parameters: {'n_estimators': 586, 'max_depth': 36, 'min_samples_split': 7, 'min_samples_leaf': 20, 'bootstrap': True}. Best is trial 7 with value: 17.229054181599864.\n",
      "[I 2025-09-21 15:34:27,959] Trial 17 finished with value: 18.049893651790146 and parameters: {'n_estimators': 289, 'max_depth': 46, 'min_samples_split': 2, 'min_samples_leaf': 7, 'bootstrap': True}. Best is trial 7 with value: 17.229054181599864.\n",
      "[I 2025-09-21 15:34:36,041] Trial 18 finished with value: 18.728880391297825 and parameters: {'n_estimators': 480, 'max_depth': 38, 'min_samples_split': 5, 'min_samples_leaf': 13, 'bootstrap': True}. Best is trial 7 with value: 17.229054181599864.\n",
      "[I 2025-09-21 15:34:58,420] Trial 19 finished with value: 17.86847104253248 and parameters: {'n_estimators': 859, 'max_depth': 31, 'min_samples_split': 19, 'min_samples_leaf': 2, 'bootstrap': True}. Best is trial 7 with value: 17.229054181599864.\n",
      "[I 2025-09-21 15:35:10,582] Trial 20 finished with value: 18.13132385614855 and parameters: {'n_estimators': 578, 'max_depth': 20, 'min_samples_split': 8, 'min_samples_leaf': 7, 'bootstrap': True}. Best is trial 7 with value: 17.229054181599864.\n",
      "[I 2025-09-21 15:36:15,792] Trial 21 finished with value: 17.33402025465624 and parameters: {'n_estimators': 905, 'max_depth': 50, 'min_samples_split': 2, 'min_samples_leaf': 1, 'bootstrap': True}. Best is trial 7 with value: 17.229054181599864.\n",
      "[I 2025-09-21 15:36:44,300] Trial 22 finished with value: 17.340968529879866 and parameters: {'n_estimators': 860, 'max_depth': 46, 'min_samples_split': 4, 'min_samples_leaf': 3, 'bootstrap': True}. Best is trial 7 with value: 17.229054181599864.\n",
      "[I 2025-09-21 15:37:37,206] Trial 23 finished with value: 17.347547610683527 and parameters: {'n_estimators': 762, 'max_depth': 46, 'min_samples_split': 2, 'min_samples_leaf': 1, 'bootstrap': True}. Best is trial 7 with value: 17.229054181599864.\n",
      "[I 2025-09-21 15:37:59,376] Trial 24 finished with value: 17.86183932062641 and parameters: {'n_estimators': 939, 'max_depth': 39, 'min_samples_split': 5, 'min_samples_leaf': 6, 'bootstrap': True}. Best is trial 7 with value: 17.229054181599864.\n",
      "[I 2025-09-21 15:38:23,205] Trial 25 finished with value: 17.348826404976574 and parameters: {'n_estimators': 704, 'max_depth': 50, 'min_samples_split': 3, 'min_samples_leaf': 3, 'bootstrap': True}. Best is trial 7 with value: 17.229054181599864.\n",
      "[I 2025-09-21 15:38:39,780] Trial 26 finished with value: 22.361125617456075 and parameters: {'n_estimators': 360, 'max_depth': 44, 'min_samples_split': 6, 'min_samples_leaf': 4, 'bootstrap': False}. Best is trial 7 with value: 17.229054181599864.\n",
      "[I 2025-09-21 15:39:09,429] Trial 27 finished with value: 17.719711093359678 and parameters: {'n_estimators': 811, 'max_depth': 38, 'min_samples_split': 12, 'min_samples_leaf': 1, 'bootstrap': True}. Best is trial 7 with value: 17.229054181599864.\n",
      "[I 2025-09-21 15:39:29,781] Trial 28 finished with value: 18.031613114478713 and parameters: {'n_estimators': 917, 'max_depth': 47, 'min_samples_split': 3, 'min_samples_leaf': 7, 'bootstrap': True}. Best is trial 7 with value: 17.229054181599864.\n",
      "[I 2025-09-21 15:39:42,054] Trial 29 finished with value: 17.812923172230576 and parameters: {'n_estimators': 454, 'max_depth': 34, 'min_samples_split': 18, 'min_samples_leaf': 2, 'bootstrap': True}. Best is trial 7 with value: 17.229054181599864.\n",
      "[I 2025-09-21 15:39:52,526] Trial 30 finished with value: 18.64285443716488 and parameters: {'n_estimators': 601, 'max_depth': 31, 'min_samples_split': 3, 'min_samples_leaf': 12, 'bootstrap': True}. Best is trial 7 with value: 17.229054181599864.\n",
      "[I 2025-09-21 15:40:58,988] Trial 31 finished with value: 17.336810691641972 and parameters: {'n_estimators': 939, 'max_depth': 50, 'min_samples_split': 2, 'min_samples_leaf': 1, 'bootstrap': True}. Best is trial 7 with value: 17.229054181599864.\n",
      "[I 2025-09-21 15:41:41,746] Trial 32 finished with value: 17.193980904490463 and parameters: {'n_estimators': 997, 'max_depth': 50, 'min_samples_split': 4, 'min_samples_leaf': 2, 'bootstrap': True}. Best is trial 32 with value: 17.193980904490463.\n",
      "[I 2025-09-21 15:42:06,000] Trial 33 finished with value: 17.509009957272166 and parameters: {'n_estimators': 849, 'max_depth': 44, 'min_samples_split': 4, 'min_samples_leaf': 4, 'bootstrap': True}. Best is trial 32 with value: 17.193980904490463.\n",
      "[I 2025-09-21 15:42:48,927] Trial 34 finished with value: 17.19503008050131 and parameters: {'n_estimators': 998, 'max_depth': 48, 'min_samples_split': 3, 'min_samples_leaf': 2, 'bootstrap': True}. Best is trial 32 with value: 17.193980904490463.\n",
      "[I 2025-09-21 15:43:29,700] Trial 35 finished with value: 22.003000673088543 and parameters: {'n_estimators': 995, 'max_depth': 40, 'min_samples_split': 6, 'min_samples_leaf': 5, 'bootstrap': False}. Best is trial 32 with value: 17.193980904490463.\n",
      "[I 2025-09-21 15:43:37,357] Trial 36 finished with value: 17.51096884434528 and parameters: {'n_estimators': 254, 'max_depth': 48, 'min_samples_split': 9, 'min_samples_leaf': 3, 'bootstrap': True}. Best is trial 32 with value: 17.193980904490463.\n",
      "[I 2025-09-21 15:43:59,892] Trial 37 finished with value: 20.871264888292803 and parameters: {'n_estimators': 710, 'max_depth': 44, 'min_samples_split': 6, 'min_samples_leaf': 9, 'bootstrap': False}. Best is trial 32 with value: 17.193980904490463.\n",
      "[I 2025-09-21 15:44:07,570] Trial 38 finished with value: 17.279154794046626 and parameters: {'n_estimators': 174, 'max_depth': 34, 'min_samples_split': 4, 'min_samples_leaf': 2, 'bootstrap': True}. Best is trial 32 with value: 17.193980904490463.\n",
      "[I 2025-09-21 15:44:11,247] Trial 39 finished with value: 21.80600599331632 and parameters: {'n_estimators': 90, 'max_depth': 36, 'min_samples_split': 4, 'min_samples_leaf': 6, 'bootstrap': False}. Best is trial 32 with value: 17.193980904490463.\n",
      "[I 2025-09-21 15:44:18,152] Trial 40 finished with value: 17.52866123783616 and parameters: {'n_estimators': 209, 'max_depth': 27, 'min_samples_split': 8, 'min_samples_leaf': 2, 'bootstrap': True}. Best is trial 32 with value: 17.193980904490463.\n",
      "[I 2025-09-21 15:44:33,655] Trial 41 finished with value: 17.306026905973397 and parameters: {'n_estimators': 382, 'max_depth': 28, 'min_samples_split': 3, 'min_samples_leaf': 2, 'bootstrap': True}. Best is trial 32 with value: 17.193980904490463.\n",
      "[I 2025-09-21 15:44:46,435] Trial 42 finished with value: 17.51544926670981 and parameters: {'n_estimators': 385, 'max_depth': 23, 'min_samples_split': 5, 'min_samples_leaf': 2, 'bootstrap': True}. Best is trial 32 with value: 17.193980904490463.\n",
      "[I 2025-09-21 15:44:50,389] Trial 43 finished with value: 17.617030593882763 and parameters: {'n_estimators': 130, 'max_depth': 30, 'min_samples_split': 3, 'min_samples_leaf': 4, 'bootstrap': True}. Best is trial 32 with value: 17.193980904490463.\n",
      "[I 2025-09-21 15:45:01,110] Trial 44 finished with value: 17.40710445014454 and parameters: {'n_estimators': 318, 'max_depth': 29, 'min_samples_split': 4, 'min_samples_leaf': 3, 'bootstrap': True}. Best is trial 32 with value: 17.193980904490463.\n",
      "[I 2025-09-21 15:45:13,104] Trial 45 finished with value: 17.865897782641152 and parameters: {'n_estimators': 504, 'max_depth': 34, 'min_samples_split': 3, 'min_samples_leaf': 6, 'bootstrap': True}. Best is trial 32 with value: 17.193980904490463.\n",
      "[I 2025-09-21 15:45:21,173] Trial 46 finished with value: 18.527724994784382 and parameters: {'n_estimators': 412, 'max_depth': 16, 'min_samples_split': 14, 'min_samples_leaf': 2, 'bootstrap': True}. Best is trial 32 with value: 17.193980904490463.\n",
      "[I 2025-09-21 15:45:28,525] Trial 47 finished with value: 21.82784738955855 and parameters: {'n_estimators': 205, 'max_depth': 23, 'min_samples_split': 6, 'min_samples_leaf': 5, 'bootstrap': False}. Best is trial 32 with value: 17.193980904490463.\n",
      "[I 2025-09-21 15:45:33,047] Trial 48 finished with value: 17.581627877946854 and parameters: {'n_estimators': 150, 'max_depth': 35, 'min_samples_split': 5, 'min_samples_leaf': 4, 'bootstrap': True}. Best is trial 32 with value: 17.193980904490463.\n",
      "[I 2025-09-21 15:45:37,566] Trial 49 finished with value: 18.809584182444993 and parameters: {'n_estimators': 263, 'max_depth': 33, 'min_samples_split': 3, 'min_samples_leaf': 14, 'bootstrap': True}. Best is trial 32 with value: 17.193980904490463.\n"
     ]
    },
    {
     "name": "stdout",
     "output_type": "stream",
     "text": [
      "Optimization finished for: RandomForest\n",
      "Best trial rmse: 17.1940\n",
      "Best parameters: {'n_estimators': 997, 'max_depth': 50, 'min_samples_split': 4, 'min_samples_leaf': 2, 'bootstrap': True}\n",
      "--------------------------------------------------\n",
      "\n",
      "Here are the best hyperparameters found for each model:\n",
      "\n",
      "Model: Ridge\n",
      "  Parameters: {'alpha': 0.5145354097773608, 'max_iter': 921, 'solver': 'auto'}\n",
      "\n",
      "Model: Lasso\n",
      "  Parameters: {'alpha': 37.77959473725878, 'max_iter': 215, 'selection': 'random'}\n",
      "\n",
      "Model: kNN\n",
      "  Parameters: {'n_neighbors': 50, 'weights': 'distance', 'p': 1}\n",
      "\n",
      "Model: DecisionTree\n",
      "  Parameters: {'criterion': 'squared_error', 'max_depth': 12, 'min_samples_split': 3, 'min_samples_leaf': 2}\n",
      "\n",
      "Model: RandomForest\n",
      "  Parameters: {'n_estimators': 997, 'max_depth': 50, 'min_samples_split': 4, 'min_samples_leaf': 2, 'bootstrap': True}\n"
     ]
    }
   ],
   "source": [
    "models_to_tune = [\"Ridge\", \"Lasso\", \"kNN\", \"DecisionTree\", \"RandomForest\"]\n",
    "\n",
    "best_models = {}\n",
    "\n",
    "for model_name in models_to_tune:\n",
    "  print(f\"🚀 Starting optimization for: {model_name}\")\n",
    "\n",
    "  study = optuna.create_study(direction='minimize')\n",
    "  study.optimize(lambda trial: objective(trial, model_name), n_trials=50)\n",
    "\n",
    "  print(f\"Optimization finished for: {model_name}\")\n",
    "  print(f\"Best trial rmse: {study.best_value:.4f}\")\n",
    "  print(f\"Best parameters: {study.best_params}\")\n",
    "  print(\"-\" * 50)\n",
    "\n",
    "  best_models[model_name] = study.best_params\n",
    "\n",
    "  print(\"\\nHere are the best hyperparameters found for each model:\")\n",
    "  for model_name, params in best_models.items():\n",
    "    print(f\"\\nModel: {model_name}\")\n",
    "    print(f\"  Parameters: {params}\")"
   ]
  },
  {
   "cell_type": "markdown",
   "id": "d47389d3-5ff0-4beb-89ca-807ec1c89305",
   "metadata": {},
   "source": [
    "#### 3. Запуск алгоритмов с лучшими параметрами найденными через hyperparameter tuning."
   ]
  },
  {
   "cell_type": "markdown",
   "id": "139db4d2-6ce7-4134-a930-332c538d2150",
   "metadata": {},
   "source": [
    "#### Лучшие параметры для каждой модели.\n",
    "\n",
    "Model: Ridge\n",
    "  Parameters: {'alpha': 0.5145354097773608, 'max_iter': 921, 'solver': 'auto'}\n",
    "\n",
    "Model: Lasso\n",
    "  Parameters: {'alpha': 37.77959473725878, 'max_iter': 215, 'selection': 'random'}\n",
    "\n",
    "Model: kNN\n",
    "  Parameters: {'n_neighbors': 50, 'weights': 'distance', 'p': 1}\n",
    "\n",
    "Model: DecisionTree\n",
    "  Parameters: {'criterion': 'squared_error', 'max_depth': 12, 'min_samples_split': 3, 'min_samples_leaf': 2}\n",
    "\n",
    "Model: RandomForest\n",
    "  Parameters: {'n_estimators': 997, 'max_depth': 50, 'min_samples_split': 4, 'min_samples_leaf': 2, 'bootstrap': True}"
   ]
  },
  {
   "cell_type": "code",
   "execution_count": 44,
   "id": "b0ddc8ac-f732-4112-8462-3e6a842c42ef",
   "metadata": {},
   "outputs": [
    {
     "name": "stdout",
     "output_type": "stream",
     "text": [
      "MAE: 13.349484724926507\n",
      "MSE: 331.903482595066\n",
      "RMSE: 18.218218425385782\n",
      "R2: 0.31151312295058164\n"
     ]
    }
   ],
   "source": [
    "ridge = Ridge(alpha=0.5145354097773608, max_iter = 921, solver = 'auto')\n",
    "ridge.fit(X_train_encoded, y_train)\n",
    "\n",
    "y_pred_r = ridge.predict(X_test_encoded)\n",
    "\n",
    "print(f'MAE: {mean_absolute_error(y_test, y_pred_r)}')\n",
    "print(f'MSE: {mean_squared_error(y_test, y_pred_r)}')\n",
    "print(f'RMSE: {np.sqrt(mean_squared_error(y_test, y_pred_r))}')\n",
    "print(f'R2: {r2_score(y_test, y_pred_r)}')"
   ]
  },
  {
   "cell_type": "code",
   "execution_count": 45,
   "id": "bc603d34-15d3-4144-8fb1-5180e5fe7285",
   "metadata": {},
   "outputs": [
    {
     "name": "stdout",
     "output_type": "stream",
     "text": [
      "MAE: 17.36437314631154\n",
      "MSE: 482.1961177156082\n",
      "RMSE: 21.958964404443307\n",
      "R2: -0.0002477124242985518\n"
     ]
    }
   ],
   "source": [
    "lasso = Lasso(alpha=37.77959473725878, max_iter = 215, selection = 'random')\n",
    "lasso.fit(X_train_encoded, y_train)\n",
    "\n",
    "y_pred_l = lasso.predict(X_test_encoded)\n",
    "\n",
    "print(f'MAE: {mean_absolute_error(y_test, y_pred_l)}')\n",
    "print(f'MSE: {mean_squared_error(y_test, y_pred_l)}')\n",
    "print(f'RMSE: {np.sqrt(mean_squared_error(y_test, y_pred_l))}')\n",
    "print(f'R2: {r2_score(y_test, y_pred_l)}')"
   ]
  },
  {
   "cell_type": "code",
   "execution_count": 46,
   "id": "c3192bb0-3a69-4d4a-90a1-2c868eca7150",
   "metadata": {},
   "outputs": [
    {
     "name": "stdout",
     "output_type": "stream",
     "text": [
      "MAE: 16.00707123837613\n",
      "MSE: 427.82037400185476\n",
      "RMSE: 20.683819134817796\n",
      "R2: 0.112547084677593\n"
     ]
    }
   ],
   "source": [
    "dt_model = DecisionTreeRegressor(criterion = 'squared_error', max_depth = 12, min_samples_split = 3, min_samples_leaf = 2, random_state=42)\n",
    "\n",
    "dt_model.fit(X_train_encoded, y_train)\n",
    "\n",
    "dt_predictions = dt_model.predict(X_test_encoded)\n",
    "\n",
    "print(f'MAE: {mean_absolute_error(y_test, dt_predictions)}')\n",
    "print(f'MSE: {mean_squared_error(y_test, dt_predictions)}')\n",
    "print(f'RMSE: {np.sqrt(mean_squared_error(y_test, dt_predictions))}')\n",
    "print(f'R2: {r2_score(y_test, dt_predictions)}')"
   ]
  },
  {
   "cell_type": "code",
   "execution_count": 47,
   "id": "198f08d8-4f10-41a7-bbc1-f68385fc120c",
   "metadata": {},
   "outputs": [
    {
     "name": "stdout",
     "output_type": "stream",
     "text": [
      "MAE: 12.432083179948629\n",
      "MSE: 296.09234978421154\n",
      "RMSE: 17.207334185870035\n",
      "R2: 0.38579825789334377\n"
     ]
    }
   ],
   "source": [
    "model_forest = RandomForestRegressor(n_estimators = 997, max_depth = 50, min_samples_split =  4, min_samples_leaf = 2, bootstrap = True)\n",
    "\n",
    "model_forest.fit(X_train_encoded, y_train)\n",
    "y_pred_f = model_forest.predict(X_test_encoded)\n",
    "\n",
    "print(f'MAE: {mean_absolute_error(y_test, y_pred_f)}')\n",
    "print(f'MSE: {mean_squared_error(y_test, y_pred_f)}')\n",
    "print(f'RMSE: {np.sqrt(mean_squared_error(y_test, y_pred_f))}')\n",
    "print(f'R2: {r2_score(y_test, y_pred_f)}')"
   ]
  },
  {
   "cell_type": "markdown",
   "id": "912b3e26-2120-47d3-afb6-aa260b0a8151",
   "metadata": {},
   "source": [
    "#### 4. Анализ метрик MAE, MSE, RMSE, R2."
   ]
  },
  {
   "cell_type": "markdown",
   "id": "d8d79bab-bc9c-4e29-b60e-20ab2f799744",
   "metadata": {},
   "source": [
    "Лучшие метрики показала модель RandomForest. По всем метрикам эта модель оказалась лучшей, с RMSE - 17.21 и r2 - 0.39. \n",
    "Худшие показали у Lasso регрессии с показателями RMSE 21.96, -0.00025 по R2."
   ]
  },
  {
   "cell_type": "markdown",
   "id": "9c65cb39-b1fc-44bc-a3dc-3f7c384ae8e5",
   "metadata": {},
   "source": [
    "#### 5. Выводы"
   ]
  },
  {
   "cell_type": "markdown",
   "id": "e977df28-59f5-46fd-9b0e-88adf79e6e34",
   "metadata": {},
   "source": [
    "В целом наши модели справились с предсказанием плохо. Что говорит о низкой корреляции между лейблом и фичами. Лучший перформанс показала модель RandomForest с с RMSE - 17.21 и r2 - 0.39."
   ]
  },
  {
   "cell_type": "code",
   "execution_count": null,
   "id": "1f17667c-4317-4274-b2e7-9e72aa9eea38",
   "metadata": {},
   "outputs": [],
   "source": []
  }
 ],
 "metadata": {
  "kernelspec": {
   "display_name": "Python 3 (ipykernel)",
   "language": "python",
   "name": "python3"
  },
  "language_info": {
   "codemirror_mode": {
    "name": "ipython",
    "version": 3
   },
   "file_extension": ".py",
   "mimetype": "text/x-python",
   "name": "python",
   "nbconvert_exporter": "python",
   "pygments_lexer": "ipython3",
   "version": "3.13.5"
  }
 },
 "nbformat": 4,
 "nbformat_minor": 5
}
