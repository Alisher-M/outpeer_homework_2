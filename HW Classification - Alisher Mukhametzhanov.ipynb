{
 "cells": [
  {
   "cell_type": "markdown",
   "id": "a66c6461-6846-4fcc-b13d-4aaff6a6195e",
   "metadata": {},
   "source": [
    "## Задача - предсказать шансы студентов быть трудоустроенными после кампус отбора.\n",
    "\n",
    "по фичам таким как - громкость, темп, тональность, акустичность, энергичность и т.п\n"
   ]
  },
  {
   "cell_type": "markdown",
   "id": "54cad269-4844-4dca-9017-e33f2a154615",
   "metadata": {},
   "source": [
    "### Шаг 1. Подготовка данных к машинному обучению.\n",
    "\n",
    "#### 1. Импорт библиотек\n",
    "#### 2. Импорт данных\n",
    "#### 3. Краткий анализ данных\n",
    "#### 4. Разделение данных для машинного обучения\n",
    "#### 5. Энкодинг и скейлинг данных\n",
    "#### 6. Применение метода SMOTE для балансировки лейбла.\n",
    "#### 7. Кросс валидация"
   ]
  },
  {
   "cell_type": "markdown",
   "id": "784f700d-9504-4d62-80c8-dde2770b3adf",
   "metadata": {},
   "source": [
    "#### 1. Импорт библиотек"
   ]
  },
  {
   "cell_type": "code",
   "execution_count": 36,
   "id": "203c87d3-178f-4d9d-aab3-00e2e206b17f",
   "metadata": {},
   "outputs": [],
   "source": [
    "import numpy as np\n",
    "import pandas as pd\n",
    "import matplotlib.pyplot as plt\n",
    "from sklearn.model_selection import train_test_split\n",
    "from sklearn.compose import ColumnTransformer\n",
    "from sklearn.preprocessing import MinMaxScaler, OneHotEncoder, LabelEncoder\n",
    "from sklearn.model_selection import KFold, cross_val_score\n",
    "from sklearn.linear_model import LogisticRegression\n",
    "from sklearn.neighbors import KNeighborsClassifier\n",
    "from sklearn.svm import SVC\n",
    "from sklearn.tree import DecisionTreeClassifier\n",
    "from sklearn.ensemble import RandomForestClassifier\n",
    "from sklearn.metrics import accuracy_score, f1_score, precision_score, recall_score, roc_auc_score\n",
    "from imblearn.over_sampling import SMOTE\n",
    "import optuna"
   ]
  },
  {
   "cell_type": "markdown",
   "id": "e682d505-2358-4460-9c27-bd4e274dedfc",
   "metadata": {},
   "source": [
    "#### 2. Загрузка данных"
   ]
  },
  {
   "cell_type": "code",
   "execution_count": 37,
   "id": "bad40bcd-2cfb-4970-93b8-fab433a6440b",
   "metadata": {},
   "outputs": [],
   "source": [
    "df = pd.read_csv('Campus_Selection.csv')"
   ]
  },
  {
   "cell_type": "markdown",
   "id": "17efd7e0-339a-4c66-a6b1-6f6f81f2f90d",
   "metadata": {},
   "source": [
    "#### 3. Краткий анализ данных"
   ]
  },
  {
   "cell_type": "code",
   "execution_count": 38,
   "id": "ede91845-1e11-4a5a-b113-ad20e9012713",
   "metadata": {},
   "outputs": [
    {
     "data": {
      "text/html": [
       "<div>\n",
       "<style scoped>\n",
       "    .dataframe tbody tr th:only-of-type {\n",
       "        vertical-align: middle;\n",
       "    }\n",
       "\n",
       "    .dataframe tbody tr th {\n",
       "        vertical-align: top;\n",
       "    }\n",
       "\n",
       "    .dataframe thead th {\n",
       "        text-align: right;\n",
       "    }\n",
       "</style>\n",
       "<table border=\"1\" class=\"dataframe\">\n",
       "  <thead>\n",
       "    <tr style=\"text-align: right;\">\n",
       "      <th></th>\n",
       "      <th>sl_no</th>\n",
       "      <th>gender</th>\n",
       "      <th>ssc_p</th>\n",
       "      <th>ssc_b</th>\n",
       "      <th>hsc_p</th>\n",
       "      <th>hsc_b</th>\n",
       "      <th>hsc_s</th>\n",
       "      <th>degree_p</th>\n",
       "      <th>degree_t</th>\n",
       "      <th>workex</th>\n",
       "      <th>etest_p</th>\n",
       "      <th>specialisation</th>\n",
       "      <th>mba_p</th>\n",
       "      <th>status</th>\n",
       "    </tr>\n",
       "  </thead>\n",
       "  <tbody>\n",
       "    <tr>\n",
       "      <th>0</th>\n",
       "      <td>1</td>\n",
       "      <td>M</td>\n",
       "      <td>67.00</td>\n",
       "      <td>Others</td>\n",
       "      <td>91.00</td>\n",
       "      <td>Others</td>\n",
       "      <td>Commerce</td>\n",
       "      <td>58.00</td>\n",
       "      <td>Sci&amp;Tech</td>\n",
       "      <td>No</td>\n",
       "      <td>55.0</td>\n",
       "      <td>Mkt&amp;HR</td>\n",
       "      <td>58.80</td>\n",
       "      <td>Placed</td>\n",
       "    </tr>\n",
       "    <tr>\n",
       "      <th>1</th>\n",
       "      <td>2</td>\n",
       "      <td>M</td>\n",
       "      <td>79.33</td>\n",
       "      <td>Central</td>\n",
       "      <td>78.33</td>\n",
       "      <td>Others</td>\n",
       "      <td>Science</td>\n",
       "      <td>77.48</td>\n",
       "      <td>Sci&amp;Tech</td>\n",
       "      <td>Yes</td>\n",
       "      <td>86.5</td>\n",
       "      <td>Mkt&amp;Fin</td>\n",
       "      <td>66.28</td>\n",
       "      <td>Placed</td>\n",
       "    </tr>\n",
       "    <tr>\n",
       "      <th>2</th>\n",
       "      <td>3</td>\n",
       "      <td>M</td>\n",
       "      <td>65.00</td>\n",
       "      <td>Central</td>\n",
       "      <td>68.00</td>\n",
       "      <td>Central</td>\n",
       "      <td>Arts</td>\n",
       "      <td>64.00</td>\n",
       "      <td>Comm&amp;Mgmt</td>\n",
       "      <td>No</td>\n",
       "      <td>75.0</td>\n",
       "      <td>Mkt&amp;Fin</td>\n",
       "      <td>57.80</td>\n",
       "      <td>Placed</td>\n",
       "    </tr>\n",
       "    <tr>\n",
       "      <th>3</th>\n",
       "      <td>4</td>\n",
       "      <td>M</td>\n",
       "      <td>56.00</td>\n",
       "      <td>Central</td>\n",
       "      <td>52.00</td>\n",
       "      <td>Central</td>\n",
       "      <td>Science</td>\n",
       "      <td>52.00</td>\n",
       "      <td>Sci&amp;Tech</td>\n",
       "      <td>No</td>\n",
       "      <td>66.0</td>\n",
       "      <td>Mkt&amp;HR</td>\n",
       "      <td>59.43</td>\n",
       "      <td>Not Placed</td>\n",
       "    </tr>\n",
       "    <tr>\n",
       "      <th>4</th>\n",
       "      <td>5</td>\n",
       "      <td>M</td>\n",
       "      <td>85.80</td>\n",
       "      <td>Central</td>\n",
       "      <td>73.60</td>\n",
       "      <td>Central</td>\n",
       "      <td>Commerce</td>\n",
       "      <td>73.30</td>\n",
       "      <td>Comm&amp;Mgmt</td>\n",
       "      <td>No</td>\n",
       "      <td>96.8</td>\n",
       "      <td>Mkt&amp;Fin</td>\n",
       "      <td>55.50</td>\n",
       "      <td>Placed</td>\n",
       "    </tr>\n",
       "  </tbody>\n",
       "</table>\n",
       "</div>"
      ],
      "text/plain": [
       "   sl_no gender  ssc_p    ssc_b  hsc_p    hsc_b     hsc_s  degree_p  \\\n",
       "0      1      M  67.00   Others  91.00   Others  Commerce     58.00   \n",
       "1      2      M  79.33  Central  78.33   Others   Science     77.48   \n",
       "2      3      M  65.00  Central  68.00  Central      Arts     64.00   \n",
       "3      4      M  56.00  Central  52.00  Central   Science     52.00   \n",
       "4      5      M  85.80  Central  73.60  Central  Commerce     73.30   \n",
       "\n",
       "    degree_t workex  etest_p specialisation  mba_p      status  \n",
       "0   Sci&Tech     No     55.0         Mkt&HR  58.80      Placed  \n",
       "1   Sci&Tech    Yes     86.5        Mkt&Fin  66.28      Placed  \n",
       "2  Comm&Mgmt     No     75.0        Mkt&Fin  57.80      Placed  \n",
       "3   Sci&Tech     No     66.0         Mkt&HR  59.43  Not Placed  \n",
       "4  Comm&Mgmt     No     96.8        Mkt&Fin  55.50      Placed  "
      ]
     },
     "execution_count": 38,
     "metadata": {},
     "output_type": "execute_result"
    }
   ],
   "source": [
    "df.head()"
   ]
  },
  {
   "cell_type": "code",
   "execution_count": 39,
   "id": "c0ec7b27-20bb-474b-b7e8-a0ec2c89fb4c",
   "metadata": {},
   "outputs": [
    {
     "name": "stdout",
     "output_type": "stream",
     "text": [
      "<class 'pandas.core.frame.DataFrame'>\n",
      "RangeIndex: 215 entries, 0 to 214\n",
      "Data columns (total 14 columns):\n",
      " #   Column          Non-Null Count  Dtype  \n",
      "---  ------          --------------  -----  \n",
      " 0   sl_no           215 non-null    int64  \n",
      " 1   gender          215 non-null    object \n",
      " 2   ssc_p           215 non-null    float64\n",
      " 3   ssc_b           215 non-null    object \n",
      " 4   hsc_p           215 non-null    float64\n",
      " 5   hsc_b           215 non-null    object \n",
      " 6   hsc_s           215 non-null    object \n",
      " 7   degree_p        215 non-null    float64\n",
      " 8   degree_t        215 non-null    object \n",
      " 9   workex          215 non-null    object \n",
      " 10  etest_p         215 non-null    float64\n",
      " 11  specialisation  215 non-null    object \n",
      " 12  mba_p           215 non-null    float64\n",
      " 13  status          215 non-null    object \n",
      "dtypes: float64(5), int64(1), object(8)\n",
      "memory usage: 23.6+ KB\n"
     ]
    }
   ],
   "source": [
    "df.info()"
   ]
  },
  {
   "cell_type": "markdown",
   "id": "28a7638d-6dd5-45ad-b8d6-8137e622d7b1",
   "metadata": {},
   "source": [
    "#### Пропущенные данные отсутствуют"
   ]
  },
  {
   "cell_type": "code",
   "execution_count": 40,
   "id": "03938e9e-a01b-4f4d-960f-6b301eac0ba3",
   "metadata": {},
   "outputs": [
    {
     "data": {
      "text/html": [
       "<div>\n",
       "<style scoped>\n",
       "    .dataframe tbody tr th:only-of-type {\n",
       "        vertical-align: middle;\n",
       "    }\n",
       "\n",
       "    .dataframe tbody tr th {\n",
       "        vertical-align: top;\n",
       "    }\n",
       "\n",
       "    .dataframe thead th {\n",
       "        text-align: right;\n",
       "    }\n",
       "</style>\n",
       "<table border=\"1\" class=\"dataframe\">\n",
       "  <thead>\n",
       "    <tr style=\"text-align: right;\">\n",
       "      <th></th>\n",
       "      <th>sl_no</th>\n",
       "      <th>ssc_p</th>\n",
       "      <th>hsc_p</th>\n",
       "      <th>degree_p</th>\n",
       "      <th>etest_p</th>\n",
       "      <th>mba_p</th>\n",
       "    </tr>\n",
       "  </thead>\n",
       "  <tbody>\n",
       "    <tr>\n",
       "      <th>count</th>\n",
       "      <td>215.000000</td>\n",
       "      <td>215.000000</td>\n",
       "      <td>215.000000</td>\n",
       "      <td>215.000000</td>\n",
       "      <td>215.000000</td>\n",
       "      <td>215.000000</td>\n",
       "    </tr>\n",
       "    <tr>\n",
       "      <th>mean</th>\n",
       "      <td>108.000000</td>\n",
       "      <td>67.303395</td>\n",
       "      <td>66.333163</td>\n",
       "      <td>66.370186</td>\n",
       "      <td>72.100558</td>\n",
       "      <td>62.278186</td>\n",
       "    </tr>\n",
       "    <tr>\n",
       "      <th>std</th>\n",
       "      <td>62.209324</td>\n",
       "      <td>10.827205</td>\n",
       "      <td>10.897509</td>\n",
       "      <td>7.358743</td>\n",
       "      <td>13.275956</td>\n",
       "      <td>5.833385</td>\n",
       "    </tr>\n",
       "    <tr>\n",
       "      <th>min</th>\n",
       "      <td>1.000000</td>\n",
       "      <td>40.890000</td>\n",
       "      <td>37.000000</td>\n",
       "      <td>50.000000</td>\n",
       "      <td>50.000000</td>\n",
       "      <td>51.210000</td>\n",
       "    </tr>\n",
       "    <tr>\n",
       "      <th>25%</th>\n",
       "      <td>54.500000</td>\n",
       "      <td>60.600000</td>\n",
       "      <td>60.900000</td>\n",
       "      <td>61.000000</td>\n",
       "      <td>60.000000</td>\n",
       "      <td>57.945000</td>\n",
       "    </tr>\n",
       "    <tr>\n",
       "      <th>50%</th>\n",
       "      <td>108.000000</td>\n",
       "      <td>67.000000</td>\n",
       "      <td>65.000000</td>\n",
       "      <td>66.000000</td>\n",
       "      <td>71.000000</td>\n",
       "      <td>62.000000</td>\n",
       "    </tr>\n",
       "    <tr>\n",
       "      <th>75%</th>\n",
       "      <td>161.500000</td>\n",
       "      <td>75.700000</td>\n",
       "      <td>73.000000</td>\n",
       "      <td>72.000000</td>\n",
       "      <td>83.500000</td>\n",
       "      <td>66.255000</td>\n",
       "    </tr>\n",
       "    <tr>\n",
       "      <th>max</th>\n",
       "      <td>215.000000</td>\n",
       "      <td>89.400000</td>\n",
       "      <td>97.700000</td>\n",
       "      <td>91.000000</td>\n",
       "      <td>98.000000</td>\n",
       "      <td>77.890000</td>\n",
       "    </tr>\n",
       "  </tbody>\n",
       "</table>\n",
       "</div>"
      ],
      "text/plain": [
       "            sl_no       ssc_p       hsc_p    degree_p     etest_p       mba_p\n",
       "count  215.000000  215.000000  215.000000  215.000000  215.000000  215.000000\n",
       "mean   108.000000   67.303395   66.333163   66.370186   72.100558   62.278186\n",
       "std     62.209324   10.827205   10.897509    7.358743   13.275956    5.833385\n",
       "min      1.000000   40.890000   37.000000   50.000000   50.000000   51.210000\n",
       "25%     54.500000   60.600000   60.900000   61.000000   60.000000   57.945000\n",
       "50%    108.000000   67.000000   65.000000   66.000000   71.000000   62.000000\n",
       "75%    161.500000   75.700000   73.000000   72.000000   83.500000   66.255000\n",
       "max    215.000000   89.400000   97.700000   91.000000   98.000000   77.890000"
      ]
     },
     "execution_count": 40,
     "metadata": {},
     "output_type": "execute_result"
    }
   ],
   "source": [
    "df.describe()"
   ]
  },
  {
   "cell_type": "code",
   "execution_count": 41,
   "id": "ec17ec1c-d94c-49c8-87cf-bf65e8881af0",
   "metadata": {},
   "outputs": [
    {
     "data": {
      "text/plain": [
       "status\n",
       "Placed        148\n",
       "Not Placed     67\n",
       "Name: count, dtype: int64"
      ]
     },
     "execution_count": 41,
     "metadata": {},
     "output_type": "execute_result"
    }
   ],
   "source": [
    "df['status'].value_counts()"
   ]
  },
  {
   "cell_type": "markdown",
   "id": "6c337fc0-6135-4bcc-8250-6bd39f5dda5b",
   "metadata": {},
   "source": [
    "#### Лейбл класс несбалансирован, нужно применить технику SMOTE"
   ]
  },
  {
   "cell_type": "code",
   "execution_count": null,
   "id": "69ff7b74-be08-4429-bc1b-6e67f4591bff",
   "metadata": {},
   "outputs": [],
   "source": [
    "df['ssc_p'].plot(kind = 'bar')\n",
    "plt.show()"
   ]
  },
  {
   "cell_type": "code",
   "execution_count": 11,
   "id": "807e21f8-f820-4efb-ac15-8e28ce9993f0",
   "metadata": {},
   "outputs": [
    {
     "data": {
      "image/png": "[encoded data removed]",
      "text/plain": [
       "<Figure size 640x480 with 1 Axes>"
      ]
     },
     "metadata": {},
     "output_type": "display_data"
    }
   ],
   "source": [
    "df['hsc_p'].plot(kind = 'bar')\n",
    "plt.show()"
   ]
  },
  {
   "cell_type": "code",
   "execution_count": 12,
   "id": "f91cf4f0-8ea5-44b6-b93e-70586147abdf",
   "metadata": {},
   "outputs": [
    {
     "data": {
      "image/png": "[encoded data removed]",
      "text/plain": [
       "<Figure size 640x480 with 1 Axes>"
      ]
     },
     "metadata": {},
     "output_type": "display_data"
    }
   ],
   "source": [
    "df['degree_p'].plot(kind = 'bar')\n",
    "plt.show()"
   ]
  },
  {
   "cell_type": "code",
   "execution_count": 13,
   "id": "1aa0ef92-9516-4cd9-90a4-7709a0ed4f73",
   "metadata": {},
   "outputs": [
    {
     "data": {
      "image/png": "[encoded data removed]",
      "text/plain": [
       "<Figure size 640x480 with 1 Axes>"
      ]
     },
     "metadata": {},
     "output_type": "display_data"
    }
   ],
   "source": [
    "df['etest_p'].plot(kind = 'bar')\n",
    "plt.show()"
   ]
  },
  {
   "cell_type": "code",
   "execution_count": 14,
   "id": "c0454f05-a0c9-4b40-a6fb-1a34ecd76098",
   "metadata": {},
   "outputs": [
    {
     "data": {
      "image/png": "[encoded data removed]",
      "text/plain": [
       "<Figure size 640x480 with 1 Axes>"
      ]
     },
     "metadata": {},
     "output_type": "display_data"
    }
   ],
   "source": [
    "df['mba_p'].plot(kind = 'bar')\n",
    "plt.show()"
   ]
  },
  {
   "cell_type": "markdown",
   "id": "a067449c-5248-4a93-8dd5-b21b6fb0286a",
   "metadata": {},
   "source": [
    "#### 3. Результат анализа данных:\n",
    "\n",
    "- Необходимо удалить фичу sl_no, энкодировать лейбл и фичи такие как - gender, ssc_b, hsc_b, hsc_s, degree_t, workex, specialisation.\n",
    "- В силу того что лейбл несбалансирован, необходимо применить технику SMOTE.\n",
    "- Графический анализ numerical фичей показал что ко всем нужно применять MinMaxScaler, т.к все фичи не следуют нормальному распределению."
   ]
  },
  {
   "cell_type": "markdown",
   "id": "34365437-1393-4fb8-9fef-a20013467dcd",
   "metadata": {},
   "source": [
    "#### 4. Разделение данных для машинного обучения"
   ]
  },
  {
   "cell_type": "code",
   "execution_count": 42,
   "id": "8c27c783-301f-4846-82d8-a2bf2e3c31c7",
   "metadata": {},
   "outputs": [],
   "source": [
    "df.drop(['sl_no'], axis = 1 ,inplace = True)"
   ]
  },
  {
   "cell_type": "code",
   "execution_count": 43,
   "id": "c7298d07-7c35-4247-8a45-7073721982df",
   "metadata": {},
   "outputs": [
    {
     "data": {
      "text/plain": [
       "Index(['gender', 'ssc_p', 'ssc_b', 'hsc_p', 'hsc_b', 'hsc_s', 'degree_p',\n",
       "       'degree_t', 'workex', 'etest_p', 'specialisation', 'mba_p', 'status'],\n",
       "      dtype='object')"
      ]
     },
     "execution_count": 43,
     "metadata": {},
     "output_type": "execute_result"
    }
   ],
   "source": [
    "df.columns"
   ]
  },
  {
   "cell_type": "code",
   "execution_count": 44,
   "id": "b55a0502-3ad4-48c9-81a5-cd2e3c249608",
   "metadata": {},
   "outputs": [],
   "source": [
    "X = df.drop(['status'], axis = 1)\n",
    "y = df['status']"
   ]
  },
  {
   "cell_type": "code",
   "execution_count": 45,
   "id": "4e27a4d9-205f-45c1-833e-85af94727f95",
   "metadata": {},
   "outputs": [],
   "source": [
    "X_train, X_test, y_train, y_test = train_test_split(X, y, test_size=0.2, random_state=42, stratify=y)"
   ]
  },
  {
   "cell_type": "markdown",
   "id": "6a347259-8b18-425f-9afd-7c86095b8ab6",
   "metadata": {},
   "source": [
    "#### 5. Энкодинг и скейлинг данных"
   ]
  },
  {
   "cell_type": "code",
   "execution_count": 46,
   "id": "b2cd8b02-feb2-4ca1-88b5-1571e0149fa2",
   "metadata": {},
   "outputs": [],
   "source": [
    "processor = ColumnTransformer(\n",
    "    transformers=[\n",
    "        ('num', MinMaxScaler(), ['ssc_p', 'hsc_p', 'degree_p', 'etest_p', 'mba_p']),\n",
    "        ('cat', OneHotEncoder(handle_unknown='ignore'), ['gender', 'ssc_b', 'hsc_b', 'hsc_s', 'degree_t', 'workex', 'specialisation'])\n",
    "    ]\n",
    ")"
   ]
  },
  {
   "cell_type": "code",
   "execution_count": 47,
   "id": "61469905-a8a7-4f18-a2bb-f5016342d947",
   "metadata": {},
   "outputs": [],
   "source": [
    "X_train_encoded = processor.fit_transform(X_train)\n",
    "X_test_encoded = processor.transform(X_test)"
   ]
  },
  {
   "cell_type": "code",
   "execution_count": 48,
   "id": "220f1c1e-94b2-49bd-ba5d-304e36b8bf51",
   "metadata": {},
   "outputs": [],
   "source": [
    "label = LabelEncoder()\n",
    "y_train_encoded = label.fit_transform(y_train)\n",
    "y_test_encoded = label.transform(y_test)"
   ]
  },
  {
   "cell_type": "markdown",
   "id": "d3faedfa-89db-40ef-a471-20158a964e3a",
   "metadata": {},
   "source": [
    "#### 5. Применение SMOTE для балансировки данных."
   ]
  },
  {
   "cell_type": "code",
   "execution_count": 49,
   "id": "6d0e1e90-c07b-42a3-8ac2-a3cc4b7991f6",
   "metadata": {},
   "outputs": [],
   "source": [
    "smote = SMOTE(random_state=42)\n",
    "X_train_smote, y_train_smote = smote.fit_resample(X_train_encoded, y_train_encoded)"
   ]
  },
  {
   "cell_type": "markdown",
   "id": "3d88927f-9066-4a9d-b57c-79a8bf417af1",
   "metadata": {},
   "source": [
    "#### 7. Кросс валидация"
   ]
  },
  {
   "cell_type": "code",
   "execution_count": 50,
   "id": "74f85780-7410-40dc-a8ca-0d1c002490ff",
   "metadata": {},
   "outputs": [
    {
     "name": "stdout",
     "output_type": "stream",
     "text": [
      "--- Результаты кросс-валидации ---\n",
      "Оценки по каждому фолду: [0.79166667 0.78723404 0.82978723 0.85106383 0.82978723]\n",
      "Средняя точность кросс-валидации: 0.8179\n",
      "Стандартное отклонение оценок: 0.0245\n"
     ]
    }
   ],
   "source": [
    "kfold = KFold(n_splits=5, shuffle=True, random_state=42)\n",
    "model = LogisticRegression(solver='liblinear', max_iter=200)\n",
    "scores = cross_val_score(model, X_train_smote, y_train_smote, cv=kfold)\n",
    "\n",
    "print(\"--- Результаты кросс-валидации ---\")\n",
    "print(f\"Оценки по каждому фолду: {scores}\")\n",
    "print(f\"Средняя точность кросс-валидации: {scores.mean():.4f}\")\n",
    "print(f\"Стандартное отклонение оценок: {scores.std():.4f}\")"
   ]
  },
  {
   "cell_type": "markdown",
   "id": "eac4517b-167f-400a-b451-5f29b72fd6c9",
   "metadata": {},
   "source": [
    "### Шаг 2. Применение алгоритмов машинного обучения\n",
    "\n",
    "#### 1. Логичтическая регрессия как baseline для дальнейшей оценки перформанса других моделей.\n",
    "#### 2. Hyperparameter tuning и поиск оптимальных параметров для алгоритмов - \"LogisticRegression\"(Ridge, lasso), \"kNN\", \"SVM\", \"DecisionTree\", \"RandomForest\".\n",
    "#### 3. Запуск алгоритмов с лучшими параметрами найденными через hyperparameter tuning.\n",
    "#### 4. Анализ метрик Accuracy, Precision, Recall, F1, RPC-AUC.\n",
    "#### 5. Выводы"
   ]
  },
  {
   "cell_type": "markdown",
   "id": "8c710e57-323f-42ba-86c6-d0a0d174563e",
   "metadata": {},
   "source": [
    "#### 1. Логичтическая регрессия как baseline для дальнейшей оценки перформанса других моделей."
   ]
  },
  {
   "cell_type": "code",
   "execution_count": 51,
   "id": "4ec41624-d698-467d-ad2c-31eab57efcc4",
   "metadata": {},
   "outputs": [
    {
     "name": "stdout",
     "output_type": "stream",
     "text": [
      "--- Результаты оценки ---\n",
      "Точность на обучающей выборке: 0.8663\n",
      "Точность на тестовой выборке: 0.8605\n"
     ]
    }
   ],
   "source": [
    "model = LogisticRegression(solver='liblinear', max_iter=200)\n",
    "model.fit(X_train_smote, y_train_smote)\n",
    "\n",
    "# Делаем предсказания\n",
    "y_train_pred = model.predict(X_train_encoded)\n",
    "y_test_pred = model.predict(X_test_encoded)\n",
    "\n",
    "# Оцениваем точность\n",
    "train_accuracy = accuracy_score(y_train_encoded, y_train_pred)\n",
    "test_accuracy = accuracy_score(y_test_encoded, y_test_pred)\n",
    "\n",
    "print(\"--- Результаты оценки ---\")\n",
    "print(f\"Точность на обучающей выборке: {train_accuracy:.4f}\")\n",
    "print(f\"Точность на тестовой выборке: {test_accuracy:.4f}\")"
   ]
  },
  {
   "cell_type": "markdown",
   "id": "80f24b2e-b8e5-4625-b89e-a76c04c9d629",
   "metadata": {},
   "source": [
    "#### Так как Accuracy одинаковый, переобучение отсутствует."
   ]
  },
  {
   "cell_type": "markdown",
   "id": "65fd266d-b89e-4657-9287-d05db17fde80",
   "metadata": {},
   "source": [
    "#### 2. Hyperparameter tuning и поиск оптимальных параметров для алгоритмов - \"LogisticRegression\"(Ridge, lasso), \"kNN\", \"SVM\", \"DecisionTree\", \"RandomForest\"."
   ]
  },
  {
   "cell_type": "code",
   "execution_count": 52,
   "id": "d03d29e0-f9cf-49ff-b224-47ae276a2bc7",
   "metadata": {},
   "outputs": [],
   "source": [
    "def objective(trial, model_name):\n",
    "    \"\"\"\n",
    "    The core function that Optuna will optimize.\n",
    "    It suggests hyperparameters, creates a model, and returns its cross-validated accuracy.\n",
    "    \"\"\"\n",
    "\n",
    "    if model_name == \"LogisticRegression\":\n",
    "        params = {\n",
    "            'C': trial.suggest_float('C', 1e-4, 1e4, log=True),\n",
    "            'solver': trial.suggest_categorical('solver', ['liblinear', 'saga']),\n",
    "            'penalty': trial.suggest_categorical('penalty', ['l1', 'l2'])\n",
    "        }\n",
    "        if params['solver'] == 'liblinear' and params['penalty'] == 'l1':\n",
    "            pass\n",
    "        elif params['solver'] == 'saga':\n",
    "            pass\n",
    "        else:\n",
    "            params['penalty'] = 'l2'\n",
    "\n",
    "        model = LogisticRegression(**params)\n",
    "\n",
    "    elif model_name == \"kNN\":\n",
    "        params = {\n",
    "            'n_neighbors': trial.suggest_int('n_neighbors', 3, 50),\n",
    "            'weights': trial.suggest_categorical('weights', ['uniform', 'distance']),\n",
    "            'p': trial.suggest_int('p', 1, 2) # 1 for Manhattan, 2 for Euclidean\n",
    "        }\n",
    "        model = KNeighborsClassifier(**params)\n",
    "\n",
    "    elif model_name == \"SVM\":\n",
    "        params = {\n",
    "            'C': trial.suggest_float('C', 1e-4, 1e4, log=True),\n",
    "            'kernel': trial.suggest_categorical('kernel', ['linear', 'rbf', 'poly']),\n",
    "        }\n",
    "        if params['kernel'] == 'rbf' or params['kernel'] == 'poly':\n",
    "            params['gamma'] = trial.suggest_float('gamma', 1e-4, 1e2, log=True)\n",
    "        if params['kernel'] == 'poly':\n",
    "            params['degree'] = trial.suggest_int('degree', 2, 5)\n",
    "\n",
    "        model = SVC(**params, probability=True)\n",
    "\n",
    "    elif model_name == \"DecisionTree\":\n",
    "        params = {\n",
    "            'criterion': trial.suggest_categorical('criterion', ['gini', 'entropy']),\n",
    "            'max_depth': trial.suggest_int('max_depth', 2, 32),\n",
    "            'min_samples_split': trial.suggest_int('min_samples_split', 2, 20),\n",
    "            'min_samples_leaf': trial.suggest_int('min_samples_leaf', 1, 20),\n",
    "        }\n",
    "        model = DecisionTreeClassifier(**params, random_state=42)\n",
    "\n",
    "    elif model_name == \"RandomForest\":\n",
    "        params = {\n",
    "            'n_estimators': trial.suggest_int('n_estimators', 50, 1000),\n",
    "            'max_depth': trial.suggest_int('max_depth', 4, 50),\n",
    "            'min_samples_split': trial.suggest_int('min_samples_split', 2, 20),\n",
    "            'min_samples_leaf': trial.suggest_int('min_samples_leaf', 1, 20),\n",
    "            'bootstrap': trial.suggest_categorical('bootstrap', [True, False])\n",
    "        }\n",
    "        model = RandomForestClassifier(**params, random_state=42, n_jobs=-1)\n",
    "\n",
    "    else:\n",
    "        raise ValueError(f\"Model {model_name} is not supported.\")\n",
    "\n",
    "    accuracy = cross_val_score(model, X_train_smote, y_train_smote, n_jobs=-1, cv=5, scoring='accuracy').mean()\n",
    "\n",
    "    return accuracy"
   ]
  },
  {
   "cell_type": "code",
   "execution_count": 55,
   "id": "cd29ffe9-4fc2-4a46-95c7-a3aa95e69bb7",
   "metadata": {},
   "outputs": [
    {
     "name": "stderr",
     "output_type": "stream",
     "text": [
      "[I 2025-09-21 16:11:36,720] A new study created in memory with name: no-name-00003fa9-985d-4600-b621-5f09ff24b996\n"
     ]
    },
    {
     "name": "stdout",
     "output_type": "stream",
     "text": [
      "🚀 Starting optimization for: LogisticRegression\n"
     ]
    },
    {
     "name": "stderr",
     "output_type": "stream",
     "text": [
      "[I 2025-09-21 16:11:37,823] Trial 0 finished with value: 0.4957446808510638 and parameters: {'C': 0.00023366020835523225, 'solver': 'saga', 'penalty': 'l1'}. Best is trial 0 with value: 0.4957446808510638.\n",
      "[I 2025-09-21 16:11:38,612] Trial 1 finished with value: 0.8812056737588652 and parameters: {'C': 17.890224690739743, 'solver': 'liblinear', 'penalty': 'l2'}. Best is trial 1 with value: 0.8812056737588652.\n",
      "[I 2025-09-21 16:11:39,441] Trial 2 finished with value: 0.7716312056737589 and parameters: {'C': 0.10443266199321084, 'solver': 'liblinear', 'penalty': 'l2'}. Best is trial 1 with value: 0.8812056737588652.\n",
      "[I 2025-09-21 16:11:40,156] Trial 3 finished with value: 0.4999999999999999 and parameters: {'C': 0.012562564393626822, 'solver': 'liblinear', 'penalty': 'l1'}. Best is trial 1 with value: 0.8812056737588652.\n",
      "[I 2025-09-21 16:11:40,169] Trial 4 finished with value: 0.6784574468085107 and parameters: {'C': 0.0005406523751030284, 'solver': 'liblinear', 'penalty': 'l2'}. Best is trial 1 with value: 0.8812056737588652.\n",
      "[I 2025-09-21 16:11:40,182] Trial 5 finished with value: 0.4999999999999999 and parameters: {'C': 0.01759499465940342, 'solver': 'liblinear', 'penalty': 'l1'}. Best is trial 1 with value: 0.8812056737588652.\n",
      "[I 2025-09-21 16:11:40,194] Trial 6 finished with value: 0.8853723404255319 and parameters: {'C': 14.462011676996873, 'solver': 'liblinear', 'penalty': 'l1'}. Best is trial 6 with value: 0.8853723404255319.\n",
      "[I 2025-09-21 16:11:40,207] Trial 7 finished with value: 0.7080673758865249 and parameters: {'C': 0.005070092892815063, 'solver': 'liblinear', 'penalty': 'l2'}. Best is trial 6 with value: 0.8853723404255319.\n",
      "[I 2025-09-21 16:11:40,220] Trial 8 finished with value: 0.5 and parameters: {'C': 0.0006131126552756785, 'solver': 'saga', 'penalty': 'l1'}. Best is trial 6 with value: 0.8853723404255319.\n",
      "[I 2025-09-21 16:11:40,232] Trial 9 finished with value: 0.8768617021276596 and parameters: {'C': 5.796738157559936, 'solver': 'liblinear', 'penalty': 'l1'}. Best is trial 6 with value: 0.8853723404255319.\n",
      "[I 2025-09-21 16:11:40,245] Trial 10 finished with value: 0.8853723404255319 and parameters: {'C': 8500.408506829515, 'solver': 'saga', 'penalty': 'l1'}. Best is trial 6 with value: 0.8853723404255319.\n",
      "[I 2025-09-21 16:11:40,259] Trial 11 finished with value: 0.8853723404255319 and parameters: {'C': 7487.9410292445455, 'solver': 'saga', 'penalty': 'l1'}. Best is trial 6 with value: 0.8853723404255319.\n",
      "[I 2025-09-21 16:11:40,272] Trial 12 finished with value: 0.8853723404255319 and parameters: {'C': 9956.97630744638, 'solver': 'saga', 'penalty': 'l1'}. Best is trial 6 with value: 0.8853723404255319.\n",
      "[I 2025-09-21 16:11:40,286] Trial 13 finished with value: 0.8853723404255319 and parameters: {'C': 213.68217022756969, 'solver': 'saga', 'penalty': 'l1'}. Best is trial 6 with value: 0.8853723404255319.\n",
      "[I 2025-09-21 16:11:40,299] Trial 14 finished with value: 0.8853723404255319 and parameters: {'C': 206.95914375096325, 'solver': 'saga', 'penalty': 'l1'}. Best is trial 6 with value: 0.8853723404255319.\n",
      "[I 2025-09-21 16:11:40,312] Trial 15 finished with value: 0.8853723404255319 and parameters: {'C': 436.7354936093005, 'solver': 'saga', 'penalty': 'l1'}. Best is trial 6 with value: 0.8853723404255319.\n",
      "[I 2025-09-21 16:11:40,325] Trial 16 finished with value: 0.8726063829787234 and parameters: {'C': 1.4102104473441643, 'solver': 'liblinear', 'penalty': 'l1'}. Best is trial 6 with value: 0.8853723404255319.\n",
      "[I 2025-09-21 16:11:40,338] Trial 17 finished with value: 0.8853723404255319 and parameters: {'C': 27.274013693433066, 'solver': 'saga', 'penalty': 'l1'}. Best is trial 6 with value: 0.8853723404255319.\n",
      "[I 2025-09-21 16:11:40,352] Trial 18 finished with value: 0.8853723404255319 and parameters: {'C': 1381.0403895659197, 'solver': 'saga', 'penalty': 'l2'}. Best is trial 6 with value: 0.8853723404255319.\n",
      "[I 2025-09-21 16:11:40,366] Trial 19 finished with value: 0.8599290780141844 and parameters: {'C': 0.8945032924106007, 'solver': 'liblinear', 'penalty': 'l1'}. Best is trial 6 with value: 0.8853723404255319.\n",
      "[I 2025-09-21 16:11:40,378] Trial 20 finished with value: 0.7968971631205675 and parameters: {'C': 0.26895391916750117, 'solver': 'liblinear', 'penalty': 'l1'}. Best is trial 6 with value: 0.8853723404255319.\n",
      "[I 2025-09-21 16:11:40,392] Trial 21 finished with value: 0.8853723404255319 and parameters: {'C': 8865.34473950077, 'solver': 'saga', 'penalty': 'l1'}. Best is trial 6 with value: 0.8853723404255319.\n",
      "[I 2025-09-21 16:11:40,405] Trial 22 finished with value: 0.8853723404255319 and parameters: {'C': 1406.1909165180134, 'solver': 'saga', 'penalty': 'l1'}. Best is trial 6 with value: 0.8853723404255319.\n",
      "[I 2025-09-21 16:11:40,418] Trial 23 finished with value: 0.8853723404255319 and parameters: {'C': 59.83021980928859, 'solver': 'saga', 'penalty': 'l1'}. Best is trial 6 with value: 0.8853723404255319.\n",
      "[I 2025-09-21 16:11:40,431] Trial 24 finished with value: 0.8853723404255319 and parameters: {'C': 1583.623977642853, 'solver': 'saga', 'penalty': 'l1'}. Best is trial 6 with value: 0.8853723404255319.\n",
      "[I 2025-09-21 16:11:40,444] Trial 25 finished with value: 0.8853723404255319 and parameters: {'C': 3812.981260063664, 'solver': 'saga', 'penalty': 'l1'}. Best is trial 6 with value: 0.8853723404255319.\n",
      "[I 2025-09-21 16:11:40,457] Trial 26 finished with value: 0.8684397163120569 and parameters: {'C': 5.516449514375441, 'solver': 'saga', 'penalty': 'l2'}. Best is trial 6 with value: 0.8853723404255319.\n",
      "[I 2025-09-21 16:11:40,471] Trial 27 finished with value: 0.8853723404255319 and parameters: {'C': 91.0780650924209, 'solver': 'saga', 'penalty': 'l1'}. Best is trial 6 with value: 0.8853723404255319.\n",
      "[I 2025-09-21 16:11:40,494] Trial 28 finished with value: 0.8853723404255319 and parameters: {'C': 655.0432179167032, 'solver': 'liblinear', 'penalty': 'l1'}. Best is trial 6 with value: 0.8853723404255319.\n",
      "[I 2025-09-21 16:11:40,507] Trial 29 finished with value: 0.8896276595744681 and parameters: {'C': 3471.264164719401, 'solver': 'saga', 'penalty': 'l1'}. Best is trial 29 with value: 0.8896276595744681.\n",
      "[I 2025-09-21 16:11:40,520] Trial 30 finished with value: 0.8811170212765959 and parameters: {'C': 7.391000619920045, 'solver': 'saga', 'penalty': 'l1'}. Best is trial 29 with value: 0.8896276595744681.\n",
      "[I 2025-09-21 16:11:40,533] Trial 31 finished with value: 0.8896276595744681 and parameters: {'C': 3035.111356397854, 'solver': 'saga', 'penalty': 'l1'}. Best is trial 29 with value: 0.8896276595744681.\n",
      "[I 2025-09-21 16:11:40,547] Trial 32 finished with value: 0.8896276595744681 and parameters: {'C': 2416.3097698431316, 'solver': 'saga', 'penalty': 'l1'}. Best is trial 29 with value: 0.8896276595744681.\n",
      "[I 2025-09-21 16:11:40,560] Trial 33 finished with value: 0.8853723404255319 and parameters: {'C': 1888.3678994406482, 'solver': 'saga', 'penalty': 'l1'}. Best is trial 29 with value: 0.8896276595744681.\n",
      "[I 2025-09-21 16:11:40,574] Trial 34 finished with value: 0.8853723404255319 and parameters: {'C': 385.07579002073464, 'solver': 'saga', 'penalty': 'l2'}. Best is trial 29 with value: 0.8896276595744681.\n",
      "[I 2025-09-21 16:11:40,597] Trial 35 finished with value: 0.8853723404255319 and parameters: {'C': 56.685465882840084, 'solver': 'liblinear', 'penalty': 'l1'}. Best is trial 29 with value: 0.8896276595744681.\n",
      "[I 2025-09-21 16:11:40,610] Trial 36 finished with value: 0.8853723404255319 and parameters: {'C': 162.6241559982707, 'solver': 'liblinear', 'penalty': 'l2'}. Best is trial 29 with value: 0.8896276595744681.\n",
      "[I 2025-09-21 16:11:40,623] Trial 37 finished with value: 0.8896276595744681 and parameters: {'C': 2773.0391654001915, 'solver': 'saga', 'penalty': 'l1'}. Best is trial 29 with value: 0.8896276595744681.\n",
      "[I 2025-09-21 16:11:40,637] Trial 38 finished with value: 0.8896276595744681 and parameters: {'C': 3188.5584284741326, 'solver': 'saga', 'penalty': 'l1'}. Best is trial 29 with value: 0.8896276595744681.\n",
      "[I 2025-09-21 16:11:40,650] Trial 39 finished with value: 0.8853723404255319 and parameters: {'C': 841.7520396354175, 'solver': 'saga', 'penalty': 'l2'}. Best is trial 29 with value: 0.8896276595744681.\n",
      "[I 2025-09-21 16:11:40,665] Trial 40 finished with value: 0.8896276595744681 and parameters: {'C': 3213.115005105401, 'solver': 'saga', 'penalty': 'l1'}. Best is trial 29 with value: 0.8896276595744681.\n",
      "[I 2025-09-21 16:11:40,679] Trial 41 finished with value: 0.8896276595744681 and parameters: {'C': 3405.896575522395, 'solver': 'saga', 'penalty': 'l1'}. Best is trial 29 with value: 0.8896276595744681.\n",
      "[I 2025-09-21 16:11:40,692] Trial 42 finished with value: 0.8896276595744681 and parameters: {'C': 597.1538859630008, 'solver': 'saga', 'penalty': 'l1'}. Best is trial 29 with value: 0.8896276595744681.\n",
      "[I 2025-09-21 16:11:40,707] Trial 43 finished with value: 0.8853723404255319 and parameters: {'C': 3434.203233812835, 'solver': 'saga', 'penalty': 'l1'}. Best is trial 29 with value: 0.8896276595744681.\n",
      "[I 2025-09-21 16:11:40,720] Trial 44 finished with value: 0.5042553191489361 and parameters: {'C': 0.00013797989725288764, 'solver': 'saga', 'penalty': 'l1'}. Best is trial 29 with value: 0.8896276595744681.\n",
      "[I 2025-09-21 16:11:40,733] Trial 45 finished with value: 0.8896276595744681 and parameters: {'C': 4566.640421607357, 'solver': 'saga', 'penalty': 'l1'}. Best is trial 29 with value: 0.8896276595744681.\n",
      "[I 2025-09-21 16:11:40,747] Trial 46 finished with value: 0.8896276595744681 and parameters: {'C': 315.638692673841, 'solver': 'saga', 'penalty': 'l1'}. Best is trial 29 with value: 0.8896276595744681.\n",
      "[I 2025-09-21 16:11:40,760] Trial 47 finished with value: 0.8896276595744681 and parameters: {'C': 1073.924194371867, 'solver': 'saga', 'penalty': 'l1'}. Best is trial 29 with value: 0.8896276595744681.\n",
      "[I 2025-09-21 16:11:40,774] Trial 48 finished with value: 0.4957446808510638 and parameters: {'C': 0.013349457542514438, 'solver': 'saga', 'penalty': 'l1'}. Best is trial 29 with value: 0.8896276595744681.\n",
      "[I 2025-09-21 16:11:40,787] Trial 49 finished with value: 0.5 and parameters: {'C': 0.0011975777034428992, 'solver': 'saga', 'penalty': 'l1'}. Best is trial 29 with value: 0.8896276595744681.\n",
      "[I 2025-09-21 16:11:40,787] A new study created in memory with name: no-name-4a235127-d10c-4a3b-9e14-2e2a8ef90ae6\n",
      "[I 2025-09-21 16:11:40,842] Trial 0 finished with value: 0.7842198581560283 and parameters: {'n_neighbors': 34, 'weights': 'distance', 'p': 1}. Best is trial 0 with value: 0.7842198581560283.\n",
      "[I 2025-09-21 16:11:40,897] Trial 1 finished with value: 0.788386524822695 and parameters: {'n_neighbors': 10, 'weights': 'distance', 'p': 2}. Best is trial 1 with value: 0.788386524822695.\n",
      "[I 2025-09-21 16:11:40,950] Trial 2 finished with value: 0.7631205673758865 and parameters: {'n_neighbors': 23, 'weights': 'distance', 'p': 2}. Best is trial 1 with value: 0.788386524822695.\n",
      "[I 2025-09-21 16:11:40,994] Trial 3 finished with value: 0.6908687943262412 and parameters: {'n_neighbors': 28, 'weights': 'uniform', 'p': 2}. Best is trial 1 with value: 0.788386524822695.\n"
     ]
    },
    {
     "name": "stdout",
     "output_type": "stream",
     "text": [
      "Optimization finished for: LogisticRegression\n",
      "Best trial accuracy: 0.8896\n",
      "Best parameters: {'C': 3471.264164719401, 'solver': 'saga', 'penalty': 'l1'}\n",
      "--------------------------------------------------\n",
      "\n",
      "Here are the best hyperparameters found for each model:\n",
      "\n",
      "Model: LogisticRegression\n",
      "  Parameters: {'C': 3471.264164719401, 'solver': 'saga', 'penalty': 'l1'}\n",
      "🚀 Starting optimization for: kNN\n"
     ]
    },
    {
     "name": "stderr",
     "output_type": "stream",
     "text": [
      "[I 2025-09-21 16:11:41,007] Trial 4 finished with value: 0.7926418439716312 and parameters: {'n_neighbors': 17, 'weights': 'distance', 'p': 1}. Best is trial 4 with value: 0.7926418439716312.\n",
      "[I 2025-09-21 16:11:41,020] Trial 5 finished with value: 0.7968971631205674 and parameters: {'n_neighbors': 32, 'weights': 'distance', 'p': 1}. Best is trial 5 with value: 0.7968971631205674.\n",
      "[I 2025-09-21 16:11:41,032] Trial 6 finished with value: 0.7842198581560283 and parameters: {'n_neighbors': 47, 'weights': 'distance', 'p': 2}. Best is trial 5 with value: 0.7968971631205674.\n",
      "[I 2025-09-21 16:11:41,046] Trial 7 finished with value: 0.6914007092198581 and parameters: {'n_neighbors': 35, 'weights': 'uniform', 'p': 1}. Best is trial 5 with value: 0.7968971631205674.\n",
      "[I 2025-09-21 16:11:41,057] Trial 8 finished with value: 0.7884751773049645 and parameters: {'n_neighbors': 11, 'weights': 'distance', 'p': 2}. Best is trial 5 with value: 0.7968971631205674.\n",
      "[I 2025-09-21 16:11:41,069] Trial 9 finished with value: 0.6826241134751773 and parameters: {'n_neighbors': 13, 'weights': 'uniform', 'p': 1}. Best is trial 5 with value: 0.7968971631205674.\n",
      "[I 2025-09-21 16:11:41,083] Trial 10 finished with value: 0.737677304964539 and parameters: {'n_neighbors': 49, 'weights': 'uniform', 'p': 1}. Best is trial 5 with value: 0.7968971631205674.\n",
      "[I 2025-09-21 16:11:41,097] Trial 11 finished with value: 0.7882978723404255 and parameters: {'n_neighbors': 20, 'weights': 'distance', 'p': 1}. Best is trial 5 with value: 0.7968971631205674.\n",
      "[I 2025-09-21 16:11:41,110] Trial 12 finished with value: 0.8391843971631205 and parameters: {'n_neighbors': 3, 'weights': 'distance', 'p': 1}. Best is trial 12 with value: 0.8391843971631205.\n",
      "[I 2025-09-21 16:11:41,124] Trial 13 finished with value: 0.8138297872340425 and parameters: {'n_neighbors': 6, 'weights': 'distance', 'p': 1}. Best is trial 12 with value: 0.8391843971631205.\n",
      "[I 2025-09-21 16:11:41,138] Trial 14 finished with value: 0.8391843971631205 and parameters: {'n_neighbors': 3, 'weights': 'distance', 'p': 1}. Best is trial 12 with value: 0.8391843971631205.\n",
      "[I 2025-09-21 16:11:41,152] Trial 15 finished with value: 0.8391843971631205 and parameters: {'n_neighbors': 3, 'weights': 'distance', 'p': 1}. Best is trial 12 with value: 0.8391843971631205.\n",
      "[I 2025-09-21 16:11:41,165] Trial 16 finished with value: 0.8391843971631205 and parameters: {'n_neighbors': 3, 'weights': 'distance', 'p': 1}. Best is trial 12 with value: 0.8391843971631205.\n",
      "[I 2025-09-21 16:11:41,179] Trial 17 finished with value: 0.8013297872340426 and parameters: {'n_neighbors': 41, 'weights': 'distance', 'p': 1}. Best is trial 12 with value: 0.8391843971631205.\n",
      "[I 2025-09-21 16:11:41,193] Trial 18 finished with value: 0.7033687943262412 and parameters: {'n_neighbors': 15, 'weights': 'uniform', 'p': 1}. Best is trial 12 with value: 0.8391843971631205.\n",
      "[I 2025-09-21 16:11:41,207] Trial 19 finished with value: 0.8179964539007092 and parameters: {'n_neighbors': 8, 'weights': 'distance', 'p': 1}. Best is trial 12 with value: 0.8391843971631205.\n",
      "[I 2025-09-21 16:11:41,221] Trial 20 finished with value: 0.7756205673758865 and parameters: {'n_neighbors': 25, 'weights': 'distance', 'p': 2}. Best is trial 12 with value: 0.8391843971631205.\n",
      "[I 2025-09-21 16:11:41,234] Trial 21 finished with value: 0.8391843971631205 and parameters: {'n_neighbors': 3, 'weights': 'distance', 'p': 1}. Best is trial 12 with value: 0.8391843971631205.\n",
      "[I 2025-09-21 16:11:41,249] Trial 22 finished with value: 0.8138297872340425 and parameters: {'n_neighbors': 6, 'weights': 'distance', 'p': 1}. Best is trial 12 with value: 0.8391843971631205.\n",
      "[I 2025-09-21 16:11:41,263] Trial 23 finished with value: 0.8350177304964539 and parameters: {'n_neighbors': 4, 'weights': 'distance', 'p': 1}. Best is trial 12 with value: 0.8391843971631205.\n",
      "[I 2025-09-21 16:11:41,277] Trial 24 finished with value: 0.8180851063829786 and parameters: {'n_neighbors': 9, 'weights': 'distance', 'p': 1}. Best is trial 12 with value: 0.8391843971631205.\n",
      "[I 2025-09-21 16:11:41,291] Trial 25 finished with value: 0.7968085106382978 and parameters: {'n_neighbors': 19, 'weights': 'distance', 'p': 1}. Best is trial 12 with value: 0.8391843971631205.\n",
      "[I 2025-09-21 16:11:41,304] Trial 26 finished with value: 0.6824468085106383 and parameters: {'n_neighbors': 14, 'weights': 'uniform', 'p': 1}. Best is trial 12 with value: 0.8391843971631205.\n",
      "[I 2025-09-21 16:11:41,317] Trial 27 finished with value: 0.8265070921985815 and parameters: {'n_neighbors': 7, 'weights': 'distance', 'p': 1}. Best is trial 12 with value: 0.8391843971631205.\n",
      "[I 2025-09-21 16:11:41,331] Trial 28 finished with value: 0.8222517730496455 and parameters: {'n_neighbors': 12, 'weights': 'distance', 'p': 1}. Best is trial 12 with value: 0.8391843971631205.\n",
      "[I 2025-09-21 16:11:41,345] Trial 29 finished with value: 0.8138297872340425 and parameters: {'n_neighbors': 6, 'weights': 'distance', 'p': 1}. Best is trial 12 with value: 0.8391843971631205.\n",
      "[I 2025-09-21 16:11:41,359] Trial 30 finished with value: 0.8391843971631205 and parameters: {'n_neighbors': 3, 'weights': 'distance', 'p': 1}. Best is trial 12 with value: 0.8391843971631205.\n",
      "[I 2025-09-21 16:11:41,373] Trial 31 finished with value: 0.8391843971631205 and parameters: {'n_neighbors': 3, 'weights': 'distance', 'p': 1}. Best is trial 12 with value: 0.8391843971631205.\n",
      "[I 2025-09-21 16:11:41,386] Trial 32 finished with value: 0.8180851063829788 and parameters: {'n_neighbors': 10, 'weights': 'distance', 'p': 1}. Best is trial 12 with value: 0.8391843971631205.\n",
      "[I 2025-09-21 16:11:41,400] Trial 33 finished with value: 0.8179964539007092 and parameters: {'n_neighbors': 8, 'weights': 'distance', 'p': 1}. Best is trial 12 with value: 0.8391843971631205.\n",
      "[I 2025-09-21 16:11:41,415] Trial 34 finished with value: 0.7970744680851063 and parameters: {'n_neighbors': 5, 'weights': 'distance', 'p': 2}. Best is trial 12 with value: 0.8391843971631205.\n",
      "[I 2025-09-21 16:11:41,429] Trial 35 finished with value: 0.7841312056737588 and parameters: {'n_neighbors': 16, 'weights': 'distance', 'p': 1}. Best is trial 12 with value: 0.8391843971631205.\n",
      "[I 2025-09-21 16:11:41,442] Trial 36 finished with value: 0.8180851063829788 and parameters: {'n_neighbors': 10, 'weights': 'distance', 'p': 1}. Best is trial 12 with value: 0.8391843971631205.\n",
      "[I 2025-09-21 16:11:41,456] Trial 37 finished with value: 0.7035460992907802 and parameters: {'n_neighbors': 22, 'weights': 'uniform', 'p': 2}. Best is trial 12 with value: 0.8391843971631205.\n",
      "[I 2025-09-21 16:11:41,471] Trial 38 finished with value: 0.8391843971631205 and parameters: {'n_neighbors': 3, 'weights': 'distance', 'p': 1}. Best is trial 12 with value: 0.8391843971631205.\n",
      "[I 2025-09-21 16:11:41,485] Trial 39 finished with value: 0.7884751773049645 and parameters: {'n_neighbors': 30, 'weights': 'distance', 'p': 1}. Best is trial 12 with value: 0.8391843971631205.\n",
      "[I 2025-09-21 16:11:41,500] Trial 40 finished with value: 0.7715425531914893 and parameters: {'n_neighbors': 38, 'weights': 'distance', 'p': 2}. Best is trial 12 with value: 0.8391843971631205.\n",
      "[I 2025-09-21 16:11:41,514] Trial 41 finished with value: 0.8391843971631205 and parameters: {'n_neighbors': 3, 'weights': 'distance', 'p': 1}. Best is trial 12 with value: 0.8391843971631205.\n",
      "[I 2025-09-21 16:11:41,527] Trial 42 finished with value: 0.8138297872340425 and parameters: {'n_neighbors': 6, 'weights': 'distance', 'p': 1}. Best is trial 12 with value: 0.8391843971631205.\n",
      "[I 2025-09-21 16:11:41,541] Trial 43 finished with value: 0.8180851063829786 and parameters: {'n_neighbors': 9, 'weights': 'distance', 'p': 1}. Best is trial 12 with value: 0.8391843971631205.\n",
      "[I 2025-09-21 16:11:41,556] Trial 44 finished with value: 0.8222517730496455 and parameters: {'n_neighbors': 12, 'weights': 'distance', 'p': 1}. Best is trial 12 with value: 0.8391843971631205.\n",
      "[I 2025-09-21 16:11:41,570] Trial 45 finished with value: 0.7840425531914892 and parameters: {'n_neighbors': 5, 'weights': 'uniform', 'p': 1}. Best is trial 12 with value: 0.8391843971631205.\n",
      "[I 2025-09-21 16:11:41,584] Trial 46 finished with value: 0.8179964539007092 and parameters: {'n_neighbors': 8, 'weights': 'distance', 'p': 1}. Best is trial 12 with value: 0.8391843971631205.\n",
      "[I 2025-09-21 16:11:41,598] Trial 47 finished with value: 0.7969858156028369 and parameters: {'n_neighbors': 11, 'weights': 'distance', 'p': 1}. Best is trial 12 with value: 0.8391843971631205.\n",
      "[I 2025-09-21 16:11:41,612] Trial 48 finished with value: 0.7840425531914892 and parameters: {'n_neighbors': 5, 'weights': 'uniform', 'p': 1}. Best is trial 12 with value: 0.8391843971631205.\n",
      "[I 2025-09-21 16:11:41,626] Trial 49 finished with value: 0.8391843971631205 and parameters: {'n_neighbors': 3, 'weights': 'distance', 'p': 1}. Best is trial 12 with value: 0.8391843971631205.\n",
      "[I 2025-09-21 16:11:41,626] A new study created in memory with name: no-name-07f447af-6742-4837-bbbe-d30405144173\n",
      "[I 2025-09-21 16:11:41,639] Trial 0 finished with value: 0.8984042553191489 and parameters: {'C': 0.23221688630671078, 'kernel': 'poly', 'gamma': 1.3038399258132305, 'degree': 3}. Best is trial 0 with value: 0.8984042553191489.\n",
      "[I 2025-09-21 16:11:41,651] Trial 1 finished with value: 0.8557624113475176 and parameters: {'C': 1.1328291116411318, 'kernel': 'linear'}. Best is trial 0 with value: 0.8984042553191489.\n",
      "[I 2025-09-21 16:11:41,663] Trial 2 finished with value: 0.5289893617021277 and parameters: {'C': 0.0030394092819999883, 'kernel': 'linear'}. Best is trial 0 with value: 0.8984042553191489.\n",
      "[I 2025-09-21 16:11:41,676] Trial 3 finished with value: 0.5289893617021277 and parameters: {'C': 0.004178218487570628, 'kernel': 'rbf', 'gamma': 0.0006085578248611736}. Best is trial 0 with value: 0.8984042553191489.\n",
      "[I 2025-09-21 16:11:41,688] Trial 4 finished with value: 0.8856382978723405 and parameters: {'C': 0.0001950358905274974, 'kernel': 'poly', 'gamma': 4.641418853123073, 'degree': 3}. Best is trial 0 with value: 0.8984042553191489.\n",
      "[I 2025-09-21 16:11:41,700] Trial 5 finished with value: 0.8559397163120567 and parameters: {'C': 6.639863015485694, 'kernel': 'poly', 'gamma': 3.7989408944231378, 'degree': 4}. Best is trial 0 with value: 0.8984042553191489.\n",
      "[I 2025-09-21 16:11:41,713] Trial 6 finished with value: 0.5206560283687944 and parameters: {'C': 0.054558002999664554, 'kernel': 'poly', 'gamma': 0.009589581436996461, 'degree': 3}. Best is trial 0 with value: 0.8984042553191489.\n",
      "[I 2025-09-21 16:11:41,725] Trial 7 finished with value: 0.5081560283687944 and parameters: {'C': 0.00033724327124711053, 'kernel': 'rbf', 'gamma': 46.54920425505474}. Best is trial 0 with value: 0.8984042553191489.\n",
      "[I 2025-09-21 16:11:41,737] Trial 8 finished with value: 0.524822695035461 and parameters: {'C': 4.964172234345977, 'kernel': 'poly', 'gamma': 0.0011025763241152794, 'degree': 2}. Best is trial 0 with value: 0.8984042553191489.\n",
      "[I 2025-09-21 16:11:41,749] Trial 9 finished with value: 0.8899822695035461 and parameters: {'C': 112.08015059799644, 'kernel': 'rbf', 'gamma': 0.18824306716579792}. Best is trial 0 with value: 0.8984042553191489.\n",
      "[I 2025-09-21 16:11:41,764] Trial 10 finished with value: 0.8560283687943262 and parameters: {'C': 459.15411895314793, 'kernel': 'poly', 'gamma': 0.17541916132446608, 'degree': 5}. Best is trial 0 with value: 0.8984042553191489.\n",
      "[I 2025-09-21 16:11:41,778] Trial 11 finished with value: 0.8604609929078014 and parameters: {'C': 9822.44215486695, 'kernel': 'rbf', 'gamma': 0.3262737883657055}. Best is trial 0 with value: 0.8984042553191489.\n",
      "[I 2025-09-21 16:11:41,792] Trial 12 finished with value: 0.89822695035461 and parameters: {'C': 65.50977524012892, 'kernel': 'rbf', 'gamma': 0.03023176733398113}. Best is trial 0 with value: 0.8984042553191489.\n",
      "[I 2025-09-21 16:11:41,805] Trial 13 finished with value: 0.5289893617021277 and parameters: {'C': 0.07609281920926121, 'kernel': 'rbf', 'gamma': 0.017982148389377412}. Best is trial 0 with value: 0.8984042553191489.\n",
      "[I 2025-09-21 16:11:41,838] Trial 14 finished with value: 0.8854609929078014 and parameters: {'C': 57.6201820249177, 'kernel': 'linear'}. Best is trial 0 with value: 0.8984042553191489.\n"
     ]
    },
    {
     "name": "stdout",
     "output_type": "stream",
     "text": [
      "Optimization finished for: kNN\n",
      "Best trial accuracy: 0.8392\n",
      "Best parameters: {'n_neighbors': 3, 'weights': 'distance', 'p': 1}\n",
      "--------------------------------------------------\n",
      "\n",
      "Here are the best hyperparameters found for each model:\n",
      "\n",
      "Model: LogisticRegression\n",
      "  Parameters: {'C': 3471.264164719401, 'solver': 'saga', 'penalty': 'l1'}\n",
      "\n",
      "Model: kNN\n",
      "  Parameters: {'n_neighbors': 3, 'weights': 'distance', 'p': 1}\n",
      "🚀 Starting optimization for: SVM\n"
     ]
    },
    {
     "name": "stderr",
     "output_type": "stream",
     "text": [
      "[I 2025-09-21 16:11:41,853] Trial 15 finished with value: 0.8857269503546099 and parameters: {'C': 0.09120954569508201, 'kernel': 'poly', 'gamma': 1.437519979475687, 'degree': 2}. Best is trial 0 with value: 0.8984042553191489.\n",
      "[I 2025-09-21 16:11:41,866] Trial 16 finished with value: 0.89822695035461 and parameters: {'C': 3707.278422580436, 'kernel': 'rbf', 'gamma': 0.01277804726747652}. Best is trial 0 with value: 0.8984042553191489.\n",
      "[I 2025-09-21 16:11:41,890] Trial 17 finished with value: 0.6737588652482269 and parameters: {'C': 15.099285199968538, 'kernel': 'rbf', 'gamma': 86.44981577009014}. Best is trial 0 with value: 0.8984042553191489.\n",
      "[I 2025-09-21 16:11:41,904] Trial 18 finished with value: 0.524822695035461 and parameters: {'C': 0.756211185163721, 'kernel': 'poly', 'gamma': 0.04150157773127019, 'degree': 4}. Best is trial 0 with value: 0.8984042553191489.\n",
      "[I 2025-09-21 16:11:42,127] Trial 19 finished with value: 0.8896276595744681 and parameters: {'C': 641.149258641161, 'kernel': 'linear'}. Best is trial 0 with value: 0.8984042553191489.\n",
      "[I 2025-09-21 16:11:42,141] Trial 20 finished with value: 0.5164893617021277 and parameters: {'C': 0.5097787754475889, 'kernel': 'poly', 'gamma': 0.0029315223011515666, 'degree': 5}. Best is trial 0 with value: 0.8984042553191489.\n",
      "[I 2025-09-21 16:11:42,165] Trial 21 finished with value: 0.9068262411347519 and parameters: {'C': 9671.306463794057, 'kernel': 'rbf', 'gamma': 0.003967308819058081}. Best is trial 21 with value: 0.9068262411347519.\n",
      "[I 2025-09-21 16:11:42,179] Trial 22 finished with value: 0.8474290780141844 and parameters: {'C': 1186.358210785562, 'kernel': 'rbf', 'gamma': 0.00018371464432180126}. Best is trial 21 with value: 0.9068262411347519.\n",
      "[I 2025-09-21 16:11:42,192] Trial 23 finished with value: 0.864804964539007 and parameters: {'C': 89.42348851059475, 'kernel': 'rbf', 'gamma': 0.8689584881220279}. Best is trial 21 with value: 0.9068262411347519.\n",
      "[I 2025-09-21 16:11:42,206] Trial 24 finished with value: 0.8094858156028369 and parameters: {'C': 23.75806369018397, 'kernel': 'rbf', 'gamma': 0.003349777716564709}. Best is trial 21 with value: 0.9068262411347519.\n",
      "[I 2025-09-21 16:11:42,219] Trial 25 finished with value: 0.524822695035461 and parameters: {'C': 0.018223009965482085, 'kernel': 'rbf', 'gamma': 0.05453675844395458}. Best is trial 21 with value: 0.9068262411347519.\n",
      "[I 2025-09-21 16:11:42,243] Trial 26 finished with value: 0.7500886524822695 and parameters: {'C': 2.392642928334375, 'kernel': 'rbf', 'gamma': 15.578793440304581}. Best is trial 21 with value: 0.9068262411347519.\n",
      "[I 2025-09-21 16:11:42,257] Trial 27 finished with value: 0.8731382978723404 and parameters: {'C': 252.725355517058, 'kernel': 'rbf', 'gamma': 0.7087508700468375}. Best is trial 21 with value: 0.9068262411347519.\n",
      "[I 2025-09-21 16:11:43,491] Trial 28 finished with value: 0.8896276595744681 and parameters: {'C': 2962.6753450903043, 'kernel': 'linear'}. Best is trial 21 with value: 0.9068262411347519.\n",
      "[I 2025-09-21 16:11:43,506] Trial 29 finished with value: 0.5206560283687944 and parameters: {'C': 0.3204606047641563, 'kernel': 'poly', 'gamma': 0.004186853130364929, 'degree': 3}. Best is trial 21 with value: 0.9068262411347519.\n",
      "[I 2025-09-21 16:11:43,519] Trial 30 finished with value: 0.8600177304964539 and parameters: {'C': 2.0492977837770563, 'kernel': 'linear'}. Best is trial 21 with value: 0.9068262411347519.\n",
      "[I 2025-09-21 16:11:43,543] Trial 31 finished with value: 0.8815602836879431 and parameters: {'C': 9890.884293922443, 'kernel': 'rbf', 'gamma': 0.018195340328523997}. Best is trial 21 with value: 0.9068262411347519.\n",
      "[I 2025-09-21 16:11:43,557] Trial 32 finished with value: 0.8646276595744681 and parameters: {'C': 3015.7738929106977, 'kernel': 'rbf', 'gamma': 0.05310043743652048}. Best is trial 21 with value: 0.9068262411347519.\n",
      "[I 2025-09-21 16:11:43,570] Trial 33 finished with value: 0.8983156028368795 and parameters: {'C': 2441.8765686599254, 'kernel': 'rbf', 'gamma': 0.008385194720482105}. Best is trial 21 with value: 0.9068262411347519.\n",
      "[I 2025-09-21 16:11:43,583] Trial 34 finished with value: 0.8347517730496454 and parameters: {'C': 196.52763019859793, 'kernel': 'rbf', 'gamma': 0.0009173150598524174}. Best is trial 21 with value: 0.9068262411347519.\n",
      "[I 2025-09-21 16:11:43,597] Trial 35 finished with value: 0.9109929078014185 and parameters: {'C': 1235.443738937326, 'kernel': 'rbf', 'gamma': 0.005875343108845897}. Best is trial 35 with value: 0.9109929078014185.\n",
      "[I 2025-09-21 16:11:43,611] Trial 36 finished with value: 0.524822695035461 and parameters: {'C': 826.2779712591166, 'kernel': 'poly', 'gamma': 0.00029098890623395376, 'degree': 2}. Best is trial 35 with value: 0.9109929078014185.\n",
      "[I 2025-09-21 16:11:43,626] Trial 37 finished with value: 0.5289893617021277 and parameters: {'C': 0.002011467087905482, 'kernel': 'rbf', 'gamma': 0.00715607172462358}. Best is trial 35 with value: 0.9109929078014185.\n",
      "[I 2025-09-21 16:11:44,555] Trial 38 finished with value: 0.8896276595744681 and parameters: {'C': 1964.9502498818028, 'kernel': 'linear'}. Best is trial 35 with value: 0.9109929078014185.\n",
      "[I 2025-09-21 16:11:44,570] Trial 39 finished with value: 0.524822695035461 and parameters: {'C': 0.20378776822647673, 'kernel': 'poly', 'gamma': 0.0018065878049778026, 'degree': 4}. Best is trial 35 with value: 0.9109929078014185.\n",
      "[I 2025-09-21 16:11:44,584] Trial 40 finished with value: 0.5289893617021277 and parameters: {'C': 0.014379156627775388, 'kernel': 'rbf', 'gamma': 3.4015559004231646}. Best is trial 35 with value: 0.9109929078014185.\n",
      "[I 2025-09-21 16:11:44,598] Trial 41 finished with value: 0.8730496453900709 and parameters: {'C': 5489.038902418838, 'kernel': 'rbf', 'gamma': 0.035206397079416606}. Best is trial 35 with value: 0.9109929078014185.\n",
      "[I 2025-09-21 16:11:44,611] Trial 42 finished with value: 0.8474290780141844 and parameters: {'C': 377.21293615387566, 'kernel': 'rbf', 'gamma': 0.0005935052067711449}. Best is trial 35 with value: 0.9109929078014185.\n",
      "[I 2025-09-21 16:11:44,635] Trial 43 finished with value: 0.9025709219858156 and parameters: {'C': 1965.7628161887242, 'kernel': 'rbf', 'gamma': 0.0069244413410072935}. Best is trial 35 with value: 0.9109929078014185.\n",
      "[I 2025-09-21 16:11:44,648] Trial 44 finished with value: 0.9109929078014185 and parameters: {'C': 1244.1844371919917, 'kernel': 'rbf', 'gamma': 0.006805274177438451}. Best is trial 35 with value: 0.9109929078014185.\n",
      "[I 2025-09-21 16:11:44,662] Trial 45 finished with value: 0.9023936170212765 and parameters: {'C': 1061.9996045441405, 'kernel': 'rbf', 'gamma': 0.005478678074298297}. Best is trial 35 with value: 0.9109929078014185.\n",
      "[I 2025-09-21 16:11:44,676] Trial 46 finished with value: 0.8726950354609929 and parameters: {'C': 1191.9382514250524, 'kernel': 'rbf', 'gamma': 0.001819275661864029}. Best is trial 35 with value: 0.9109929078014185.\n",
      "[I 2025-09-21 16:11:44,690] Trial 47 finished with value: 0.8642730496453901 and parameters: {'C': 173.16429712862555, 'kernel': 'rbf', 'gamma': 0.004526812839164908}. Best is trial 35 with value: 0.9109929078014185.\n",
      "[I 2025-09-21 16:11:44,704] Trial 48 finished with value: 0.7078014184397163 and parameters: {'C': 34.25179169304392, 'kernel': 'rbf', 'gamma': 0.00038942126325399514}. Best is trial 35 with value: 0.9109929078014185.\n",
      "[I 2025-09-21 16:11:44,718] Trial 49 finished with value: 0.8642730496453901 and parameters: {'C': 8028.685599790024, 'kernel': 'rbf', 'gamma': 0.00010141899998058394}. Best is trial 35 with value: 0.9109929078014185.\n",
      "[I 2025-09-21 16:11:44,719] A new study created in memory with name: no-name-13d75154-8202-4067-b99e-22015d16d1a1\n",
      "[I 2025-09-21 16:11:44,743] Trial 0 finished with value: 0.7882092198581561 and parameters: {'criterion': 'entropy', 'max_depth': 22, 'min_samples_split': 14, 'min_samples_leaf': 15}. Best is trial 0 with value: 0.7882092198581561.\n",
      "[I 2025-09-21 16:11:44,756] Trial 1 finished with value: 0.7710992907801419 and parameters: {'criterion': 'gini', 'max_depth': 18, 'min_samples_split': 16, 'min_samples_leaf': 2}. Best is trial 0 with value: 0.7882092198581561.\n",
      "[I 2025-09-21 16:11:44,769] Trial 2 finished with value: 0.8048758865248227 and parameters: {'criterion': 'gini', 'max_depth': 29, 'min_samples_split': 15, 'min_samples_leaf': 20}. Best is trial 2 with value: 0.8048758865248227.\n",
      "[I 2025-09-21 16:11:44,782] Trial 3 finished with value: 0.7797872340425531 and parameters: {'criterion': 'gini', 'max_depth': 4, 'min_samples_split': 9, 'min_samples_leaf': 8}. Best is trial 2 with value: 0.8048758865248227.\n",
      "[I 2025-09-21 16:11:44,795] Trial 4 finished with value: 0.8092198581560284 and parameters: {'criterion': 'entropy', 'max_depth': 26, 'min_samples_split': 12, 'min_samples_leaf': 8}. Best is trial 4 with value: 0.8092198581560284.\n",
      "[I 2025-09-21 16:11:44,807] Trial 5 finished with value: 0.7754432624113474 and parameters: {'criterion': 'gini', 'max_depth': 9, 'min_samples_split': 15, 'min_samples_leaf': 1}. Best is trial 4 with value: 0.8092198581560284.\n",
      "[I 2025-09-21 16:11:44,819] Trial 6 finished with value: 0.7967198581560283 and parameters: {'criterion': 'entropy', 'max_depth': 24, 'min_samples_split': 13, 'min_samples_leaf': 16}. Best is trial 4 with value: 0.8092198581560284.\n",
      "[I 2025-09-21 16:11:44,831] Trial 7 finished with value: 0.7671985815602836 and parameters: {'criterion': 'gini', 'max_depth': 5, 'min_samples_split': 17, 'min_samples_leaf': 4}. Best is trial 4 with value: 0.8092198581560284.\n",
      "[I 2025-09-21 16:11:44,843] Trial 8 finished with value: 0.8092198581560284 and parameters: {'criterion': 'entropy', 'max_depth': 27, 'min_samples_split': 18, 'min_samples_leaf': 8}. Best is trial 4 with value: 0.8092198581560284.\n",
      "[I 2025-09-21 16:11:44,856] Trial 9 finished with value: 0.7922872340425532 and parameters: {'criterion': 'gini', 'max_depth': 3, 'min_samples_split': 8, 'min_samples_leaf': 16}. Best is trial 4 with value: 0.8092198581560284.\n",
      "[I 2025-09-21 16:11:44,870] Trial 10 finished with value: 0.7881205673758864 and parameters: {'criterion': 'entropy', 'max_depth': 13, 'min_samples_split': 2, 'min_samples_leaf': 12}. Best is trial 4 with value: 0.8092198581560284.\n",
      "[I 2025-09-21 16:11:44,884] Trial 11 finished with value: 0.8262411347517731 and parameters: {'criterion': 'entropy', 'max_depth': 31, 'min_samples_split': 20, 'min_samples_leaf': 7}. Best is trial 11 with value: 0.8262411347517731.\n",
      "[I 2025-09-21 16:11:44,899] Trial 12 finished with value: 0.8304964539007094 and parameters: {'criterion': 'entropy', 'max_depth': 31, 'min_samples_split': 20, 'min_samples_leaf': 6}. Best is trial 12 with value: 0.8304964539007094.\n",
      "[I 2025-09-21 16:11:44,912] Trial 13 finished with value: 0.8304964539007094 and parameters: {'criterion': 'entropy', 'max_depth': 32, 'min_samples_split': 20, 'min_samples_leaf': 5}. Best is trial 12 with value: 0.8304964539007094.\n"
     ]
    },
    {
     "name": "stdout",
     "output_type": "stream",
     "text": [
      "Optimization finished for: SVM\n",
      "Best trial accuracy: 0.9110\n",
      "Best parameters: {'C': 1235.443738937326, 'kernel': 'rbf', 'gamma': 0.005875343108845897}\n",
      "--------------------------------------------------\n",
      "\n",
      "Here are the best hyperparameters found for each model:\n",
      "\n",
      "Model: LogisticRegression\n",
      "  Parameters: {'C': 3471.264164719401, 'solver': 'saga', 'penalty': 'l1'}\n",
      "\n",
      "Model: kNN\n",
      "  Parameters: {'n_neighbors': 3, 'weights': 'distance', 'p': 1}\n",
      "\n",
      "Model: SVM\n",
      "  Parameters: {'C': 1235.443738937326, 'kernel': 'rbf', 'gamma': 0.005875343108845897}\n",
      "🚀 Starting optimization for: DecisionTree\n"
     ]
    },
    {
     "name": "stderr",
     "output_type": "stream",
     "text": [
      "[I 2025-09-21 16:11:44,927] Trial 14 finished with value: 0.8304964539007094 and parameters: {'criterion': 'entropy', 'max_depth': 31, 'min_samples_split': 20, 'min_samples_leaf': 5}. Best is trial 12 with value: 0.8304964539007094.\n",
      "[I 2025-09-21 16:11:44,942] Trial 15 finished with value: 0.800709219858156 and parameters: {'criterion': 'entropy', 'max_depth': 21, 'min_samples_split': 20, 'min_samples_leaf': 11}. Best is trial 12 with value: 0.8304964539007094.\n",
      "[I 2025-09-21 16:11:44,956] Trial 16 finished with value: 0.838741134751773 and parameters: {'criterion': 'entropy', 'max_depth': 32, 'min_samples_split': 5, 'min_samples_leaf': 4}. Best is trial 16 with value: 0.838741134751773.\n",
      "[I 2025-09-21 16:11:44,970] Trial 17 finished with value: 0.8135638297872341 and parameters: {'criterion': 'entropy', 'max_depth': 16, 'min_samples_split': 4, 'min_samples_leaf': 3}. Best is trial 16 with value: 0.838741134751773.\n",
      "[I 2025-09-21 16:11:44,985] Trial 18 finished with value: 0.8388297872340426 and parameters: {'criterion': 'entropy', 'max_depth': 27, 'min_samples_split': 6, 'min_samples_leaf': 6}. Best is trial 18 with value: 0.8388297872340426.\n",
      "[I 2025-09-21 16:11:44,999] Trial 19 finished with value: 0.7966312056737588 and parameters: {'criterion': 'entropy', 'max_depth': 27, 'min_samples_split': 6, 'min_samples_leaf': 10}. Best is trial 18 with value: 0.8388297872340426.\n",
      "[I 2025-09-21 16:11:45,013] Trial 20 finished with value: 0.8262411347517731 and parameters: {'criterion': 'entropy', 'max_depth': 19, 'min_samples_split': 10, 'min_samples_leaf': 1}. Best is trial 18 with value: 0.8388297872340426.\n",
      "[I 2025-09-21 16:11:45,027] Trial 21 finished with value: 0.8388297872340426 and parameters: {'criterion': 'entropy', 'max_depth': 29, 'min_samples_split': 6, 'min_samples_leaf': 6}. Best is trial 18 with value: 0.8388297872340426.\n",
      "[I 2025-09-21 16:11:45,041] Trial 22 finished with value: 0.838741134751773 and parameters: {'criterion': 'entropy', 'max_depth': 24, 'min_samples_split': 6, 'min_samples_leaf': 4}. Best is trial 18 with value: 0.8388297872340426.\n",
      "[I 2025-09-21 16:11:45,056] Trial 23 finished with value: 0.7966312056737588 and parameters: {'criterion': 'entropy', 'max_depth': 28, 'min_samples_split': 6, 'min_samples_leaf': 10}. Best is trial 18 with value: 0.8388297872340426.\n",
      "[I 2025-09-21 16:11:45,070] Trial 24 finished with value: 0.8388297872340426 and parameters: {'criterion': 'entropy', 'max_depth': 24, 'min_samples_split': 2, 'min_samples_leaf': 6}. Best is trial 18 with value: 0.8388297872340426.\n",
      "[I 2025-09-21 16:11:45,084] Trial 25 finished with value: 0.7796099290780141 and parameters: {'criterion': 'entropy', 'max_depth': 23, 'min_samples_split': 2, 'min_samples_leaf': 13}. Best is trial 18 with value: 0.8388297872340426.\n",
      "[I 2025-09-21 16:11:45,099] Trial 26 finished with value: 0.8388297872340426 and parameters: {'criterion': 'entropy', 'max_depth': 25, 'min_samples_split': 4, 'min_samples_leaf': 6}. Best is trial 18 with value: 0.8388297872340426.\n",
      "[I 2025-09-21 16:11:45,113] Trial 27 finished with value: 0.8092198581560284 and parameters: {'criterion': 'entropy', 'max_depth': 21, 'min_samples_split': 8, 'min_samples_leaf': 9}. Best is trial 18 with value: 0.8388297872340426.\n",
      "[I 2025-09-21 16:11:45,127] Trial 28 finished with value: 0.8388297872340426 and parameters: {'criterion': 'entropy', 'max_depth': 29, 'min_samples_split': 3, 'min_samples_leaf': 6}. Best is trial 18 with value: 0.8388297872340426.\n",
      "[I 2025-09-21 16:11:45,142] Trial 29 finished with value: 0.7796099290780141 and parameters: {'criterion': 'entropy', 'max_depth': 16, 'min_samples_split': 7, 'min_samples_leaf': 13}. Best is trial 18 with value: 0.8388297872340426.\n",
      "[I 2025-09-21 16:11:45,158] Trial 30 finished with value: 0.8219858156028368 and parameters: {'criterion': 'entropy', 'max_depth': 22, 'min_samples_split': 11, 'min_samples_leaf': 3}. Best is trial 18 with value: 0.8388297872340426.\n",
      "[I 2025-09-21 16:11:45,172] Trial 31 finished with value: 0.8388297872340426 and parameters: {'criterion': 'entropy', 'max_depth': 25, 'min_samples_split': 4, 'min_samples_leaf': 6}. Best is trial 18 with value: 0.8388297872340426.\n",
      "[I 2025-09-21 16:11:45,186] Trial 32 finished with value: 0.8134751773049645 and parameters: {'criterion': 'entropy', 'max_depth': 29, 'min_samples_split': 4, 'min_samples_leaf': 7}. Best is trial 18 with value: 0.8388297872340426.\n",
      "[I 2025-09-21 16:11:45,201] Trial 33 finished with value: 0.8134751773049645 and parameters: {'criterion': 'entropy', 'max_depth': 19, 'min_samples_split': 2, 'min_samples_leaf': 7}. Best is trial 18 with value: 0.8388297872340426.\n",
      "[I 2025-09-21 16:11:45,215] Trial 34 finished with value: 0.7796985815602836 and parameters: {'criterion': 'gini', 'max_depth': 25, 'min_samples_split': 5, 'min_samples_leaf': 9}. Best is trial 18 with value: 0.8388297872340426.\n",
      "[I 2025-09-21 16:11:45,229] Trial 35 finished with value: 0.8135638297872341 and parameters: {'criterion': 'entropy', 'max_depth': 29, 'min_samples_split': 3, 'min_samples_leaf': 3}. Best is trial 18 with value: 0.8388297872340426.\n",
      "[I 2025-09-21 16:11:45,243] Trial 36 finished with value: 0.8134751773049645 and parameters: {'criterion': 'gini', 'max_depth': 26, 'min_samples_split': 9, 'min_samples_leaf': 5}. Best is trial 18 with value: 0.8388297872340426.\n",
      "[I 2025-09-21 16:11:45,258] Trial 37 finished with value: 0.8219858156028368 and parameters: {'criterion': 'entropy', 'max_depth': 23, 'min_samples_split': 7, 'min_samples_leaf': 2}. Best is trial 18 with value: 0.8388297872340426.\n",
      "[I 2025-09-21 16:11:45,272] Trial 38 finished with value: 0.7840425531914894 and parameters: {'criterion': 'gini', 'max_depth': 27, 'min_samples_split': 3, 'min_samples_leaf': 8}. Best is trial 18 with value: 0.8388297872340426.\n",
      "[I 2025-09-21 16:11:45,287] Trial 39 finished with value: 0.8092198581560284 and parameters: {'criterion': 'entropy', 'max_depth': 13, 'min_samples_split': 5, 'min_samples_leaf': 9}. Best is trial 18 with value: 0.8388297872340426.\n",
      "[I 2025-09-21 16:11:45,301] Trial 40 finished with value: 0.7924645390070921 and parameters: {'criterion': 'gini', 'max_depth': 20, 'min_samples_split': 7, 'min_samples_leaf': 7}. Best is trial 18 with value: 0.8388297872340426.\n",
      "[I 2025-09-21 16:11:45,316] Trial 41 finished with value: 0.8048758865248228 and parameters: {'criterion': 'entropy', 'max_depth': 29, 'min_samples_split': 3, 'min_samples_leaf': 20}. Best is trial 18 with value: 0.8388297872340426.\n",
      "[I 2025-09-21 16:11:45,331] Trial 42 finished with value: 0.8388297872340426 and parameters: {'criterion': 'entropy', 'max_depth': 30, 'min_samples_split': 3, 'min_samples_leaf': 6}. Best is trial 18 with value: 0.8388297872340426.\n",
      "[I 2025-09-21 16:11:45,346] Trial 43 finished with value: 0.847163120567376 and parameters: {'criterion': 'entropy', 'max_depth': 26, 'min_samples_split': 4, 'min_samples_leaf': 5}. Best is trial 43 with value: 0.847163120567376.\n",
      "[I 2025-09-21 16:11:45,360] Trial 44 finished with value: 0.847163120567376 and parameters: {'criterion': 'entropy', 'max_depth': 25, 'min_samples_split': 5, 'min_samples_leaf': 5}. Best is trial 43 with value: 0.847163120567376.\n",
      "[I 2025-09-21 16:11:45,375] Trial 45 finished with value: 0.8303191489361703 and parameters: {'criterion': 'entropy', 'max_depth': 27, 'min_samples_split': 13, 'min_samples_leaf': 4}. Best is trial 43 with value: 0.847163120567376.\n",
      "[I 2025-09-21 16:11:45,389] Trial 46 finished with value: 0.8050531914893618 and parameters: {'criterion': 'entropy', 'max_depth': 7, 'min_samples_split': 8, 'min_samples_leaf': 18}. Best is trial 43 with value: 0.847163120567376.\n",
      "[I 2025-09-21 16:11:45,404] Trial 47 finished with value: 0.8093971631205674 and parameters: {'criterion': 'entropy', 'max_depth': 23, 'min_samples_split': 5, 'min_samples_leaf': 2}. Best is trial 43 with value: 0.847163120567376.\n",
      "[I 2025-09-21 16:11:45,419] Trial 48 finished with value: 0.847163120567376 and parameters: {'criterion': 'entropy', 'max_depth': 26, 'min_samples_split': 9, 'min_samples_leaf': 5}. Best is trial 43 with value: 0.847163120567376.\n",
      "[I 2025-09-21 16:11:45,433] Trial 49 finished with value: 0.8134751773049645 and parameters: {'criterion': 'gini', 'max_depth': 26, 'min_samples_split': 9, 'min_samples_leaf': 5}. Best is trial 43 with value: 0.847163120567376.\n",
      "[I 2025-09-21 16:11:45,434] A new study created in memory with name: no-name-ef626da3-26e4-4802-99dd-23493ea70fb6\n"
     ]
    },
    {
     "name": "stdout",
     "output_type": "stream",
     "text": [
      "Optimization finished for: DecisionTree\n",
      "Best trial accuracy: 0.8472\n",
      "Best parameters: {'criterion': 'entropy', 'max_depth': 26, 'min_samples_split': 4, 'min_samples_leaf': 5}\n",
      "--------------------------------------------------\n",
      "\n",
      "Here are the best hyperparameters found for each model:\n",
      "\n",
      "Model: LogisticRegression\n",
      "  Parameters: {'C': 3471.264164719401, 'solver': 'saga', 'penalty': 'l1'}\n",
      "\n",
      "Model: kNN\n",
      "  Parameters: {'n_neighbors': 3, 'weights': 'distance', 'p': 1}\n",
      "\n",
      "Model: SVM\n",
      "  Parameters: {'C': 1235.443738937326, 'kernel': 'rbf', 'gamma': 0.005875343108845897}\n",
      "\n",
      "Model: DecisionTree\n",
      "  Parameters: {'criterion': 'entropy', 'max_depth': 26, 'min_samples_split': 4, 'min_samples_leaf': 5}\n",
      "🚀 Starting optimization for: RandomForest\n"
     ]
    },
    {
     "name": "stderr",
     "output_type": "stream",
     "text": [
      "[I 2025-09-21 16:11:45,856] Trial 0 finished with value: 0.860195035460993 and parameters: {'n_estimators': 508, 'max_depth': 36, 'min_samples_split': 5, 'min_samples_leaf': 19, 'bootstrap': True}. Best is trial 0 with value: 0.860195035460993.\n",
      "[I 2025-09-21 16:11:46,258] Trial 1 finished with value: 0.860195035460993 and parameters: {'n_estimators': 652, 'max_depth': 15, 'min_samples_split': 11, 'min_samples_leaf': 13, 'bootstrap': False}. Best is trial 0 with value: 0.860195035460993.\n",
      "[I 2025-09-21 16:11:46,537] Trial 2 finished with value: 0.8770390070921985 and parameters: {'n_estimators': 403, 'max_depth': 29, 'min_samples_split': 18, 'min_samples_leaf': 7, 'bootstrap': False}. Best is trial 2 with value: 0.8770390070921985.\n",
      "[I 2025-09-21 16:11:46,807] Trial 3 finished with value: 0.85177304964539 and parameters: {'n_estimators': 304, 'max_depth': 14, 'min_samples_split': 5, 'min_samples_leaf': 14, 'bootstrap': True}. Best is trial 2 with value: 0.8770390070921985.\n",
      "[I 2025-09-21 16:11:47,340] Trial 4 finished with value: 0.8854609929078014 and parameters: {'n_estimators': 696, 'max_depth': 22, 'min_samples_split': 8, 'min_samples_leaf': 2, 'bootstrap': True}. Best is trial 4 with value: 0.8854609929078014.\n",
      "[I 2025-09-21 16:11:47,445] Trial 5 finished with value: 0.8516843971631205 and parameters: {'n_estimators': 136, 'max_depth': 40, 'min_samples_split': 8, 'min_samples_leaf': 20, 'bootstrap': False}. Best is trial 4 with value: 0.8854609929078014.\n",
      "[I 2025-09-21 16:11:47,807] Trial 6 finished with value: 0.877127659574468 and parameters: {'n_estimators': 615, 'max_depth': 33, 'min_samples_split': 16, 'min_samples_leaf': 1, 'bootstrap': False}. Best is trial 4 with value: 0.8854609929078014.\n",
      "[I 2025-09-21 16:11:48,270] Trial 7 finished with value: 0.8686170212765957 and parameters: {'n_estimators': 800, 'max_depth': 44, 'min_samples_split': 13, 'min_samples_leaf': 9, 'bootstrap': False}. Best is trial 4 with value: 0.8854609929078014.\n",
      "[I 2025-09-21 16:11:48,980] Trial 8 finished with value: 0.877127659574468 and parameters: {'n_estimators': 944, 'max_depth': 38, 'min_samples_split': 4, 'min_samples_leaf': 6, 'bootstrap': True}. Best is trial 4 with value: 0.8854609929078014.\n",
      "[I 2025-09-21 16:11:49,311] Trial 9 finished with value: 0.89822695035461 and parameters: {'n_estimators': 529, 'max_depth': 42, 'min_samples_split': 7, 'min_samples_leaf': 2, 'bootstrap': False}. Best is trial 9 with value: 0.89822695035461.\n",
      "[I 2025-09-21 16:11:49,399] Trial 10 finished with value: 0.8769503546099291 and parameters: {'n_estimators': 91, 'max_depth': 49, 'min_samples_split': 2, 'min_samples_leaf': 5, 'bootstrap': False}. Best is trial 9 with value: 0.89822695035461.\n",
      "[I 2025-09-21 16:11:49,998] Trial 11 finished with value: 0.8939716312056738 and parameters: {'n_estimators': 766, 'max_depth': 24, 'min_samples_split': 9, 'min_samples_leaf': 1, 'bootstrap': True}. Best is trial 9 with value: 0.89822695035461.\n",
      "[I 2025-09-21 16:11:50,648] Trial 12 finished with value: 0.8813829787234043 and parameters: {'n_estimators': 844, 'max_depth': 22, 'min_samples_split': 9, 'min_samples_leaf': 3, 'bootstrap': True}. Best is trial 9 with value: 0.89822695035461.\n",
      "[I 2025-09-21 16:11:51,034] Trial 13 finished with value: 0.877127659574468 and parameters: {'n_estimators': 477, 'max_depth': 25, 'min_samples_split': 13, 'min_samples_leaf': 1, 'bootstrap': True}. Best is trial 9 with value: 0.89822695035461.\n",
      "[I 2025-09-21 16:11:51,614] Trial 14 finished with value: 0.889804964539007 and parameters: {'n_estimators': 993, 'max_depth': 8, 'min_samples_split': 10, 'min_samples_leaf': 4, 'bootstrap': False}. Best is trial 9 with value: 0.89822695035461.\n",
      "[I 2025-09-21 16:11:51,894] Trial 15 finished with value: 0.8602836879432625 and parameters: {'n_estimators': 337, 'max_depth': 48, 'min_samples_split': 7, 'min_samples_leaf': 10, 'bootstrap': True}. Best is trial 9 with value: 0.89822695035461.\n",
      "[I 2025-09-21 16:11:52,362] Trial 16 finished with value: 0.8643617021276595 and parameters: {'n_estimators': 795, 'max_depth': 31, 'min_samples_split': 12, 'min_samples_leaf': 8, 'bootstrap': False}. Best is trial 9 with value: 0.89822695035461.\n",
      "[I 2025-09-21 16:11:52,808] Trial 17 finished with value: 0.8560283687943263 and parameters: {'n_estimators': 577, 'max_depth': 18, 'min_samples_split': 15, 'min_samples_leaf': 13, 'bootstrap': True}. Best is trial 9 with value: 0.89822695035461.\n",
      "[I 2025-09-21 16:11:53,245] Trial 18 finished with value: 0.8686170212765957 and parameters: {'n_estimators': 735, 'max_depth': 8, 'min_samples_split': 20, 'min_samples_leaf': 4, 'bootstrap': False}. Best is trial 9 with value: 0.89822695035461.\n",
      "[I 2025-09-21 16:11:53,414] Trial 19 finished with value: 0.8560283687943263 and parameters: {'n_estimators': 191, 'max_depth': 42, 'min_samples_split': 6, 'min_samples_leaf': 17, 'bootstrap': True}. Best is trial 9 with value: 0.89822695035461.\n",
      "[I 2025-09-21 16:11:53,776] Trial 20 finished with value: 0.8855496453900707 and parameters: {'n_estimators': 444, 'max_depth': 35, 'min_samples_split': 2, 'min_samples_leaf': 6, 'bootstrap': True}. Best is trial 9 with value: 0.89822695035461.\n",
      "[I 2025-09-21 16:11:54,333] Trial 21 finished with value: 0.889804964539007 and parameters: {'n_estimators': 982, 'max_depth': 6, 'min_samples_split': 10, 'min_samples_leaf': 3, 'bootstrap': False}. Best is trial 9 with value: 0.89822695035461.\n",
      "[I 2025-09-21 16:11:54,839] Trial 22 finished with value: 0.889804964539007 and parameters: {'n_estimators': 866, 'max_depth': 9, 'min_samples_split': 10, 'min_samples_leaf': 4, 'bootstrap': False}. Best is trial 9 with value: 0.89822695035461.\n",
      "[I 2025-09-21 16:11:55,378] Trial 23 finished with value: 0.902482269503546 and parameters: {'n_estimators': 926, 'max_depth': 11, 'min_samples_split': 7, 'min_samples_leaf': 1, 'bootstrap': False}. Best is trial 23 with value: 0.902482269503546.\n",
      "[I 2025-09-21 16:11:55,895] Trial 24 finished with value: 0.902482269503546 and parameters: {'n_estimators': 890, 'max_depth': 25, 'min_samples_split': 7, 'min_samples_leaf': 1, 'bootstrap': False}. Best is trial 23 with value: 0.902482269503546.\n",
      "[I 2025-09-21 16:11:56,413] Trial 25 finished with value: 0.9109929078014185 and parameters: {'n_estimators': 894, 'max_depth': 18, 'min_samples_split': 4, 'min_samples_leaf': 2, 'bootstrap': False}. Best is trial 25 with value: 0.9109929078014185.\n",
      "[I 2025-09-21 16:11:56,922] Trial 26 finished with value: 0.8939716312056738 and parameters: {'n_estimators': 886, 'max_depth': 13, 'min_samples_split': 4, 'min_samples_leaf': 3, 'bootstrap': False}. Best is trial 25 with value: 0.9109929078014185.\n",
      "[I 2025-09-21 16:11:57,460] Trial 27 finished with value: 0.877127659574468 and parameters: {'n_estimators': 910, 'max_depth': 18, 'min_samples_split': 3, 'min_samples_leaf': 6, 'bootstrap': False}. Best is trial 25 with value: 0.9109929078014185.\n",
      "[I 2025-09-21 16:11:57,877] Trial 28 finished with value: 0.89822695035461 and parameters: {'n_estimators': 694, 'max_depth': 19, 'min_samples_split': 6, 'min_samples_leaf': 1, 'bootstrap': False}. Best is trial 25 with value: 0.9109929078014185.\n",
      "[I 2025-09-21 16:11:58,366] Trial 29 finished with value: 0.8559397163120568 and parameters: {'n_estimators': 839, 'max_depth': 4, 'min_samples_split': 5, 'min_samples_leaf': 16, 'bootstrap': False}. Best is trial 25 with value: 0.9109929078014185.\n",
      "[I 2025-09-21 16:11:58,903] Trial 30 finished with value: 0.8601063829787234 and parameters: {'n_estimators': 934, 'max_depth': 11, 'min_samples_split': 4, 'min_samples_leaf': 8, 'bootstrap': False}. Best is trial 25 with value: 0.9109929078014185.\n",
      "[I 2025-09-21 16:11:59,235] Trial 31 finished with value: 0.89822695035461 and parameters: {'n_estimators': 576, 'max_depth': 28, 'min_samples_split': 7, 'min_samples_leaf': 2, 'bootstrap': False}. Best is trial 25 with value: 0.9109929078014185.\n",
      "[I 2025-09-21 16:11:59,559] Trial 32 finished with value: 0.8939716312056738 and parameters: {'n_estimators': 539, 'max_depth': 16, 'min_samples_split': 6, 'min_samples_leaf': 2, 'bootstrap': False}. Best is trial 25 with value: 0.9109929078014185.\n",
      "[I 2025-09-21 16:12:00,129] Trial 33 finished with value: 0.8854609929078014 and parameters: {'n_estimators': 994, 'max_depth': 21, 'min_samples_split': 7, 'min_samples_leaf': 5, 'bootstrap': False}. Best is trial 25 with value: 0.9109929078014185.\n",
      "[I 2025-09-21 16:12:00,299] Trial 34 finished with value: 0.8939716312056738 and parameters: {'n_estimators': 237, 'max_depth': 26, 'min_samples_split': 3, 'min_samples_leaf': 3, 'bootstrap': False}. Best is trial 25 with value: 0.9109929078014185.\n",
      "[I 2025-09-21 16:12:00,696] Trial 35 finished with value: 0.8939716312056738 and parameters: {'n_estimators': 672, 'max_depth': 30, 'min_samples_split': 8, 'min_samples_leaf': 2, 'bootstrap': False}. Best is trial 25 with value: 0.9109929078014185.\n",
      "[I 2025-09-21 16:12:00,937] Trial 36 finished with value: 0.8560283687943262 and parameters: {'n_estimators': 375, 'max_depth': 12, 'min_samples_split': 5, 'min_samples_leaf': 11, 'bootstrap': False}. Best is trial 25 with value: 0.9109929078014185.\n",
      "[I 2025-09-21 16:12:01,373] Trial 37 finished with value: 0.885549645390071 and parameters: {'n_estimators': 737, 'max_depth': 16, 'min_samples_split': 9, 'min_samples_leaf': 1, 'bootstrap': False}. Best is trial 25 with value: 0.9109929078014185.\n",
      "[I 2025-09-21 16:12:01,852] Trial 38 finished with value: 0.8897163120567375 and parameters: {'n_estimators': 831, 'max_depth': 20, 'min_samples_split': 6, 'min_samples_leaf': 5, 'bootstrap': False}. Best is trial 25 with value: 0.9109929078014185.\n",
      "[I 2025-09-21 16:12:02,216] Trial 39 finished with value: 0.889804964539007 and parameters: {'n_estimators': 620, 'max_depth': 32, 'min_samples_split': 11, 'min_samples_leaf': 4, 'bootstrap': False}. Best is trial 25 with value: 0.9109929078014185.\n",
      "[I 2025-09-21 16:12:02,737] Trial 40 finished with value: 0.877127659574468 and parameters: {'n_estimators': 891, 'max_depth': 45, 'min_samples_split': 8, 'min_samples_leaf': 7, 'bootstrap': False}. Best is trial 25 with value: 0.9109929078014185.\n",
      "[I 2025-09-21 16:12:03,142] Trial 41 finished with value: 0.89822695035461 and parameters: {'n_estimators': 683, 'max_depth': 18, 'min_samples_split': 6, 'min_samples_leaf': 1, 'bootstrap': False}. Best is trial 25 with value: 0.9109929078014185.\n",
      "[I 2025-09-21 16:12:03,700] Trial 42 finished with value: 0.9109929078014185 and parameters: {'n_estimators': 938, 'max_depth': 23, 'min_samples_split': 4, 'min_samples_leaf': 2, 'bootstrap': False}. Best is trial 25 with value: 0.9109929078014185.\n",
      "[I 2025-09-21 16:12:04,258] Trial 43 finished with value: 0.9109929078014185 and parameters: {'n_estimators': 948, 'max_depth': 24, 'min_samples_split': 3, 'min_samples_leaf': 2, 'bootstrap': False}. Best is trial 25 with value: 0.9109929078014185.\n",
      "[I 2025-09-21 16:12:04,807] Trial 44 finished with value: 0.8939716312056738 and parameters: {'n_estimators': 926, 'max_depth': 23, 'min_samples_split': 3, 'min_samples_leaf': 3, 'bootstrap': False}. Best is trial 25 with value: 0.9109929078014185.\n",
      "[I 2025-09-21 16:12:05,367] Trial 45 finished with value: 0.9109929078014185 and parameters: {'n_estimators': 957, 'max_depth': 28, 'min_samples_split': 2, 'min_samples_leaf': 2, 'bootstrap': False}. Best is trial 25 with value: 0.9109929078014185.\n",
      "[I 2025-09-21 16:12:05,928] Trial 46 finished with value: 0.9109929078014185 and parameters: {'n_estimators': 961, 'max_depth': 29, 'min_samples_split': 2, 'min_samples_leaf': 2, 'bootstrap': False}. Best is trial 25 with value: 0.9109929078014185.\n",
      "[I 2025-09-21 16:12:06,478] Trial 47 finished with value: 0.9109929078014185 and parameters: {'n_estimators': 965, 'max_depth': 28, 'min_samples_split': 2, 'min_samples_leaf': 2, 'bootstrap': False}. Best is trial 25 with value: 0.9109929078014185.\n",
      "[I 2025-09-21 16:12:06,939] Trial 48 finished with value: 0.8897163120567375 and parameters: {'n_estimators': 793, 'max_depth': 38, 'min_samples_split': 2, 'min_samples_leaf': 5, 'bootstrap': False}. Best is trial 25 with value: 0.9109929078014185.\n",
      "[I 2025-09-21 16:12:07,425] Trial 49 finished with value: 0.889804964539007 and parameters: {'n_estimators': 847, 'max_depth': 35, 'min_samples_split': 4, 'min_samples_leaf': 4, 'bootstrap': False}. Best is trial 25 with value: 0.9109929078014185.\n"
     ]
    },
    {
     "name": "stdout",
     "output_type": "stream",
     "text": [
      "Optimization finished for: RandomForest\n",
      "Best trial accuracy: 0.9110\n",
      "Best parameters: {'n_estimators': 894, 'max_depth': 18, 'min_samples_split': 4, 'min_samples_leaf': 2, 'bootstrap': False}\n",
      "--------------------------------------------------\n",
      "\n",
      "Here are the best hyperparameters found for each model:\n",
      "\n",
      "Model: LogisticRegression\n",
      "  Parameters: {'C': 3471.264164719401, 'solver': 'saga', 'penalty': 'l1'}\n",
      "\n",
      "Model: kNN\n",
      "  Parameters: {'n_neighbors': 3, 'weights': 'distance', 'p': 1}\n",
      "\n",
      "Model: SVM\n",
      "  Parameters: {'C': 1235.443738937326, 'kernel': 'rbf', 'gamma': 0.005875343108845897}\n",
      "\n",
      "Model: DecisionTree\n",
      "  Parameters: {'criterion': 'entropy', 'max_depth': 26, 'min_samples_split': 4, 'min_samples_leaf': 5}\n",
      "\n",
      "Model: RandomForest\n",
      "  Parameters: {'n_estimators': 894, 'max_depth': 18, 'min_samples_split': 4, 'min_samples_leaf': 2, 'bootstrap': False}\n"
     ]
    }
   ],
   "source": [
    "models_to_tune = [\"LogisticRegression\", \"kNN\", \"SVM\", \"DecisionTree\", \"RandomForest\"]\n",
    "\n",
    "best_models = {}\n",
    "\n",
    "for model_name in models_to_tune:\n",
    "  print(f\"🚀 Starting optimization for: {model_name}\")\n",
    "\n",
    "  study = optuna.create_study(direction='maximize')\n",
    "  study.optimize(lambda trial: objective(trial, model_name), n_trials=50)\n",
    "\n",
    "  print(f\"Optimization finished for: {model_name}\")\n",
    "  print(f\"Best trial accuracy: {study.best_value:.4f}\")\n",
    "  print(f\"Best parameters: {study.best_params}\")\n",
    "  print(\"-\" * 50)\n",
    "\n",
    "  best_models[model_name] = study.best_params\n",
    "\n",
    "  print(\"\\nHere are the best hyperparameters found for each model:\")\n",
    "  for model_name, params in best_models.items():\n",
    "    print(f\"\\nModel: {model_name}\")\n",
    "    print(f\"  Parameters: {params}\")"
   ]
  },
  {
   "cell_type": "markdown",
   "id": "bd83fe82-8222-48aa-aace-6a423c6d1087",
   "metadata": {},
   "source": [
    "#### Лучшие параметры для каждой модели\n",
    "\n",
    "Model: LogisticRegression\n",
    "  Parameters: {'C': 3471.264164719401, 'solver': 'saga', 'penalty': 'l1'}\n",
    "\n",
    "Model: kNN\n",
    "  Parameters: {'n_neighbors': 3, 'weights': 'distance', 'p': 1}\n",
    "\n",
    "Model: SVM\n",
    "  Parameters: {'C': 1235.443738937326, 'kernel': 'rbf', 'gamma': 0.005875343108845897}\n",
    "\n",
    "Model: DecisionTree\n",
    "  Parameters: {'criterion': 'entropy', 'max_depth': 26, 'min_samples_split': 4, 'min_samples_leaf': 5}\n",
    "\n",
    "Model: RandomForest\n",
    "  Parameters: {'n_estimators': 894, 'max_depth': 18, 'min_samples_split': 4, 'min_samples_leaf': 2, 'bootstrap': False}"
   ]
  },
  {
   "cell_type": "markdown",
   "id": "29bbb0c0-30ed-44d5-afed-43ad89300fba",
   "metadata": {},
   "source": [
    "#### 3. Запуск алгоритмов с лучшими параметрами найденными через hyperparameter tuning."
   ]
  },
  {
   "cell_type": "code",
   "execution_count": 56,
   "id": "85509194-19f5-484f-afdc-3599391c304c",
   "metadata": {},
   "outputs": [
    {
     "name": "stdout",
     "output_type": "stream",
     "text": [
      "accuracy: 0.8604651162790697\n",
      "precision: 0.9615384615384616\n",
      "recall: 0.8333333333333334\n",
      "f1: 0.8928571428571429\n",
      "roc_auc: 0.9538461538461539\n"
     ]
    },
    {
     "name": "stderr",
     "output_type": "stream",
     "text": [
      "C:\\Users\\alish\\AppData\\Local\\Programs\\Python\\Python313\\Lib\\site-packages\\sklearn\\linear_model\\_sag.py:348: ConvergenceWarning: The max_iter was reached which means the coef_ did not converge\n",
      "  warnings.warn(\n"
     ]
    }
   ],
   "source": [
    "model_logreg = LogisticRegression(random_state=42, C = 3471.264164719401, solver = 'saga', penalty = 'l1')\n",
    "model_logreg.fit(X_train_smote, y_train_smote)\n",
    "y_pred_logreg = model_logreg.predict(X_test_encoded)\n",
    "y_pred_proba_logreg = model_logreg.predict_proba(X_test_encoded)[:, 1]\n",
    "print(f'accuracy: {accuracy_score(y_test_encoded, y_pred_logreg)}')\n",
    "print(f'precision: {precision_score(y_test_encoded, y_pred_logreg)}')\n",
    "print(f'recall: {recall_score(y_test_encoded, y_pred_logreg)}')\n",
    "print(f'f1: {f1_score(y_test_encoded, y_pred_logreg)}')\n",
    "print(f'roc_auc: {roc_auc_score(y_test_encoded, y_pred_proba_logreg)}')"
   ]
  },
  {
   "cell_type": "code",
   "execution_count": 54,
   "id": "38c497f1-e0a8-4e7e-9451-2bd27b284139",
   "metadata": {},
   "outputs": [
    {
     "name": "stdout",
     "output_type": "stream",
     "text": [
      "accuracy: 0.7441860465116279\n",
      "precision: 0.8275862068965517\n",
      "recall: 0.8\n",
      "f1: 0.8135593220338984\n",
      "roc_auc: 0.7525641025641024\n"
     ]
    }
   ],
   "source": [
    "# n_neighbors = 3\n",
    "model_knn3 = KNeighborsClassifier(n_neighbors=3, weights = 'distance', p = 1)\n",
    "model_knn3.fit(X_train_smote, y_train_smote)\n",
    "\n",
    "y_pred_knn3 = model_knn3.predict(X_test_encoded)\n",
    "y_pred_proba_knn3 = model_knn3.predict_proba(X_test_encoded)[:, 1]\n",
    "\n",
    "print(f'accuracy: {accuracy_score(y_test_encoded, y_pred_knn3)}')\n",
    "print(f'precision: {precision_score(y_test_encoded, y_pred_knn3)}')\n",
    "print(f'recall: {recall_score(y_test_encoded, y_pred_knn3)}')\n",
    "print(f'f1: {f1_score(y_test_encoded, y_pred_knn3)}')\n",
    "print(f'roc_auc: {roc_auc_score(y_test_encoded, y_pred_proba_knn3)}')"
   ]
  },
  {
   "cell_type": "code",
   "execution_count": 57,
   "id": "0508c96d-70b6-43f0-8aa4-c7f5383dc2e5",
   "metadata": {},
   "outputs": [
    {
     "name": "stdout",
     "output_type": "stream",
     "text": [
      "accuracy: 0.813953488372093\n",
      "precision: 0.9583333333333334\n",
      "recall: 0.7666666666666667\n",
      "f1: 0.8518518518518519\n",
      "roc_auc: 0.8948717948717948\n"
     ]
    }
   ],
   "source": [
    "model_svm = SVC(C = 1235.443738937326, kernel='rbf', random_state=42, probability=True, gamma = 0.005875343108845897)\n",
    "model_svm.fit(X_train_smote, y_train_smote)\n",
    "y_pred_svm = model_svm.predict(X_test_encoded)\n",
    "y_pred_proba_svm = model_svm.predict_proba(X_test_encoded)[:, 1]\n",
    "print(f'accuracy: {accuracy_score(y_test_encoded, y_pred_svm)}')\n",
    "print(f'precision: {precision_score(y_test_encoded, y_pred_svm)}')\n",
    "print(f'recall: {recall_score(y_test_encoded, y_pred_svm)}')\n",
    "print(f'f1: {f1_score(y_test_encoded, y_pred_svm)}')\n",
    "print(f'roc_auc: {roc_auc_score(y_test_encoded, y_pred_proba_svm)}')"
   ]
  },
  {
   "cell_type": "code",
   "execution_count": 58,
   "id": "1e5c173a-72ca-4260-a985-68398e0408e7",
   "metadata": {},
   "outputs": [
    {
     "name": "stdout",
     "output_type": "stream",
     "text": [
      "accuracy: 0.7906976744186046\n",
      "precision: 0.8888888888888888\n",
      "recall: 0.8\n",
      "f1: 0.8421052631578947\n",
      "roc_auc: 0.8064102564102564\n"
     ]
    }
   ],
   "source": [
    "model_dt = DecisionTreeClassifier(criterion = 'entropy', max_depth = 26, min_samples_split = 4, min_samples_leaf = 5)\n",
    "model_dt.fit(X_train_smote, y_train_smote)\n",
    "\n",
    "y_pred_dt = model_dt.predict(X_test_encoded)\n",
    "y_pred_proba_dt = model_dt.predict_proba(X_test_encoded)[:, 1]\n",
    "\n",
    "print(f'accuracy: {accuracy_score(y_test_encoded, y_pred_dt)}')\n",
    "print(f'precision: {precision_score(y_test_encoded, y_pred_dt)}')\n",
    "print(f'recall: {recall_score(y_test_encoded, y_pred_dt)}')\n",
    "print(f'f1: {f1_score(y_test_encoded, y_pred_dt)}')\n",
    "print(f'roc_auc: {roc_auc_score(y_test_encoded, y_pred_proba_dt)}')"
   ]
  },
  {
   "cell_type": "code",
   "execution_count": 59,
   "id": "4886dd53-8fac-43b1-aed6-1591c40765ef",
   "metadata": {},
   "outputs": [
    {
     "name": "stdout",
     "output_type": "stream",
     "text": [
      "accuracy: 0.8372093023255814\n",
      "precision: 0.8709677419354839\n",
      "recall: 0.9\n",
      "f1: 0.8852459016393442\n",
      "roc_auc: 0.9051282051282051\n"
     ]
    }
   ],
   "source": [
    "model_rf = RandomForestClassifier(n_estimators = 894, max_depth = 18, min_samples_split = 4, min_samples_leaf = 2, bootstrap = False)\n",
    "model_rf.fit(X_train_smote, y_train_smote)\n",
    "\n",
    "y_pred_rf = model_rf.predict(X_test_encoded)\n",
    "y_pred_proba_rf = model_rf.predict_proba(X_test_encoded)[:, 1]\n",
    "\n",
    "print(f'accuracy: {accuracy_score(y_test_encoded, y_pred_rf)}')\n",
    "print(f'precision: {precision_score(y_test_encoded, y_pred_rf)}')\n",
    "print(f'recall: {recall_score(y_test_encoded, y_pred_rf)}')\n",
    "print(f'f1: {f1_score(y_test_encoded, y_pred_rf)}')\n",
    "print(f'roc_auc: {roc_auc_score(y_test_encoded, y_pred_proba_rf)}')"
   ]
  },
  {
   "cell_type": "markdown",
   "id": "d9d6e377-c456-46b3-a394-8dcac9f3f176",
   "metadata": {},
   "source": [
    "#### 4. Анализ метрик Accuracy, Precision, Recall, F1, RPC-AUC.\n",
    "\n",
    "Для каждой модели кроме Randomforestclassifier presision выше чем recall. Высокий precision говорит о низком шансе нахождения false positive. Лучшие показатели у модели Logistic regression с показателями - \n",
    "\n",
    "accuracy: 0.8604651162790697\n",
    "precision: 0.9615384615384616\n",
    "recall: 0.8333333333333334\n",
    "f1: 0.8928571428571429\n",
    "roc_auc: 0.9538461538461539"
   ]
  },
  {
   "cell_type": "markdown",
   "id": "5270153b-2cd9-423f-81c2-cb98089dfde4",
   "metadata": {},
   "source": [
    "#### 5. Выводы\n",
    "\n",
    "Мы получили высокие скоры +- во всех моделях, с небольшим дизбалансом между precision и recall. Для случаев где precision важнее, используем LogisticRegression. Если в приоритете recall, Используем RandomForestClassifier."
   ]
  },
  {
   "cell_type": "code",
   "execution_count": null,
   "id": "0f0893b7-6456-4930-9e24-06dfff1c207f",
   "metadata": {},
   "outputs": [],
   "source": []
  }
 ],
 "metadata": {
  "kernelspec": {
   "display_name": "Python 3 (ipykernel)",
   "language": "python",
   "name": "python3"
  },
  "language_info": {
   "codemirror_mode": {
    "name": "ipython",
    "version": 3
   },
   "file_extension": ".py",
   "mimetype": "text/x-python",
   "name": "python",
   "nbconvert_exporter": "python",
   "pygments_lexer": "ipython3",
   "version": "3.13.5"
  }
 },
 "nbformat": 4,
 "nbformat_minor": 5
}
